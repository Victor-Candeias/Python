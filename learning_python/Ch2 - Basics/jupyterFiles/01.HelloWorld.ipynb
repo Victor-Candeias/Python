{
 "cells": [
  {
   "cell_type": "markdown",
   "metadata": {},
   "source": [
    "<h1>\n",
    "    Learn Python\n",
    "</h1>"
   ]
  },
  {
   "cell_type": "markdown",
   "metadata": {},
   "source": [
    "<div>\n",
    "    <h2 style=\"color: yellow\">Building Hello World</h2>\n",
    "</div>"
   ]
  },
  {
   "cell_type": "markdown",
   "metadata": {},
   "source": [
    "So let's start off by printing out a hello world message, right, so I'm going to type print, and you can see that as I'm writing my code, right, visuals here in VS Code, I'm getting statement completion right as I'm typing, and that's because of the Python extension that we installed earlier."
   ]
  },
  {
   "cell_type": "code",
   "execution_count": 5,
   "metadata": {},
   "outputs": [
    {
     "name": "stdout",
     "output_type": "stream",
     "text": [
      "hello world!\n"
     ]
    }
   ],
   "source": [
    "print(\"hello world!\")"
   ]
  },
  {
   "cell_type": "markdown",
   "metadata": {},
   "source": [
    "So I'm going to write print and then I'm going to write Hello World, and that's pretty much it for that line. And then let's also have the user enter their name. So I'm going to write name equals input. And I'll write, what is your name? And then I'll print, nice to meet you. And then outside the closing quotes, I'm going to put a comma and then name."
   ]
  },
  {
   "cell_type": "code",
   "execution_count": 6,
   "metadata": {},
   "outputs": [
    {
     "name": "stdout",
     "output_type": "stream",
     "text": [
      "Nice to meet you, ggdgfg\n"
     ]
    }
   ],
   "source": [
    "name = input(\"What is your name? \")\n",
    "print(\"Nice to meet you,\", name)"
   ]
  },
  {
   "cell_type": "markdown",
   "metadata": {},
   "source": [
    "So I'm going to click on this little trashcan and get rid of this interpreter right here and what I'm going to do is define a function. We'll learn more about functions later in the chapter. So just bear with me for the moment. I'm going to write def, which defines a function, and I'm going to call the function main. And then I give it an open and closed parentheses and then a colon, right? Now, when I do that, you can see that this little red squiggle appears here. That means I'm getting an error. You can see it says expected indented block. So what I'm going to do is indent each of these lines under the function, main. So I'm going to hit the tab each time, okay? And it's important that all of these lines be indented using the same number of spaces. And you can see that I've got one, two, three, four spaces of intending. It doesn't matter if it's two or three or four, it doesn't matter. They all have to be the same. Now, again, I don't expect you to understand all of this right away, we're going to be going to this more deeply as the course goes on, but what I'm doing here is defining a function and that function contains our print and input statements. So I'm grouping all of these statements into one function that I can call elsewhere in my program."
   ]
  },
  {
   "cell_type": "markdown",
   "metadata": {},
   "source": [
    "The Python syntax is a little bit different than other languages you might be used to. So Python actually uses the indentation level of the lines of code to indicate where that code belongs. So, because under the definition for the main function, I've got each of these lines indented by four spaces that indicates to the Python interpreter that these lines of code belong to the function name. Alright, so now I need to add some code to actually execute the main function. So what I'm going to do is I'm going to write if__name and then double underscore again, is equal to, and then inside quotes, double underscore main, and then double underscore and then a colon. And then once again, I have to indent. I'm going to call main."
   ]
  },
  {
   "cell_type": "code",
   "execution_count": 7,
   "metadata": {},
   "outputs": [
    {
     "name": "stdout",
     "output_type": "stream",
     "text": [
      "Nice to meet you, yrtyrtyrt\n"
     ]
    }
   ],
   "source": [
    "def main():\n",
    "    name = input(\"What is your name? \")\n",
    "    print(\"Nice to meet you,\", name)\n",
    "    \n",
    "if __name__ == \"__main__\":\n",
    "    main()"
   ]
  },
  {
   "cell_type": "markdown",
   "metadata": {},
   "source": [
    "So why do we need to do this, and what does it do? So unlike in C Sharp or Java or other programming languages, Python does not automatically look for a specific function when the program starts. So what's happening here is this line of code right here, line 11, is checking to see that this module, this file of Python code is loaded and the interpreter has assigned the double underscore name variable, the value of main. That means that this Python program was executed as a main program. It was started from the command line or invoked from the Python executable somehow and therefore this function right here, the main function should be called. Now, the reason I need to do this is because Python code can be used multiple ways. My code in this file can be run as its own program, but I could also build a reusable module that can be included inside of other Python programs. So if I were using this code in another program, I wouldn't want all this code to just start running when it was imported into the other program, because that would cause problems. So lines 11 and 12 helped distinguish between when a Python file is being included in another program, or when that Python code is being executed as its own program. So in this case, the file is being executed as a program and this, if condition right here, will evaluate to true, and then the main function will be called. All right, so once again, let's save and I'm going to go ahead and right click and choose run Python file in the terminal. And you can see that we are getting the output just as we would expect."
   ]
  }
 ],
 "metadata": {
  "kernelspec": {
   "display_name": "Python 3",
   "language": "python",
   "name": "python3"
  },
  "language_info": {
   "codemirror_mode": {
    "name": "ipython",
    "version": 3
   },
   "file_extension": ".py",
   "mimetype": "text/x-python",
   "name": "python",
   "nbconvert_exporter": "python",
   "pygments_lexer": "ipython3",
   "version": "3.12.4"
  },
  "polyglot_notebook": {
   "kernelInfo": {
    "defaultKernelName": "csharp",
    "items": [
     {
      "aliases": [],
      "name": "csharp"
     }
    ]
   }
  }
 },
 "nbformat": 4,
 "nbformat_minor": 2
}
