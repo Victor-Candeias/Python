{
 "cells": [
  {
   "cell_type": "markdown",
   "metadata": {},
   "source": [
    "<h1>\n",
    "    Learn Python\n",
    "</h1>"
   ]
  },
  {
   "cell_type": "markdown",
   "metadata": {},
   "source": [
    "<div>\n",
    "    <h2 style=\"color: yellow\">Variables and expressions</h2>\n",
    "</div>"
   ]
  },
  {
   "cell_type": "markdown",
   "metadata": {},
   "source": [
    "<h3 style=\"color: lightblue\">Basic data types in Python: Numbers, Strings, Booleans, Sequences, Dictionaries</h3>"
   ]
  },
  {
   "cell_type": "markdown",
   "metadata": {},
   "source": [
    "Let's take a look at how the Python language works with variables and data types. So in my editor, I'm going to open up the variables_start file. And there are five major data types in Python. There are numbers such as integers and floating point values. Strings, which are a collection of characters. Boolean values, which can be either true or false. Sequence types, such as lists and a data type called tuples which are immutable. I mean, the can't be changed. And dictionaries, which map unique keys to specific values."
   ]
  },
  {
   "cell_type": "code",
   "execution_count": 16,
   "metadata": {},
   "outputs": [],
   "source": [
    "# Basic data types in Python: Numbers, Strings, Booleans, Sequences, Dictionaries\n",
    "myint = 5\n",
    "myfloat = 13.2\n",
    "mystr = \"This is a string\"\n",
    "mybool = True\n",
    "mylist = [0, 1, \"two\", 3.2, False]\n",
    "mytuple = (0, 1, 2)\n",
    "mydict = {\"one\" : 1, \"two\" : 2}"
   ]
  },
  {
   "cell_type": "markdown",
   "metadata": {},
   "source": [
    "And so you can see here, I have defined a set of variables that represent each of these data types. And I have a set of print statements that print each of these values. So before we do anything else, let's just go ahead and run what we already have."
   ]
  },
  {
   "cell_type": "code",
   "execution_count": 17,
   "metadata": {},
   "outputs": [
    {
     "name": "stdout",
     "output_type": "stream",
     "text": [
      "myint= 5\n",
      "myfloat= 13.2\n",
      "mystr= This is a string\n",
      "mybool= True\n",
      "mylist= [0, 1, 'two', 3.2, False]\n",
      "mytuple= (0, 1, 2)\n",
      "mydict= {'one': 1, 'two': 2}\n"
     ]
    }
   ],
   "source": [
    "# Basic data types in Python: Numbers, Strings, Booleans, Sequences, Dictionaries\n",
    "print(\"myint=\", myint)\n",
    "print(\"myfloat=\", myfloat)\n",
    "print(\"mystr=\", mystr)\n",
    "print(\"mybool=\", mybool)\n",
    "print(\"mylist=\", mylist)\n",
    "print(\"mytuple=\", mytuple)\n",
    "print(\"mydict=\", mydict)"
   ]
  },
  {
   "cell_type": "markdown",
   "metadata": {},
   "source": [
    "You can see that the output contains the values of each of the variables that we've defined so far. All right, so far so good."
   ]
  },
  {
   "cell_type": "markdown",
   "metadata": {},
   "source": [
    "I'm going to to write myint = abc. Okay, and then I'll print(myint). So now I've got myint = abc. So basically I'm redeclaring the variable that was declared up here previously as a number. So now I'm declaring it as a string. "
   ]
  },
  {
   "cell_type": "code",
   "execution_count": 18,
   "metadata": {},
   "outputs": [
    {
     "name": "stdout",
     "output_type": "stream",
     "text": [
      "myint= abc\n"
     ]
    }
   ],
   "source": [
    "# re-declaring a variable works\n",
    "myint = \"abc\"\n",
    "print (\"myint=\", myint)"
   ]
  },
  {
   "cell_type": "markdown",
   "metadata": {},
   "source": [
    "So let's go ahead and run this and you can see that it works. It started out as an integer, but now it's a string. So even if a variable has already been declared, you can redeclare it with a different type and that works just fine in Python."
   ]
  },
  {
   "cell_type": "markdown",
   "metadata": {},
   "source": [
    "Okay, let's take a moment to look at sequence types. So for sequence types like lists and tuples we can access individual values using a square bracket notation with the index of the item that we want starting from zero. \n",
    "So to take an example, if I wanted to access the third item of my list, I would write something like this. I would write print(mylist) and then remember it's a zero-based index. So I would use index two. \n",
    "And the second item of my tuple, for example, would be index one."
   ]
  },
  {
   "cell_type": "code",
   "execution_count": 19,
   "metadata": {},
   "outputs": [
    {
     "name": "stdout",
     "output_type": "stream",
     "text": [
      "two\n",
      "1\n"
     ]
    }
   ],
   "source": [
    "# to access a member of a sequence type, use []\n",
    "print(mylist[2])\n",
    "print(mytuple[1])"
   ]
  },
  {
   "cell_type": "markdown",
   "metadata": {},
   "source": [
    "And you can also use what's called the slice notation to access a subset of a sequence. So for example, if I wanted to get the first index here all the way to the end of my list, I would write something like this. So I'll print(mylist) and then we're going to write one and then colon, and then the number five. So basically the two indexes that I want to get a subset from and slices also take a third optional parameter, which is what's called the step value. In other words, it's how many items to skip over. So for example, to get the second through the fifth items in my list, while skipping every second one, I could write something like this. Let me just copy this and paste it. So basically this is the start index, the end index and the step value."
   ]
  },
  {
   "cell_type": "code",
   "execution_count": 20,
   "metadata": {},
   "outputs": [
    {
     "name": "stdout",
     "output_type": "stream",
     "text": [
      "[1, 'two', 3.2, False]\n",
      "[1, 3.2]\n"
     ]
    }
   ],
   "source": [
    "# use slices to get parts of a sequence\n",
    "print(mylist[1:5])\n",
    "print(mylist[1:4:2])"
   ]
  },
  {
   "cell_type": "markdown",
   "metadata": {},
   "source": [
    "All right, so let's go ahead and save and let's run. \n",
    "And now you can see that we're getting, let's go ahead and scroll that up. \n",
    "All right, so we have the third item in my list. The second item, which is the next one of my tuple. Here we have items one through the end, right? So this is the second, third, fourth, and fifth item in my list. And this is the second and fourth item because we're skipping every second one in my list using the step value."
   ]
  },
  {
   "cell_type": "markdown",
   "metadata": {},
   "source": [
    "All right, let's keep on going. So what's interesting is you can use the slice notation to actually reverse a sequence. So there's a neat little trick you can do. I'm going to print my list and then inside the square brackets, I'm just going to put two colons and then a minus one. So I'm not specifying a start value. I'm not specifying an end value. So it's going to be the default start and the default end, which is the entire sequence. And then the step value is going to be minus one. So this is actually going go reverse the sequence. So if we save and we run, you can see that now here's the original sequence. And here is in reverse order just by using the trick right here to do the minus step."
   ]
  },
  {
   "cell_type": "code",
   "execution_count": 21,
   "metadata": {},
   "outputs": [
    {
     "name": "stdout",
     "output_type": "stream",
     "text": [
      "[False, 3.2, 'two', 1, 0]\n"
     ]
    }
   ],
   "source": [
    "# you can use slices to reverse a sequence\n",
    "print(mylist[::-1])"
   ]
  },
  {
   "cell_type": "markdown",
   "metadata": {},
   "source": [
    "All right, dictionaries are a little bit different. Dictionaries don't work with indexes. What happens is you give them the key of the item that you want, and they return the value associated with that key. So if we scroll back up and we look at the dictionary here, we can see that these string one maps to the value one here and the string two maps to the value two. Now in dictionaries, the keys have to be unique values, but the values don't have to be unique. \n",
    "So if I want it to retrieve the value associated with this key of one right here, what I would do is write something like this, I'm going to print out mydict and it's going to be inside quotes the key of one."
   ]
  },
  {
   "cell_type": "code",
   "execution_count": 22,
   "metadata": {},
   "outputs": [
    {
     "name": "stdout",
     "output_type": "stream",
     "text": [
      "1\n"
     ]
    }
   ],
   "source": [
    "# dictionaries are accessed via keys\n",
    "print(mydict[\"one\"]) "
   ]
  },
  {
   "cell_type": "markdown",
   "metadata": {},
   "source": [
    "So let's go ahead and run that. And you can see that the key of one maps to the number one."
   ]
  },
  {
   "cell_type": "markdown",
   "metadata": {},
   "source": [
    "Let's see what happens when I try to combine two different data types. \n",
    "I'm going to print a string type and then we're going to use the plus operator with the number 123. "
   ]
  },
  {
   "cell_type": "code",
   "execution_count": 23,
   "metadata": {},
   "outputs": [
    {
     "ename": "TypeError",
     "evalue": "can only concatenate str (not \"int\") to str",
     "output_type": "error",
     "traceback": [
      "\u001b[1;31m---------------------------------------------------------------------------\u001b[0m",
      "\u001b[1;31mTypeError\u001b[0m                                 Traceback (most recent call last)",
      "Cell \u001b[1;32mIn[23], line 2\u001b[0m\n\u001b[0;32m      1\u001b[0m \u001b[38;5;66;03m# ERROR: variables of different types cannot be combined\u001b[39;00m\n\u001b[1;32m----> 2\u001b[0m \u001b[38;5;28mprint\u001b[39m (\u001b[38;5;124;43m\"\u001b[39;49m\u001b[38;5;124;43mstring type \u001b[39;49m\u001b[38;5;124;43m\"\u001b[39;49m\u001b[43m \u001b[49m\u001b[38;5;241;43m+\u001b[39;49m\u001b[43m \u001b[49m\u001b[38;5;241;43m123\u001b[39;49m)\n",
      "\u001b[1;31mTypeError\u001b[0m: can only concatenate str (not \"int\") to str"
     ]
    }
   ],
   "source": [
    "# ERROR: variables of different types cannot be combined\n",
    "print (\"string type \" + 123)"
   ]
  },
  {
   "cell_type": "markdown",
   "metadata": {},
   "source": [
    "I'll try to run it and you can see that I'm getting an error. And right here, you can see specifically, I'm getting a type error."
   ]
  },
  {
   "cell_type": "markdown",
   "metadata": {},
   "source": [
    "And this is happening because Python is what's called a strongly typed language. Even though you don't have to declare the type of a variable before you use it. So what happens is when Python goes to execute this code, right here, it infers a specific type for a value or a variable. So you can't go back and change the type or combine it with other types. So I've got a string and I've got a number which are two different types. I'm trying to combine them. And in Python, this doesn't work. You have to have all of the arguments, be the same type when concatenating a string like this."
   ]
  },
  {
   "cell_type": "markdown",
   "metadata": {},
   "source": [
    "So let's make an adjustment. I'm going to use the str function to convert the number into a string. So what I'm doing here is using this built in function in Python called str. And that's going to convert this integer into a string. So that way I'll have a string plus another string. And that works just fine."
   ]
  },
  {
   "cell_type": "code",
   "execution_count": 24,
   "metadata": {},
   "outputs": [
    {
     "name": "stdout",
     "output_type": "stream",
     "text": [
      "string type 123\n"
     ]
    }
   ],
   "source": [
    "print (\"string type \" + str(123))"
   ]
  },
  {
   "cell_type": "markdown",
   "metadata": {},
   "source": [
    "And now you can see that that works just fine. It's printing out string type 123, just as we would expect."
   ]
  },
  {
   "cell_type": "markdown",
   "metadata": {},
   "source": [
    "Let's take a look at global versus local variables."
   ]
  },
  {
   "cell_type": "markdown",
   "metadata": {},
   "source": [
    "So I'll declare a function called somefunction and I'll have a variable called mystr and I'll assign it the value of def and then I'll print(mystr)."
   ]
  },
  {
   "cell_type": "markdown",
   "metadata": {},
   "source": [
    "And so I've got a myGlobalstr variable here. That's global, which is set to this is a string."
   ]
  },
  {
   "cell_type": "code",
   "execution_count": 27,
   "metadata": {},
   "outputs": [],
   "source": [
    "myGlobalstr = \"This is my str\""
   ]
  },
  {
   "cell_type": "markdown",
   "metadata": {},
   "source": [
    "And then I've got my local variable here, which is set to def."
   ]
  },
  {
   "cell_type": "code",
   "execution_count": 28,
   "metadata": {},
   "outputs": [],
   "source": [
    "# Global vs. local variables in functions\n",
    "def someFunction():\n",
    "    #global myGlobalstr\n",
    "    myGlobalstr = \"def\"\n",
    "    print(\"1.myGlobalstr=\", myGlobalstr)"
   ]
  },
  {
   "cell_type": "markdown",
   "metadata": {},
   "source": [
    "I'm going to call the function and then I'm going to print(myGlobalstr). So let's go ahead and run and watch what happens."
   ]
  },
  {
   "cell_type": "code",
   "execution_count": 29,
   "metadata": {},
   "outputs": [
    {
     "name": "stdout",
     "output_type": "stream",
     "text": [
      "1.myGlobalstr= def\n",
      "2.myGlobalstr= This is my str\n"
     ]
    }
   ],
   "source": [
    "# Global vs. local variables in functions\n",
    "someFunction()\n",
    "print(\"2.myGlobalstr=\", myGlobalstr)"
   ]
  },
  {
   "cell_type": "markdown",
   "metadata": {},
   "source": [
    "So you can see that when I run this, the value gets printed def, which is inside the function. But even though I've reassigned the value of mystr to def, once we get outside the function, it's back to being, this is a string again."
   ]
  },
  {
   "cell_type": "markdown",
   "metadata": {},
   "source": [
    "Now that's because when you're inside a function definition, the function gets its own local copy of whatever variables you declare inside the function. So this variable mystr right here that's is different than the global one, that's defined up at the top."
   ]
  },
  {
   "cell_type": "markdown",
   "metadata": {},
   "source": [
    "Now, if I actually want to affect the value of the global variable, I have to tell the function that there is a global variable named mystr, and that's the value it should make changes to. So what I'm going to do is I'm going to write the word global, and then I'm going to use the variable name of mystr. So the global statement with the name of the variable indicates to Python that this variable exists in the global namespace and is declared somewhere else."
   ]
  },
  {
   "cell_type": "code",
   "execution_count": 30,
   "metadata": {},
   "outputs": [],
   "source": [
    "# Global vs. local variables in functions\n",
    "def someFunction():\n",
    "    global myGlobalstr\n",
    "    myGlobalstr = \"def\"\n",
    "    print(\"1.myGlobalstr=\", myGlobalstr)"
   ]
  },
  {
   "cell_type": "markdown",
   "metadata": {},
   "source": [
    "So now you can see the def is being printed twice. And the reason is because now I'm affecting the global value outside the function, because I've told Python, hey, that's a global variable. When I changed the value, it's going to affect the variable globally."
   ]
  },
  {
   "cell_type": "code",
   "execution_count": 31,
   "metadata": {},
   "outputs": [
    {
     "name": "stdout",
     "output_type": "stream",
     "text": [
      "1.myGlobalstr= def\n",
      "2.myGlobalstr= def\n"
     ]
    }
   ],
   "source": [
    "# Global vs. local variables in functions\n",
    "someFunction()\n",
    "print(\"2.myGlobalstr=\", myGlobalstr)"
   ]
  },
  {
   "cell_type": "markdown",
   "metadata": {},
   "source": [
    "asddsI'm going to write del mystr, and then I'll try to print it again. \n",
    "The dels statement deletes the definition of a variable that was previously declared. So when I get to this line here, print mystr there should be a problem. It should give me an error because that variable is gone now. "
   ]
  },
  {
   "cell_type": "code",
   "execution_count": 32,
   "metadata": {},
   "outputs": [
    {
     "ename": "NameError",
     "evalue": "name 'myGlobalstr' is not defined",
     "output_type": "error",
     "traceback": [
      "\u001b[1;31m---------------------------------------------------------------------------\u001b[0m",
      "\u001b[1;31mNameError\u001b[0m                                 Traceback (most recent call last)",
      "Cell \u001b[1;32mIn[32], line 3\u001b[0m\n\u001b[0;32m      1\u001b[0m \u001b[38;5;66;03m# delete the var\u001b[39;00m\n\u001b[0;32m      2\u001b[0m \u001b[38;5;28;01mdel\u001b[39;00m myGlobalstr\n\u001b[1;32m----> 3\u001b[0m \u001b[38;5;28mprint\u001b[39m(\u001b[38;5;124m\"\u001b[39m\u001b[38;5;124m3.myGlobalstr=\u001b[39m\u001b[38;5;124m\"\u001b[39m, \u001b[43mmyGlobalstr\u001b[49m)\n",
      "\u001b[1;31mNameError\u001b[0m: name 'myGlobalstr' is not defined"
     ]
    }
   ],
   "source": [
    "# delete the var\n",
    "del myGlobalstr\n",
    "print(\"3.myGlobalstr=\", myGlobalstr)"
   ]
  }
 ],
 "metadata": {
  "kernelspec": {
   "display_name": "Python 3",
   "language": "python",
   "name": "python3"
  },
  "language_info": {
   "codemirror_mode": {
    "name": "ipython",
    "version": 3
   },
   "file_extension": ".py",
   "mimetype": "text/x-python",
   "name": "python",
   "nbconvert_exporter": "python",
   "pygments_lexer": "ipython3",
   "version": "3.12.4"
  },
  "polyglot_notebook": {
   "kernelInfo": {
    "defaultKernelName": "csharp",
    "items": [
     {
      "aliases": [],
      "name": "csharp"
     }
    ]
   }
  }
 },
 "nbformat": 4,
 "nbformat_minor": 2
}
