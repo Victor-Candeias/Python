{
 "cells": [
  {
   "cell_type": "markdown",
   "metadata": {},
   "source": [
    "<h1>\n",
    "    Learn Python\n",
    "</h1>"
   ]
  },
  {
   "cell_type": "markdown",
   "metadata": {},
   "source": [
    "<div>\n",
    "    <h2 style=\"color: yellow\">Basics - Variables</h2>\n",
    "</div>"
   ]
  },
  {
   "cell_type": "markdown",
   "metadata": {},
   "source": [
    "<h3 style=\"color: lightblue\">Basic data types in Python: Numbers, Strings, Booleans, Sequences, Dictionaries</h3>"
   ]
  },
  {
   "cell_type": "code",
   "execution_count": null,
   "metadata": {},
   "outputs": [],
   "source": [
    "# Basic data types in Python: Numbers, Strings, Booleans, Sequences, Dictionaries\n",
    "myint = 5\n",
    "myfloat = 13.2\n",
    "mystr = \"This is a string\"\n",
    "mybool = True\n",
    "mylist = [0, 1, \"two\", 3.2, False]\n",
    "mytuple = (0, 1, 2)\n",
    "mydict = {\"one\" : 1, \"two\" : 2}\n",
    "\n",
    "print(\"myint=\", myint)\n",
    "print(\"myfloat=\", myfloat)\n",
    "print(\"mystr=\", mystr)\n",
    "print(\"mybool=\", mybool)\n",
    "print(\"mylist=\", mylist)\n",
    "print(\"mytuple=\", mytuple)\n",
    "print(\"mydict=\", mydict)"
   ]
  },
  {
   "cell_type": "code",
   "execution_count": null,
   "metadata": {},
   "outputs": [],
   "source": [
    "# re-declaring a variable works\n",
    "myint = \"abc\"\n",
    "print (\"myint=\", myint)"
   ]
  },
  {
   "cell_type": "code",
   "execution_count": null,
   "metadata": {},
   "outputs": [],
   "source": [
    "# to access a member of a sequence type, use []\n",
    "print(mylist[2])\n",
    "print(mytuple[1])\n",
    "\n",
    "# use slices to get parts of a sequence\n",
    "print(mylist[1:4:2])\n",
    "\n",
    "# you can use slices to reverse a sequence\n",
    "print(mylist[::-1])\n",
    "\n",
    "# dictionaries are accessed via keys\n",
    "print(mydict[\"one\"]) "
   ]
  },
  {
   "cell_type": "code",
   "execution_count": null,
   "metadata": {},
   "outputs": [],
   "source": [
    "# ERROR: variables of different types cannot be combined\n",
    "print (\"string type \" + 123)\n",
    "\n",
    "print (\"string type \" + str(123))"
   ]
  },
  {
   "cell_type": "code",
   "execution_count": null,
   "metadata": {},
   "outputs": [],
   "source": [
    "# Global vs. local variables in functions\n",
    "def someFunction():\n",
    "    #global mystr\n",
    "    mystr = \"def\"\n",
    "    print(\"1.mystr=\", mystr)\n",
    "\n",
    "someFunction()\n",
    "print(\"2.mystr=\", mystr)\n",
    "\n",
    "# delete the var\n",
    "del mystr\n",
    "print(\"3.mystr=\", mystr)"
   ]
  }
 ],
 "metadata": {
  "kernelspec": {
   "display_name": "Python 3",
   "language": "python",
   "name": "python3"
  },
  "language_info": {
   "codemirror_mode": {
    "name": "ipython",
    "version": 3
   },
   "file_extension": ".py",
   "mimetype": "text/x-python",
   "name": "python",
   "nbconvert_exporter": "python",
   "pygments_lexer": "ipython3",
   "version": "3.12.4"
  },
  "polyglot_notebook": {
   "kernelInfo": {
    "defaultKernelName": "csharp",
    "items": [
     {
      "aliases": [],
      "name": "csharp"
     }
    ]
   }
  }
 },
 "nbformat": 4,
 "nbformat_minor": 2
}
