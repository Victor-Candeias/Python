{
 "cells": [
  {
   "cell_type": "markdown",
   "metadata": {},
   "source": [
    "<h1>\n",
    "    Learn Python\n",
    "</h1>"
   ]
  },
  {
   "cell_type": "markdown",
   "metadata": {},
   "source": [
    "<div>\n",
    "    <h2 style=\"color: yellow\">Basics - Variables</h2>\n",
    "</div>"
   ]
  },
  {
   "cell_type": "markdown",
   "metadata": {},
   "source": [
    "<h3 style=\"color: lightblue\">Basic data types in Python: Numbers, Strings, Booleans, Sequences, Dictionaries</h3>"
   ]
  },
  {
   "cell_type": "code",
   "execution_count": 21,
   "metadata": {},
   "outputs": [
    {
     "name": "stdout",
     "output_type": "stream",
     "text": [
      "myint= 5\n",
      "myfloat= 13.2\n",
      "mystr= This is a string\n",
      "mybool= True\n",
      "mylist= [0, 1, 'two', 3.2, False]\n",
      "mytuple= (0, 1, 2)\n",
      "mydict= {'one': 1, 'two': 2}\n"
     ]
    }
   ],
   "source": [
    "# Basic data types in Python: Numbers, Strings, Booleans, Sequences, Dictionaries\n",
    "myint = 5\n",
    "myfloat = 13.2\n",
    "mystr = \"This is a string\"\n",
    "mybool = True\n",
    "mylist = [0, 1, \"two\", 3.2, False]\n",
    "mytuple = (0, 1, 2)\n",
    "mydict = {\"one\" : 1, \"two\" : 2}\n",
    "\n",
    "print(\"myint=\", myint)\n",
    "print(\"myfloat=\", myfloat)\n",
    "print(\"mystr=\", mystr)\n",
    "print(\"mybool=\", mybool)\n",
    "print(\"mylist=\", mylist)\n",
    "print(\"mytuple=\", mytuple)\n",
    "print(\"mydict=\", mydict)"
   ]
  },
  {
   "cell_type": "code",
   "execution_count": 22,
   "metadata": {},
   "outputs": [
    {
     "name": "stdout",
     "output_type": "stream",
     "text": [
      "myint= abc\n"
     ]
    }
   ],
   "source": [
    "# re-declaring a variable works\n",
    "myint = \"abc\"\n",
    "print (\"myint=\", myint)"
   ]
  },
  {
   "cell_type": "code",
   "execution_count": 23,
   "metadata": {},
   "outputs": [
    {
     "name": "stdout",
     "output_type": "stream",
     "text": [
      "two\n",
      "1\n",
      "[1, 3.2]\n",
      "[False, 3.2, 'two', 1, 0]\n",
      "1\n"
     ]
    }
   ],
   "source": [
    "# to access a member of a sequence type, use []\n",
    "print(mylist[2])\n",
    "print(mytuple[1])\n",
    "\n",
    "# use slices to get parts of a sequence\n",
    "print(mylist[1:4:2])\n",
    "\n",
    "# you can use slices to reverse a sequence\n",
    "print(mylist[::-1])\n",
    "\n",
    "# dictionaries are accessed via keys\n",
    "print(mydict[\"one\"]) "
   ]
  },
  {
   "cell_type": "code",
   "execution_count": 24,
   "metadata": {},
   "outputs": [
    {
     "ename": "TypeError",
     "evalue": "can only concatenate str (not \"int\") to str",
     "output_type": "error",
     "traceback": [
      "\u001b[1;31m---------------------------------------------------------------------------\u001b[0m",
      "\u001b[1;31mTypeError\u001b[0m                                 Traceback (most recent call last)",
      "Cell \u001b[1;32mIn[24], line 2\u001b[0m\n\u001b[0;32m      1\u001b[0m \u001b[38;5;66;03m# ERROR: variables of different types cannot be combined\u001b[39;00m\n\u001b[1;32m----> 2\u001b[0m \u001b[38;5;28mprint\u001b[39m (\u001b[38;5;124;43m\"\u001b[39;49m\u001b[38;5;124;43mstring type \u001b[39;49m\u001b[38;5;124;43m\"\u001b[39;49m\u001b[43m \u001b[49m\u001b[38;5;241;43m+\u001b[39;49m\u001b[43m \u001b[49m\u001b[38;5;241;43m123\u001b[39;49m)\n\u001b[0;32m      4\u001b[0m \u001b[38;5;28mprint\u001b[39m (\u001b[38;5;124m\"\u001b[39m\u001b[38;5;124mstring type \u001b[39m\u001b[38;5;124m\"\u001b[39m \u001b[38;5;241m+\u001b[39m \u001b[38;5;28mstr\u001b[39m(\u001b[38;5;241m123\u001b[39m))\n",
      "\u001b[1;31mTypeError\u001b[0m: can only concatenate str (not \"int\") to str"
     ]
    }
   ],
   "source": [
    "# ERROR: variables of different types cannot be combined\n",
    "print (\"string type \" + 123)\n",
    "\n",
    "print (\"string type \" + str(123))"
   ]
  },
  {
   "cell_type": "code",
   "execution_count": 25,
   "metadata": {},
   "outputs": [
    {
     "name": "stdout",
     "output_type": "stream",
     "text": [
      "1.mystr= def\n",
      "2.mystr= This is a string\n"
     ]
    },
    {
     "ename": "NameError",
     "evalue": "name 'mystr' is not defined",
     "output_type": "error",
     "traceback": [
      "\u001b[1;31m---------------------------------------------------------------------------\u001b[0m",
      "\u001b[1;31mNameError\u001b[0m                                 Traceback (most recent call last)",
      "Cell \u001b[1;32mIn[25], line 11\u001b[0m\n\u001b[0;32m      8\u001b[0m \u001b[38;5;28mprint\u001b[39m(\u001b[38;5;124m\"\u001b[39m\u001b[38;5;124m2.mystr=\u001b[39m\u001b[38;5;124m\"\u001b[39m, mystr)\n\u001b[0;32m     10\u001b[0m \u001b[38;5;28;01mdel\u001b[39;00m mystr\n\u001b[1;32m---> 11\u001b[0m \u001b[38;5;28mprint\u001b[39m(\u001b[38;5;124m\"\u001b[39m\u001b[38;5;124m3.mystr=\u001b[39m\u001b[38;5;124m\"\u001b[39m, \u001b[43mmystr\u001b[49m)\n",
      "\u001b[1;31mNameError\u001b[0m: name 'mystr' is not defined"
     ]
    }
   ],
   "source": [
    "# Global vs. local variables in functions\n",
    "def someFunction():\n",
    "    #global mystr\n",
    "    mystr = \"def\"\n",
    "    print(\"1.mystr=\", mystr)\n",
    "\n",
    "someFunction()\n",
    "print(\"2.mystr=\", mystr)\n",
    "\n",
    "# delete the var\n",
    "del mystr\n",
    "print(\"3.mystr=\", mystr)"
   ]
  }
 ],
 "metadata": {
  "kernelspec": {
   "display_name": "Python 3",
   "language": "python",
   "name": "python3"
  },
  "language_info": {
   "codemirror_mode": {
    "name": "ipython",
    "version": 3
   },
   "file_extension": ".py",
   "mimetype": "text/x-python",
   "name": "python",
   "nbconvert_exporter": "python",
   "pygments_lexer": "ipython3",
   "version": "3.12.4"
  },
  "polyglot_notebook": {
   "kernelInfo": {
    "defaultKernelName": "csharp",
    "items": [
     {
      "aliases": [],
      "name": "csharp"
     }
    ]
   }
  }
 },
 "nbformat": 4,
 "nbformat_minor": 2
}
