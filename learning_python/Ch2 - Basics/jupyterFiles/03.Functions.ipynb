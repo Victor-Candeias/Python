{
 "cells": [
  {
   "cell_type": "markdown",
   "metadata": {},
   "source": [
    "<h1>\n",
    "    Learn Python\n",
    "</h1>"
   ]
  },
  {
   "cell_type": "markdown",
   "metadata": {},
   "source": [
    "<div>\n",
    "    <h2 style=\"color: yellow\">Python functions</h2>\n",
    "</div>"
   ]
  },
  {
   "cell_type": "markdown",
   "metadata": {},
   "source": [
    "Most applications, regardless of the programming language that they are written in, are broken up into smaller blocks known as functions. And Python's no different. Functions give us a way of organizing our programs so that they are more understandable and modular.\n",
    "<p>In this example, we're going to take a look at how functions work in Python. "
   ]
  },
  {
   "cell_type": "markdown",
   "metadata": {},
   "source": [
    "So functions are defined with the def keyword, along with a name. So I'll name my function func1. And then I'll use open and close parentheses. \n",
    "And next comes a colon character. The colon indicates that you're starting the scope or body of a function. In other languages like Java and C, for example, use curly braces for this, but Python uses the colon and then white space indentation. \n",
    "So I'm going to add a print statement here. This is print. \"I am a function.\" \n",
    "So you can see that the print statement is indented by four spaces. And it's up to you how many spaces you want to indent your code. It can be four or three or two or eight. It doesn't really matter. The important point is that it has to be indented to indicate that the statements belong to the function. "
   ]
  },
  {
   "cell_type": "markdown",
   "metadata": {},
   "source": [
    "So down here at the bottom, let's add a few more lines of code. So we'll call the function by using its name and some parentheses. And then we'll print func1, again, using the parentheses. And then we'll print func1 just by itself with no parens."
   ]
  },
  {
   "cell_type": "code",
   "execution_count": null,
   "metadata": {},
   "outputs": [],
   "source": [
    "# define a basic function\n",
    "def func1():\n",
    "    print(\"I am a function\")\n",
    "    \n",
    "func1()\n",
    "print(func1())\n",
    "func1"
   ]
  },
  {
   "cell_type": "markdown",
   "metadata": {},
   "source": [
    "All right, so now let's go ahead and save and run, and let's watch what happens. Okay, so in the result, you can see that \"I am a function\" got printed, followed by the same strings as \"I am a function\" again, followed by the value of none. So what's happening is this. \n",
    "In the first case, the function is being called directly, which executes the contents of the function, causing the print statement to print the string. After all, that's what the function does. So that's simple enough. \n",
    "In the second case, the function is also being called inside the print statement. So the output is the same as the first case. But then the outer print statement executes. And since our function doesn't return a result, Python evaluates the return value to be the constant of none and prints that. So these two lines right here are both the result of this statement right here. So when func1 gets called, it prints out this string, but then the print function prints out the return value of the function. And since there is no return value, the value is none. "
   ]
  },
  {
   "cell_type": "markdown",
   "metadata": {},
   "source": [
    "In the last case, the function itself is not actually being executed, since we're not including the parentheses. We're just printing the value of the function definition itself, which evaluates to this string right here. That represents the function object that we've defined. So this demonstrates that functions themselves are objects that can be passed around to other pieces of Python code."
   ]
  },
  {
   "cell_type": "markdown",
   "metadata": {},
   "source": [
    "Now we're not going to do that right now, but it's interesting to know that functions, just like any other object in Python, are values. \n",
    "So let's define a function that takes some arguments. So once again, we'll use the def keyword. I'll call this one func2. And inside the parentheses, I'll have arg1 and arg2. Once again, we'll have my colon. And inside the function, I'll simply print arg1, separated by a space, and then arg2."
   ]
  },
  {
   "cell_type": "code",
   "execution_count": null,
   "metadata": {},
   "outputs": [],
   "source": [
    "# function that takes arguments\n",
    "def func2(arg1, arg2):\n",
    "    print(arg1, \" \", arg2)"
   ]
  },
  {
   "cell_type": "markdown",
   "metadata": {},
   "source": [
    "And then I'm going to define a function that actually returns a value. So I'll define a function named cube. And that takes one argument named x. And I'm going to use the return keyword to return a value. And I'm going to return x times x times x."
   ]
  },
  {
   "cell_type": "code",
   "execution_count": null,
   "metadata": {},
   "outputs": [],
   "source": [
    "# function that returns a value\n",
    "def cube(x):\n",
    "    return x*x*x"
   ]
  },
  {
   "cell_type": "markdown",
   "metadata": {},
   "source": [
    "So I'll call func2 with the values of 10 and 20. And then I'll print func2.\n",
    "And then I'll call print cube of 3.\n",
    "<p>I'm defining function two. Takes two arguments. And all it's going to do is print out the two arguments with a space between them. And then I have my function called cube, which takes a number and then returns that number multiplied by itself three times. So basically, it calculates the cube value of the number and returns it. "
   ]
  },
  {
   "cell_type": "code",
   "execution_count": null,
   "metadata": {},
   "outputs": [],
   "source": [
    "func2(10, 20)\n",
    "print(func2(10, 20))\n",
    "cube(3)"
   ]
  },
  {
   "cell_type": "markdown",
   "metadata": {},
   "source": [
    "Let's run this and you can see that on the first line, we've got 10 separated by space, and then 20. \n",
    "And then on the second line, similar to the first example, we've got 10, a space, and then 20. But again, there's no return value. So it's simply returns the value of none. \n",
    "And then for the cube function, we print the cube of 3, and get the value 27. Because three times three is nine, nine times three is 27. So in this case, the function does return a value and that's what gets printed."
   ]
  },
  {
   "cell_type": "markdown",
   "metadata": {},
   "source": [
    "I'm going to define a function that takes arguments and supplies a default value for one of the arguments."
   ]
  },
  {
   "cell_type": "markdown",
   "metadata": {},
   "source": [
    "So I'll define a function called power. And that's going to take an argument called num, and another argument called x. And I'm going to write x equals one. I'm supplying a default value in case it gets called without an argument for x. So inside, I'll have a local variable named result, and set that to one. And then I'm going to have a for loop. I'm going to have a loop that goes from i to the range specified by x. And we're going to have result equals result times the number. And then once that loop is over, we'll return the result. "
   ]
  },
  {
   "cell_type": "markdown",
   "metadata": {},
   "source": [
    "Now you notice here that I've got x equals one in the function definition. This assigns a default value for that argument."
   ]
  },
  {
   "cell_type": "code",
   "execution_count": null,
   "metadata": {},
   "outputs": [],
   "source": [
    "# function with default value for an argument\n",
    "def power(num, x=1):\n",
    "    result = 1\n",
    "    for i in range(x):\n",
    "        result = result * num\n",
    "    return result"
   ]
  },
  {
   "cell_type": "markdown",
   "metadata": {},
   "source": [
    "So I'm going to print power of two, just by itself. And then I'll print power of two, and I'll pass in the value of three for the second argument."
   ]
  },
  {
   "cell_type": "markdown",
   "metadata": {},
   "source": [
    "So in the first example, I'm calling the function power, but not giving it a value for x. So x is going to default to one. And then the next call calls the function with num equals two, and X equals to three."
   ]
  },
  {
   "cell_type": "markdown",
   "metadata": {},
   "source": [
    "You can see that two raised to the first power is two. And then two raised to the third power is eight."
   ]
  },
  {
   "cell_type": "markdown",
   "metadata": {},
   "source": [
    "What I'm going to do now is write print, power. And in this case, I'm going to reverse the arguments. I'm going to say x equals three, and then num equals two. So in this case, I'm reversing the order in which the arguments are called. So Python lets you call functions with their parameters being named along with the value. So when you do this, the Python interpreter figures out which to supply the values to."
   ]
  },
  {
   "cell_type": "markdown",
   "metadata": {},
   "source": [
    "So you don't have to call the function with the arguments in a particular order, as long as you supply the names along with the values. "
   ]
  },
  {
   "cell_type": "code",
   "execution_count": null,
   "metadata": {},
   "outputs": [],
   "source": [
    "print(power(x=3, num=2))"
   ]
  },
  {
   "cell_type": "markdown",
   "metadata": {},
   "source": [
    "So you can see that in this example, we get two raised to the third power in both cases. So the answer is eight in both cases."
   ]
  },
  {
   "cell_type": "markdown",
   "metadata": {},
   "source": [
    "I'm going to define a function that takes a variable number of arguments. So I'm going to define a function, and it's going to be called multi_add. And the arguments are going to start with a star. And then I'm going to call the arguments args. Then I'll have my colon, and I'll have a local variable named result. I'll initialize that to zero. Once again, I'll have a loop. So for x in the args, I'm going to write result equals result plus x. And then I'll return the result."
   ]
  },
  {
   "cell_type": "markdown",
   "metadata": {},
   "source": [
    "So what I've done here is I've defined a function called multi_add. And the star character means I can pass in a variable number of arguments. So the function is going to loop over each one of the arguments, and add them all to a running total. And then that's going to be returned as the result."
   ]
  },
  {
   "cell_type": "code",
   "execution_count": null,
   "metadata": {},
   "outputs": [],
   "source": [
    "# function with variable number of arguments\n",
    "def multi_add(*args):\n",
    "    result = 0\n",
    "    for x in args:\n",
    "        result = result + x\n",
    "    return result"
   ]
  },
  {
   "cell_type": "markdown",
   "metadata": {},
   "source": [
    "zczxAnd then I'll print multi_add, and I'll pass in some numbers. See 4, 5, 10 and 4."
   ]
  },
  {
   "cell_type": "code",
   "execution_count": null,
   "metadata": {},
   "outputs": [],
   "source": [
    "print(multi_add(4, 5, 10, 4))"
   ]
  },
  {
   "cell_type": "markdown",
   "metadata": {},
   "source": [
    "And you can see that the result is 23. So I'll change the function call to include another parameter."
   ]
  },
  {
   "cell_type": "markdown",
   "metadata": {},
   "source": [
    "Let's add another 10 on there."
   ]
  },
  {
   "cell_type": "code",
   "execution_count": null,
   "metadata": {},
   "outputs": [],
   "source": [
    "print(multi_add(4, 5, 10, 4, 10))"
   ]
  },
  {
   "cell_type": "markdown",
   "metadata": {},
   "source": [
    "And now the result is 33."
   ]
  },
  {
   "cell_type": "markdown",
   "metadata": {},
   "source": [
    "So you can combine a variable argument list with a set of formal arguments, but just keep in mind that the variable argument list always has to be the last parameter. So I could do something like this."
   ]
  },
  {
   "cell_type": "markdown",
   "metadata": {},
   "source": [
    "I could add arg1, but that has to be first."
   ]
  },
  {
   "cell_type": "markdown",
   "metadata": {},
   "source": [
    "I can have an argument that comes before the variable arguments, but all of my named parameters have to come before the variable argument list."
   ]
  },
  {
   "cell_type": "code",
   "execution_count": null,
   "metadata": {},
   "outputs": [],
   "source": [
    "# function with variable number of arguments\n",
    "def multi_add2(arg1, *args):\n",
    "    result = 0\n",
    "    for x in args:\n",
    "        result = result + x\n",
    "    return arg1 * result"
   ]
  },
  {
   "cell_type": "code",
   "execution_count": null,
   "metadata": {},
   "outputs": [],
   "source": [
    "multi_add2(10, 4, 5, 10, 4, 10)"
   ]
  }
 ],
 "metadata": {
  "kernelspec": {
   "display_name": "Python 3",
   "language": "python",
   "name": "python3"
  },
  "language_info": {
   "codemirror_mode": {
    "name": "ipython",
    "version": 3
   },
   "file_extension": ".py",
   "mimetype": "text/x-python",
   "name": "python",
   "nbconvert_exporter": "python",
   "pygments_lexer": "ipython3",
   "version": "3.12.4"
  },
  "polyglot_notebook": {
   "kernelInfo": {
    "defaultKernelName": "csharp",
    "items": [
     {
      "aliases": [],
      "name": "csharp"
     }
    ]
   }
  }
 },
 "nbformat": 4,
 "nbformat_minor": 2
}
