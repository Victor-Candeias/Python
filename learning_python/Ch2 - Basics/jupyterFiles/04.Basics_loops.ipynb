{
 "cells": [
  {
   "cell_type": "markdown",
   "metadata": {},
   "source": [
    "<h1>\n",
    "    Learn Python\n",
    "</h1>"
   ]
  },
  {
   "cell_type": "markdown",
   "metadata": {},
   "source": [
    "<div>\n",
    "    <h2 style=\"color: yellow\">Basics - Loops</h2>\n",
    "</div>"
   ]
  },
  {
   "cell_type": "code",
   "execution_count": 14,
   "metadata": {},
   "outputs": [
    {
     "name": "stdout",
     "output_type": "stream",
     "text": [
      "x = 0\n"
     ]
    }
   ],
   "source": [
    "# start var\n",
    "x = 0\n",
    "print(\"x =\", x)"
   ]
  },
  {
   "cell_type": "markdown",
   "metadata": {},
   "source": [
    "<h3 style=\"color: lightblue\">while loop</h3>"
   ]
  },
  {
   "cell_type": "code",
   "execution_count": 15,
   "metadata": {},
   "outputs": [
    {
     "name": "stdout",
     "output_type": "stream",
     "text": [
      "x 0\n",
      "x 1\n",
      "x 2\n",
      "x 3\n",
      "x 4\n",
      "x end 5\n"
     ]
    }
   ],
   "source": [
    "# define a while loop\n",
    "while (x < 5):\n",
    "    print(\"x\",x)\n",
    "    x = x + 1\n",
    "    \n",
    "print(\"x end\",x)"
   ]
  },
  {
   "cell_type": "markdown",
   "metadata": {},
   "source": [
    "<h3 style=\"color: lightblue\">for loop</h3>"
   ]
  },
  {
   "cell_type": "code",
   "execution_count": 16,
   "metadata": {},
   "outputs": [
    {
     "name": "stdout",
     "output_type": "stream",
     "text": [
      "x 5\n",
      "x 6\n",
      "x 7\n",
      "x 8\n",
      "x 9\n",
      "x end 9\n"
     ]
    }
   ],
   "source": [
    "# define a for loop\n",
    "for x in range(5,10):\n",
    "    print (\"x\", x)\n",
    "    \n",
    "print(\"x end\", x)"
   ]
  },
  {
   "cell_type": "markdown",
   "metadata": {},
   "source": [
    "<h3 style=\"color: lightblue\">for loop over a collection</h3>"
   ]
  },
  {
   "cell_type": "code",
   "execution_count": 17,
   "metadata": {},
   "outputs": [
    {
     "name": "stdout",
     "output_type": "stream",
     "text": [
      "d Mon\n",
      "d Tue\n",
      "d Wed\n",
      "d Thu\n",
      "d Fri\n",
      "d Sat\n",
      "d Sun\n"
     ]
    }
   ],
   "source": [
    "# use a for loop over a collection\n",
    "days = [\"Mon\",\"Tue\",\"Wed\",\"Thu\",\"Fri\",\"Sat\",\"Sun\"]\n",
    "for d in days:\n",
    "    print (\"d\", d)"
   ]
  },
  {
   "cell_type": "markdown",
   "metadata": {},
   "source": [
    "<h3 style=\"color: lightblue\">break and continue statements</h3>"
   ]
  },
  {
   "cell_type": "code",
   "execution_count": 18,
   "metadata": {},
   "outputs": [
    {
     "name": "stdout",
     "output_type": "stream",
     "text": [
      "x 5\n"
     ]
    }
   ],
   "source": [
    "# use the break and continue statements\n",
    "for x in range(5,10):\n",
    "    if (x == 7): break\n",
    "    if (x % 2 == 0): continue\n",
    "    print (\"x\", x)"
   ]
  },
  {
   "cell_type": "markdown",
   "metadata": {},
   "source": [
    "<h3 style=\"color: lightblue\">enumerate() function to get index</h3>"
   ]
  },
  {
   "cell_type": "code",
   "execution_count": 19,
   "metadata": {},
   "outputs": [
    {
     "name": "stdout",
     "output_type": "stream",
     "text": [
      "i 0  d Mon\n",
      "i 1  d Tue\n",
      "i 2  d Wed\n",
      "i 3  d Thu\n",
      "i 4  d Fri\n",
      "i 5  d Sat\n",
      "i 6  d Sun\n"
     ]
    }
   ],
   "source": [
    "# using the enumerate() function to get index \n",
    "days = [\"Mon\",\"Tue\",\"Wed\",\"Thu\",\"Fri\",\"Sat\",\"Sun\"]\n",
    "for i, d in enumerate(days):\n",
    "    print(\"i\", i, \" d\", d)"
   ]
  }
 ],
 "metadata": {
  "kernelspec": {
   "display_name": "Python 3",
   "language": "python",
   "name": "python3"
  },
  "language_info": {
   "codemirror_mode": {
    "name": "ipython",
    "version": 3
   },
   "file_extension": ".py",
   "mimetype": "text/x-python",
   "name": "python",
   "nbconvert_exporter": "python",
   "pygments_lexer": "ipython3",
   "version": "3.12.4"
  },
  "polyglot_notebook": {
   "kernelInfo": {
    "defaultKernelName": "csharp",
    "items": [
     {
      "aliases": [],
      "name": "csharp"
     }
    ]
   }
  }
 },
 "nbformat": 4,
 "nbformat_minor": 2
}
