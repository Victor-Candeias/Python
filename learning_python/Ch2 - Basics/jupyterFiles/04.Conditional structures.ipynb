{
 "cells": [
  {
   "cell_type": "markdown",
   "metadata": {},
   "source": [
    "<h1>\n",
    "    Learn Python\n",
    "</h1>"
   ]
  },
  {
   "cell_type": "markdown",
   "metadata": {},
   "source": [
    "<div>\n",
    "    <h2 style=\"color: yellow\">Conditional structures</h2>\n",
    "</div>"
   ]
  },
  {
   "cell_type": "markdown",
   "metadata": {},
   "source": [
    "One of the most common operations of almost any program is making decisions. Your program will often need to compare different values and execute code based upon some logical outcome. And that's where conditional logic comes into play."
   ]
  },
  {
   "cell_type": "markdown",
   "metadata": {},
   "source": [
    "I've got two variables, X and Y, and they are 10 and 100 to start with."
   ]
  },
  {
   "cell_type": "code",
   "execution_count": null,
   "metadata": {},
   "outputs": [],
   "source": [
    "x, y = 10, 100"
   ]
  },
  {
   "cell_type": "markdown",
   "metadata": {},
   "source": [
    "So let's go ahead and add our first conditional statement. I'm going to write \"if X is less than Y\" and then I'm going to assign the \"result\" variable to the string \"X is less than Y.\" And then I'll just print out the result."
   ]
  },
  {
   "cell_type": "markdown",
   "metadata": {},
   "source": [
    "So the code compares X to Y and if X is less than Y, then you can see we set the value of this result variable and then we print it."
   ]
  },
  {
   "cell_type": "code",
   "execution_count": null,
   "metadata": {},
   "outputs": [],
   "source": [
    "# conditional flow uses if, elif, else\n",
    "if x < y:\n",
    "    result = \"x is less than y\"\n",
    "    \n",
    "print(result)"
   ]
  },
  {
   "cell_type": "markdown",
   "metadata": {},
   "source": [
    "So it seems to work just fine.\n",
    "<p>If I change the value of X to be something like 1000."
   ]
  },
  {
   "cell_type": "code",
   "execution_count": null,
   "metadata": {},
   "outputs": [],
   "source": [
    "# conditional flow uses if, elif, else\n",
    "x = 1000\n",
    "\n",
    "if x < y:\n",
    "    result2 = \"x is less than y\"\n",
    "    \n",
    "print(result2)"
   ]
  },
  {
   "cell_type": "markdown",
   "metadata": {},
   "source": [
    "So I'll run this again. And now I'm getting an error. It says \"local variable results referenced before assignment.\" And the reason I get that error is because since X is no longer less than Y, this code is no longer executed. So my print is trying to print the value of a variable that was never declared."
   ]
  },
  {
   "cell_type": "markdown",
   "metadata": {},
   "source": [
    "So we have to figure out a way to add in the case where the test condition is false."
   ]
  },
  {
   "cell_type": "markdown",
   "metadata": {},
   "source": [
    "So I'll write \"else result is equal to X is greater than Y.\""
   ]
  },
  {
   "cell_type": "markdown",
   "metadata": {},
   "source": [
    "So now I've got both conditions handled. So I have the \"if\" condition which will test this condition, and an \"else.\" \"Else\" will run in all the cases where this evaluates to false."
   ]
  },
  {
   "cell_type": "code",
   "execution_count": null,
   "metadata": {},
   "outputs": [],
   "source": [
    "if x < y:\n",
    "    result2 = \"x is less than y\"\n",
    "else:\n",
    "    result2 = \"x is greater than y\"\n",
    "    \n",
    "print(result2)"
   ]
  },
  {
   "cell_type": "code",
   "execution_count": null,
   "metadata": {},
   "outputs": [],
   "source": [
    "# conditional flow uses if, elif, else\n",
    "y = x\n",
    "\n",
    "if x < y:\n",
    "    result3 = \"x is less than y\"\n",
    "else:\n",
    "    result3 = \"x is greater than y\"\n",
    "    \n",
    "print(result3)"
   ]
  },
  {
   "cell_type": "markdown",
   "metadata": {},
   "source": [
    "Now we're getting \"X is greater than Y.\"\n",
    "And well, I'm getting \"X is greater than Y\" but that's not really true, right? They're the same value. And the problem is that this condition here evaluates to false. So we're kind of just assuming that X is greater than Y because it's not less than Y. So that's not really correct. We have to check to make sure that X actually is greater than Y."
   ]
  },
  {
   "cell_type": "markdown",
   "metadata": {},
   "source": [
    "So we'll make one more change to fix this particular problem. I'm going to write \"elif X and then two equals and then Y.\" Set the string to be \"X is the same as Y.\"."
   ]
  },
  {
   "cell_type": "code",
   "execution_count": null,
   "metadata": {},
   "outputs": [],
   "source": [
    "if x < y:\n",
    "    result4 = \"x is less than y\"\n",
    "elif x == y:\n",
    "    result4 = \"x is the same than y\"\n",
    "else:\n",
    "    result4 = \"x is greater than y\"\n",
    "    \n",
    "print(result4)"
   ]
  },
  {
   "cell_type": "markdown",
   "metadata": {},
   "source": [
    "So if we run this and sure enough we get the right result, \"X is the same as Y.\"\n",
    "So now we have, \"if\" we have \"elif\" and we have \"else\", so this gives us a way of chaining more than one condition together. And you can have as many \"elif\" statements as you want. So now we're checking for the special case where X and Y are the same."
   ]
  },
  {
   "cell_type": "markdown",
   "metadata": {},
   "source": [
    "Sometimes you'll run into situations where you have just an \"if\" and just an \"else\" and so you'll have like four, or whatever lines of code, intended to do just a simple comparison. Python has a construct called a \"conditional\" statement. And the \"conditional\" statement lets you write a common \"if-else\" construct all in one line."
   ]
  },
  {
   "cell_type": "markdown",
   "metadata": {},
   "source": [
    "It's a more concise way of writing the comparison logic. So let me just write the statement and you'll see what I mean. So right here I'm going to write \"result equals X is less than Y\" and then I'll write \"if X is less than Y.\" So I'll put the condition test right here and then I'll write \"else X is greater or equal to Y\". So this code does the work of an \"if- else\" construct, but just using one line."
   ]
  },
  {
   "cell_type": "markdown",
   "metadata": {},
   "source": [
    "And then we'll print the result again."
   ]
  },
  {
   "cell_type": "code",
   "execution_count": null,
   "metadata": {},
   "outputs": [],
   "source": [
    "# conditional statements let you use \"a if C else b\"\n",
    "x = 20\n",
    "y = 30\n",
    "\n",
    "result5 = \"x is less than y\" if (x < y) else \"x is greater than or equal to y\"\n",
    "print(result5)"
   ]
  },
  {
   "cell_type": "markdown",
   "metadata": {},
   "source": [
    "We can see that X is less than Y."
   ]
  },
  {
   "cell_type": "markdown",
   "metadata": {},
   "source": [
    "So it's a nice, concise way of writing a conditional statement instead of having this more verbose \"if-else\" block. So there's one more conditional structure that we should look at before we move on."
   ]
  },
  {
   "cell_type": "markdown",
   "metadata": {},
   "source": [
    "So I'm going to write the code that uses the \"match case\" statement. So when you have a lot of different values to test against, it can get pretty tedious to have to write all these multiple \"else-if\" statement. You have an \"if\" and an \"elif\" and an \"elif\" and an \"elif\" and then all these different conditions and so on."
   ]
  },
  {
   "cell_type": "markdown",
   "metadata": {},
   "source": [
    "So down here, I have a value variable and it's sent to the string of one. Now, if I wanted to compare this variable to multiple different values, I can use the \"match\" statement. So I'm going to write \"match\" and then \"value.\" And then what I'm going to do is list each possible case that the variable might match against. So I'll write \"case\" and then one. And in that case, I'll set the result to one, and then I'll write \"case two\" and set the result equal to two. I can also write a case statement that handles multiple possible values."
   ]
  },
  {
   "cell_type": "markdown",
   "metadata": {},
   "source": [
    "So for example, I can write \"case three\" and then a vertical bar, which means the \"or\" operator, and then the string \"four.\" So now I've got a case that handles three and four, in which case I'll set the \"result equal to a tubal of three and four\" together."
   ]
  },
  {
   "cell_type": "markdown",
   "metadata": {},
   "source": [
    "And I can add a case to handle any condition that I haven't explicitly specified. So you can think of this as a default case handler. So I'll write \"case underscore and then colon.\" And this case I'll write \"result is equal to minus one.\""
   ]
  },
  {
   "cell_type": "markdown",
   "metadata": {},
   "source": [
    "So this case will be handled in case any of the other ones do not get executed. So you can see that this is a lot more pleasant to read than a large number of \"if\", \"elif\", \"else\" statements."
   ]
  },
  {
   "cell_type": "code",
   "execution_count": null,
   "metadata": {},
   "outputs": [],
   "source": [
    "# new in Python 3.10\n",
    "# the match-case construct can be used for multiple comparisons\n",
    "value = \"one\"\n",
    "match value:\n",
    "    case \"one\":\n",
    "        result6 = 1\n",
    "    case \"two\":\n",
    "        result6 = 2\n",
    "    case \"three\" | \"four\":\n",
    "        result6 = (3, 4)\n",
    "    case _:\n",
    "        result6 = -1\n",
    "print(result6)"
   ]
  },
  {
   "cell_type": "markdown",
   "metadata": {},
   "source": [
    "And you can see that the result is one."
   ]
  },
  {
   "cell_type": "markdown",
   "metadata": {},
   "source": [
    "So let's go ahead and change this to something else. Let's change it to the value of three. "
   ]
  },
  {
   "cell_type": "code",
   "execution_count": null,
   "metadata": {},
   "outputs": [],
   "source": [
    "# new in Python 3.10\n",
    "# the match-case construct can be used for multiple comparisons\n",
    "value = \"three\"\n",
    "match value:\n",
    "    case \"one\":\n",
    "        result6 = 1\n",
    "    case \"two\":\n",
    "        result6 = 2\n",
    "    case \"three\" | \"four\":\n",
    "        result6 = (3, 4)\n",
    "    case _:\n",
    "        result6 = -1\n",
    "print(result6)"
   ]
  },
  {
   "cell_type": "markdown",
   "metadata": {},
   "source": [
    "And I see we're getting the tubal."
   ]
  },
  {
   "cell_type": "markdown",
   "metadata": {},
   "source": [
    "Now let's change it to something else, let's change it to 42."
   ]
  },
  {
   "cell_type": "code",
   "execution_count": null,
   "metadata": {},
   "outputs": [],
   "source": [
    "# new in Python 3.10\n",
    "# the match-case construct can be used for multiple comparisons\n",
    "value = \"42\"\n",
    "match value:\n",
    "    case \"one\":\n",
    "        result6 = 1\n",
    "    case \"two\":\n",
    "        result6 = 2\n",
    "    case \"three\" | \"four\":\n",
    "        result6 = (3, 4)\n",
    "    case _:\n",
    "        result6 = -1\n",
    "print(result6)"
   ]
  },
  {
   "cell_type": "markdown",
   "metadata": {},
   "source": [
    "And sure enough, we're getting the minus one result because the default case handler is being executed."
   ]
  }
 ],
 "metadata": {
  "kernelspec": {
   "display_name": "Python 3",
   "language": "python",
   "name": "python3"
  },
  "language_info": {
   "codemirror_mode": {
    "name": "ipython",
    "version": 3
   },
   "file_extension": ".py",
   "mimetype": "text/x-python",
   "name": "python",
   "nbconvert_exporter": "python",
   "pygments_lexer": "ipython3",
   "version": "3.12.4"
  },
  "polyglot_notebook": {
   "kernelInfo": {
    "defaultKernelName": "csharp",
    "items": [
     {
      "aliases": [],
      "name": "csharp"
     }
    ]
   }
  }
 },
 "nbformat": 4,
 "nbformat_minor": 2
}
