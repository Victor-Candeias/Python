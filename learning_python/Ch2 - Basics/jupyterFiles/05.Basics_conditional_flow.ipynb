{
 "cells": [
  {
   "cell_type": "markdown",
   "metadata": {},
   "source": [
    "<h1>\n",
    "    Learn Python\n",
    "</h1>"
   ]
  },
  {
   "cell_type": "markdown",
   "metadata": {},
   "source": [
    "<div>\n",
    "    <h2 style=\"color: yellow\">Basics - Conditional Flow</h2>\n",
    "</div>"
   ]
  },
  {
   "cell_type": "code",
   "execution_count": null,
   "metadata": {},
   "outputs": [],
   "source": [
    "x, y = 10, 100\n",
    "\n",
    "print(\"x\", x, \" y\", y)"
   ]
  },
  {
   "cell_type": "markdown",
   "metadata": {},
   "source": [
    "<h3 style=\"color: lightblue\">conditional flow uses if, elif, else</h3>"
   ]
  },
  {
   "cell_type": "code",
   "execution_count": null,
   "metadata": {},
   "outputs": [],
   "source": [
    "# conditional flow uses if, elif, else\n",
    "if x < y:\n",
    "    result = \"x is less than y\"\n",
    "elif x == y:\n",
    "    result = \"x is same as y\"\n",
    "else:\n",
    "    result = \"x is greater than y\"\n",
    "    \n",
    "print(result)"
   ]
  },
  {
   "cell_type": "markdown",
   "metadata": {},
   "source": [
    "<h3 style=\"color: lightblue\">conditional statements let you use \"a if C else b\"</h3>"
   ]
  },
  {
   "cell_type": "code",
   "execution_count": null,
   "metadata": {},
   "outputs": [],
   "source": [
    "# conditional statements let you use \"a if C else b\"\n",
    "result = \"x is less than y\" if (x < y) else \"x is greater than or equal to y\"\n",
    "print(result)"
   ]
  },
  {
   "cell_type": "markdown",
   "metadata": {},
   "source": [
    "<h3 style=\"color: lightblue\">match-case construct</h3>"
   ]
  },
  {
   "cell_type": "code",
   "execution_count": null,
   "metadata": {},
   "outputs": [],
   "source": [
    "# new in Python 3.10\n",
    "# the match-case construct can be used for multiple comparisons\n",
    "value = \"one\"\n",
    "match value:\n",
    "    case \"one\":\n",
    "        result = 1\n",
    "    case \"two\":\n",
    "        result = 2\n",
    "    case \"three\" | \"four\":\n",
    "        result = (3, 4)\n",
    "    case _:\n",
    "        result = -1\n",
    "print(result)"
   ]
  }
 ],
 "metadata": {
  "kernelspec": {
   "display_name": "Python 3",
   "language": "python",
   "name": "python3"
  },
  "language_info": {
   "codemirror_mode": {
    "name": "ipython",
    "version": 3
   },
   "file_extension": ".py",
   "mimetype": "text/x-python",
   "name": "python",
   "nbconvert_exporter": "python",
   "pygments_lexer": "ipython3",
   "version": "3.12.4"
  },
  "polyglot_notebook": {
   "kernelInfo": {
    "defaultKernelName": "csharp",
    "items": [
     {
      "aliases": [],
      "name": "csharp"
     }
    ]
   }
  }
 },
 "nbformat": 4,
 "nbformat_minor": 2
}
