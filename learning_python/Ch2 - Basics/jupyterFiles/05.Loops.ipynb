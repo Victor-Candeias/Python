{
 "cells": [
  {
   "cell_type": "markdown",
   "metadata": {},
   "source": [
    "<h1>\n",
    "    Learn Python\n",
    "</h1>"
   ]
  },
  {
   "cell_type": "markdown",
   "metadata": {},
   "source": [
    "<div>\n",
    "    <h2 style=\"color: yellow\">Loops</h2>\n",
    "</div>"
   ]
  },
  {
   "cell_type": "markdown",
   "metadata": {},
   "source": [
    "Running a block of code over and over again, via a construct known as a loop is also a very common scenario in programming and Python provides a couple of ways of doing that, which we're going to take a look at now."
   ]
  },
  {
   "cell_type": "markdown",
   "metadata": {},
   "source": [
    "Some other languages like C for example, provide a whole bunch of ways of writing loops. Python likes to keep things simple. It's only got two ways of doing loops, there's the while loop and there's the for loop."
   ]
  },
  {
   "cell_type": "markdown",
   "metadata": {},
   "source": [
    "So in the editor, let's go ahead and open up loops underscore start, and you can see here, I've got a function called main and a variable named X, which I'm initializing to zero."
   ]
  },
  {
   "cell_type": "code",
   "execution_count": null,
   "metadata": {},
   "outputs": [],
   "source": [
    "# start var\n",
    "x = 0\n",
    "print(\"x =\", x)"
   ]
  },
  {
   "cell_type": "markdown",
   "metadata": {},
   "source": [
    "So let's start by taking a look at the while loop. So I'm going to write the while statement and then inside parentheses, I'm going to write X is less than five, and then I'll have a colon which defines the scope block of my while statement. I'm going to print X and then I'm going to have X become equal to X plus one."
   ]
  },
  {
   "cell_type": "markdown",
   "metadata": {},
   "source": [
    "So once again, you can see that the code in the while loop is indented to indicate that it belongs to the scope of the loop. A while loop executes a block of code while a particular condition evaluates to true. So in this case, while X is less than five, we're going to print the value of X and then we're going to increment X by one."
   ]
  },
  {
   "cell_type": "code",
   "execution_count": null,
   "metadata": {},
   "outputs": [],
   "source": [
    "# define a while loop\n",
    "while (x < 5):\n",
    "    print(\"x\",x)\n",
    "    x = x + 1\n",
    "    \n",
    "print(\"x end\",x)"
   ]
  },
  {
   "cell_type": "markdown",
   "metadata": {},
   "source": [
    "So run it and you can see that X starts out as zero, so it print 0 1, 2, 3, and four, and then it increments to five and then when the value of X becomes five, X is no longer or less than five, so the loop terminates."
   ]
  },
  {
   "cell_type": "markdown",
   "metadata": {},
   "source": [
    "To write a for loop, I'm going to use the keyword for, and then I'm going to define a variable named X in the range between five and 10, and then I'm going to print X."
   ]
  },
  {
   "cell_type": "markdown",
   "metadata": {},
   "source": [
    "For loops in Python, work a little bit differently than you might be used to seeing in other languages."
   ]
  },
  {
   "cell_type": "markdown",
   "metadata": {},
   "source": [
    "So some languages like JavaScript and C and Java, they have this concept of an index variable that counts the number of iterations in the for-loop. So for example, in JavaScript, you might see something that looks like this.\n",
    "<p>You'll have like, you know for and then I equals zero and then I is less than five and then I plus plus, okay, so you've got the four And then I is zero, so this is the initialization part and then this is the conditional part and then this is the incremental part.<h5 style=\"color:yellow\">for (i=0; i<5; i++)</h5></p>"
   ]
  },
  {
   "cell_type": "markdown",
   "metadata": {},
   "source": [
    "Python works a little bit differently than this. Rather than having an index variable we have, what's called an iterator. In this case, I have X loop over a range of numbers and to get that range of numbers, I'm using the built in range function.\n",
    "So I have a range going from five to 10 and I'm going to print X each time. So it's probably easier to understand this once you've seen it in action, so let's go ahead and save this and run it and you can see in the output."
   ]
  },
  {
   "cell_type": "code",
   "execution_count": null,
   "metadata": {},
   "outputs": [],
   "source": [
    "# define a for loop\n",
    "for x in range(5,10):\n",
    "    print (\"x\", x)\n",
    "    \n",
    "print(\"x end\", x)"
   ]
  },
  {
   "cell_type": "markdown",
   "metadata": {},
   "source": [
    "It prints out 5, 6, 7, 8, and nine. And then when it gets to 10, it stops.\n",
    "So you've got X within the range, which is not inclusive of the 10 right here. So it excludes the outside number, so it only prints five through nine."
   ]
  },
  {
   "cell_type": "markdown",
   "metadata": {},
   "source": [
    "But for loops operate over sets of things, not just numbers"
   ]
  },
  {
   "cell_type": "markdown",
   "metadata": {},
   "source": [
    "You can see here that I've got a variable named days and I'm initializing it to a list of abbreviated day names"
   ]
  },
  {
   "cell_type": "markdown",
   "metadata": {},
   "source": [
    "So I've got a opening, closing brackets and inside the brackets, I've got strings of my day names. So this example has nothing to do with numbers. In this case, my for loop is going to iterate over each element in the days list. So to do that, what I'll do is I'll write for d in, the name of the collection in this case it's days and then once again I'll have my colon and inside the loop I'll print d and let me comment out this previous example."
   ]
  },
  {
   "cell_type": "code",
   "execution_count": null,
   "metadata": {},
   "outputs": [],
   "source": [
    "# use a for loop over a collection\n",
    "days = [\"Mon\",\"Tue\",\"Wed\",\"Thu\",\"Fri\",\"Sat\",\"Sun\"]\n",
    "for d in days:\n",
    "    print (\"d\", d)"
   ]
  },
  {
   "cell_type": "markdown",
   "metadata": {},
   "source": [
    "And when I run it, you can see it's printing out, Monday, Tuesday, Wednesday, so on up through Sunday, so it's looping over the contents of the list right here. Again, no index counter involved, it's just iterating over the members of a list."
   ]
  },
  {
   "cell_type": "markdown",
   "metadata": {},
   "source": [
    "So let's take a look at using the break and continue statements."
   ]
  },
  {
   "cell_type": "markdown",
   "metadata": {},
   "source": [
    "So in this for loop, where we have X in the range of five to 10, but we're going to do two different things."
   ]
  },
  {
   "cell_type": "markdown",
   "metadata": {},
   "source": [
    "So first, let's look at the break statement. The break statement is used to break the execution of a loop if a condition is met or for some other reason. So I'm going to put a statement in here that says, if X is equal to seven, then break. So in this case, when X gets to be the value of seven, then the break statement will execute and it will cause the for loop to terminate"
   ]
  },
  {
   "cell_type": "code",
   "execution_count": null,
   "metadata": {},
   "outputs": [],
   "source": [
    "# use the break and continue statements\n",
    "for x in range(5,10):\n",
    "    if (x == 7): break\n",
    "    print (\"x\", x)"
   ]
  },
  {
   "cell_type": "markdown",
   "metadata": {},
   "source": [
    "So this time, instead of going all the way to nine, it prints out five and six, and then it gets to the seven and then when it gets to the seven, this break statement kicks in and terminates the loop so it never gets to print seven, eight or nine."
   ]
  },
  {
   "cell_type": "markdown",
   "metadata": {},
   "source": [
    " Now, let's take a look at the continue statement."
   ]
  },
  {
   "cell_type": "markdown",
   "metadata": {},
   "source": [
    "I'm going to add a continuous statement, I'm going to write if X percent two is equal to zero, then continue."
   ]
  },
  {
   "cell_type": "markdown",
   "metadata": {},
   "source": [
    "So in this case, my code says if X modular two is equal to zero, in other words, take X divided by two and if the value left over is equal to zero, then continue. And continue means skip the rest of the code inside the loop and then just go back up to the top and do the next iteration. Now, the rest of the loop in this case is just this print statement, it's only one statement, but if there were more statements here, they would all be skipped."
   ]
  },
  {
   "cell_type": "code",
   "execution_count": null,
   "metadata": {},
   "outputs": [],
   "source": [
    "# use the break and continue statements\n",
    "for x in range(5,10):\n",
    "    if (x % 2 == 0): continue\n",
    "    print (\"x\", x)"
   ]
  },
  {
   "cell_type": "markdown",
   "metadata": {},
   "source": [
    "And now you can see that only five, seven and nine are being printed because what's happening is if it says, if X is percent two is equal to zero, so if I have an even number, right, it's not going to print six or eight because the continuous statement is going to execute and then go back up to the top and do the next iteration while skipping that particular print statement."
   ]
  },
  {
   "cell_type": "markdown",
   "metadata": {},
   "source": [
    "Now, remember earlier I said that normally the for-loop in Python does not use an index variable"
   ]
  },
  {
   "cell_type": "markdown",
   "metadata": {},
   "source": [
    "There's no loop counter normally. Well, you can get one if you really need it, so here's what you do."
   ]
  },
  {
   "cell_type": "markdown",
   "metadata": {},
   "source": [
    "I'm going to write for I comma d, so a two polar values. So there's two values here in, and then I'm going to use the enumerate function and I'm going to enumerate the days list. I'm going to print both I and D, okay. So the enumerate function will iterate over this collection, just like the for loop normally would but in addition to returning the value of the item that's being looped at, it also returns a value that is the index of the item in question. So the enumerate function is going to return two values, it's going to return the index and the member of the collection that we're looking at and here I'm printing out both of these, the index and the item."
   ]
  },
  {
   "cell_type": "code",
   "execution_count": null,
   "metadata": {},
   "outputs": [],
   "source": [
    "# using the enumerate() function to get index \n",
    "days = [\"Mon\",\"Tue\",\"Wed\",\"Thu\",\"Fri\",\"Sat\",\"Sun\"]\n",
    "for i, d in enumerate(days):\n",
    "    print(\"i\", i, \" d\", d)"
   ]
  },
  {
   "cell_type": "markdown",
   "metadata": {},
   "source": [
    "And you can see that I'm getting zero Monday, one Tuesday, two Wednesday and so on. So I'm getting the value of the day that's in the collection, as well as its numerical index using the enumerate function. So even though you only have the while loop and the for loop in Python, you can see that they're pretty versatile and they take the place of lots of other more fancy loop constructs in other languages."
   ]
  }
 ],
 "metadata": {
  "kernelspec": {
   "display_name": "Python 3",
   "language": "python",
   "name": "python3"
  },
  "language_info": {
   "codemirror_mode": {
    "name": "ipython",
    "version": 3
   },
   "file_extension": ".py",
   "mimetype": "text/x-python",
   "name": "python",
   "nbconvert_exporter": "python",
   "pygments_lexer": "ipython3",
   "version": "3.12.4"
  },
  "polyglot_notebook": {
   "kernelInfo": {
    "defaultKernelName": "csharp",
    "items": [
     {
      "aliases": [],
      "name": "csharp"
     }
    ]
   }
  }
 },
 "nbformat": 4,
 "nbformat_minor": 2
}
