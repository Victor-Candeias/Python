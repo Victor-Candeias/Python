{
 "cells": [
  {
   "cell_type": "markdown",
   "metadata": {},
   "source": [
    "<h1>\n",
    "    Learn Python\n",
    "</h1>"
   ]
  },
  {
   "cell_type": "markdown",
   "metadata": {},
   "source": [
    "<div>\n",
    "    <h2 style=\"color: yellow\">Basics - Functions</h2>\n",
    "</div>"
   ]
  },
  {
   "cell_type": "markdown",
   "metadata": {},
   "source": [
    "<h3 style=\"color: lightblue\">basic function</h3>"
   ]
  },
  {
   "cell_type": "code",
   "execution_count": 7,
   "metadata": {},
   "outputs": [
    {
     "name": "stdout",
     "output_type": "stream",
     "text": [
      "I am a function\n",
      "None\n"
     ]
    }
   ],
   "source": [
    "# define a basic function\n",
    "def func1():\n",
    "    print(\"I am a function\")\n",
    "    \n",
    "print(func1())"
   ]
  },
  {
   "cell_type": "markdown",
   "metadata": {},
   "source": [
    "<h3 style=\"color: lightblue\">function that takes arguments</h3>"
   ]
  },
  {
   "cell_type": "code",
   "execution_count": 8,
   "metadata": {},
   "outputs": [
    {
     "name": "stdout",
     "output_type": "stream",
     "text": [
      "10   20\n",
      "None\n"
     ]
    }
   ],
   "source": [
    "# function that takes arguments\n",
    "def func2(arg1, arg2):\n",
    "    print(arg1, \" \", arg2)\n",
    "    \n",
    "print(func2(10, 20))"
   ]
  },
  {
   "cell_type": "markdown",
   "metadata": {},
   "source": [
    "<h3 style=\"color: lightblue\">function that returns a value</h3>"
   ]
  },
  {
   "cell_type": "code",
   "execution_count": 9,
   "metadata": {},
   "outputs": [
    {
     "name": "stdout",
     "output_type": "stream",
     "text": [
      "27\n"
     ]
    }
   ],
   "source": [
    "# function that returns a value\n",
    "def cube(x):\n",
    "    return x*x*x\n",
    "\n",
    "print(cube(3))"
   ]
  },
  {
   "cell_type": "markdown",
   "metadata": {},
   "source": [
    "<h3 style=\"color: lightblue\">function with default value for an argument</h3>"
   ]
  },
  {
   "cell_type": "code",
   "execution_count": 10,
   "metadata": {},
   "outputs": [
    {
     "name": "stdout",
     "output_type": "stream",
     "text": [
      "2\n",
      "8\n",
      "8\n"
     ]
    }
   ],
   "source": [
    "# function with default value for an argument\n",
    "def power(num, x=1):\n",
    "    result = 1\n",
    "    for i in range(x):\n",
    "        result = result * num\n",
    "    return result\n",
    "\n",
    "print(power(2))\n",
    "print(power(2, 3))\n",
    "print(power(x=3, num=2))"
   ]
  },
  {
   "cell_type": "markdown",
   "metadata": {},
   "source": [
    "<h3 style=\"color: lightblue\">function with variable number of arguments</h3>"
   ]
  },
  {
   "cell_type": "code",
   "execution_count": 11,
   "metadata": {},
   "outputs": [
    {
     "name": "stdout",
     "output_type": "stream",
     "text": [
      "23\n"
     ]
    }
   ],
   "source": [
    "# function with variable number of arguments\n",
    "def multi_add(*args):\n",
    "    result = 0\n",
    "    for x in args:\n",
    "        result = result + x\n",
    "    return result\n",
    "\n",
    "print(multi_add(4, 5, 10, 4))"
   ]
  }
 ],
 "metadata": {
  "kernelspec": {
   "display_name": "Python 3",
   "language": "python",
   "name": "python3"
  },
  "language_info": {
   "codemirror_mode": {
    "name": "ipython",
    "version": 3
   },
   "file_extension": ".py",
   "mimetype": "text/x-python",
   "name": "python",
   "nbconvert_exporter": "python",
   "pygments_lexer": "ipython3",
   "version": "3.12.4"
  },
  "polyglot_notebook": {
   "kernelInfo": {
    "defaultKernelName": "csharp",
    "items": [
     {
      "aliases": [],
      "name": "csharp"
     }
    ]
   }
  }
 },
 "nbformat": 4,
 "nbformat_minor": 2
}
