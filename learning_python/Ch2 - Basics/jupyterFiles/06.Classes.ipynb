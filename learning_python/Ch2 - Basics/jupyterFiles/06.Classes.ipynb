{
 "cells": [
  {
   "cell_type": "markdown",
   "metadata": {},
   "source": [
    "<h1>\n",
    "    Learn Python\n",
    "</h1>"
   ]
  },
  {
   "cell_type": "markdown",
   "metadata": {},
   "source": [
    "<div>\n",
    "    <h2 style=\"color: yellow\">Classes</h2>\n",
    "</div>"
   ]
  },
  {
   "cell_type": "markdown",
   "metadata": {},
   "source": [
    "Python is an object-oriented programming language. And this means that you can create and use your own classes. And classes are a really great way of encapsulating functionality that can be kept together and reused as complete modules in other projects. And this can be really helpful in keeping larger programs both maintainable and easier to understand."
   ]
  },
  {
   "cell_type": "markdown",
   "metadata": {},
   "source": [
    "And let's imagine that we're building an application that manages vehicles, the cars and motorcycles and so on. So I'm going to start by defining a class that will hold some information about vehicles. So classes are defined using the class keyword, and then they're given a name. So I'll name my class vehicle. And then I'm going to use two empty parentheses, which are empty for now, but we'll see what those are used for in a moment and then a colon to begin the class scope."
   ]
  },
  {
   "cell_type": "markdown",
   "metadata": {},
   "source": [
    "Now I need to add the method that gets called when the class gets constructed and initialized, and it's the double underscore init methods. So I'm going to write def and then two underscores init and then two underscores."
   ]
  },
  {
   "cell_type": "markdown",
   "metadata": {},
   "source": [
    "Now, the init method is the function that Python calls when the object has been created and it's time to initialize the object's data. So I'm going to create some parentheses and inside the init functions parentheses, the parameter list, I'm going to put the word \"self\". "
   ]
  },
  {
   "cell_type": "markdown",
   "metadata": {},
   "source": [
    "There are several different functions that have these double underscores in them. You don't call these directly usually. Python does it for you as it manages the object that you create and use. So what I'm going to do is use this method to have a property named body style that will hold the body style of the vehicle."
   ]
  },
  {
   "cell_type": "markdown",
   "metadata": {},
   "source": [
    "In the init method I'm going to have the first parameter of be named self and then I'm going to have a parameter named body style. Now, by convention all of the methods in a class take the reference to the object as the first parameter. You can name it whatever you want. I just happened to name it self. You can name this X if you want to, you can name it \"the thing.\" It doesn't really matter. But you'll see in most Python code, the word \"self\" is the convention that most people use."
   ]
  },
  {
   "cell_type": "markdown",
   "metadata": {},
   "source": [
    "So what I'm going to do is inside the init function, I'm going to write self.bodystyle is equal to the body style parameter. So now I've defined a property on the class and it's going to hold the value that was passed in to the class when it's created."
   ]
  },
  {
   "cell_type": "code",
   "execution_count": null,
   "metadata": {},
   "outputs": [],
   "source": [
    "class Vehicle():\n",
    "    def __init__(self, bodystyle):\n",
    "        self.bodystyle = bodystyle"
   ]
  },
  {
   "cell_type": "markdown",
   "metadata": {},
   "source": [
    "So now that I've created this base class called vehicle, I can create other classes that derive from this class. After all, there's many different kinds of vehicles, different kinds of engines and other features. We wouldn't want to cram all that data into one class.\n",
    "<p>So let's create a class called car, and this is going to be used for regular passenger cars. And since this class derives from the vehicle class, I'm going to specify vehicle inside the parentheses for the class definition and then I'm going to create the init function like I normally would. And in this case, I'm going to have a parameter named engine type."
   ]
  },
  {
   "cell_type": "markdown",
   "metadata": {},
   "source": [
    "Now in the init function, I need to have a way of specifying, not just what the engine that the car uses, I also have to initialize the superclass, the vehicle class by first using what's called the super function. So I'm going to call super, and then I'm going to call the superclasses init method. And I'm going to call it with the body style, Cause remember, this is the parameter that goes to the vehicle class. "
   ]
  },
  {
   "cell_type": "markdown",
   "metadata": {},
   "source": [
    "So here I'm creating a car. So this is how I initialize the body style property in the superclass, the class that I derive from. Sometimes it's called the parent class of my car class here. Then I can set other properties specific to this class. So for example, I can say that wheels equals four because cars have four wheels."
   ]
  },
  {
   "cell_type": "markdown",
   "metadata": {},
   "source": [
    "I can initialize the doors property, let's say that cars have four doors and then I'll have the self.enginetype and I'll initialize that to the engine type parameter that's passed into the init function."
   ]
  },
  {
   "cell_type": "code",
   "execution_count": null,
   "metadata": {},
   "outputs": [],
   "source": [
    "class Car(Vehicle):\n",
    "    def __init__(self, enginetype):\n",
    "        super().__init__(\"Car\")\n",
    "        self.wheels = 4\n",
    "        self.doors = 5\n",
    "        self.engineType = enginetype"
   ]
  },
  {
   "cell_type": "markdown",
   "metadata": {},
   "source": [
    "So now that we have car and vehicle, let's make a class for motorcycles. So I'll define a class called motorcycle and a motorcycle also descends from vehicle. And then I'll create my init method. And in this case, we're going to have a motorcycle. It's going to take an engine type as a parameter, and also whether or not it has a sidecar. So once again, I'm going to call it the superclass. I'm going to call it the init function on the superclass. And in this case, I'm creating a motorcycle. And notice by the way, that when I do this, I don't have to pass in the self parameter to the init function. It's sort of implied. Python handles passing the object reference around."
   ]
  },
  {
   "cell_type": "markdown",
   "metadata": {},
   "source": [
    " So you don't have to pass that first parameter as the object reference. So I initialize the motorcycle and then I'll write some code that says if this motorcycle has a sidecar, then I'm going to have the wheels property equal to three if it has a sidecar. If it does not have a sidecar, then the wheels property will be two."
   ]
  },
  {
   "cell_type": "markdown",
   "metadata": {},
   "source": [
    "And of course, motorcycles don't have doors. So I'll set the doors property equal to zero and of course we have the engine type, which is going to be the engine type that was passed in."
   ]
  },
  {
   "cell_type": "code",
   "execution_count": null,
   "metadata": {},
   "outputs": [],
   "source": [
    "class Motorcycle(Vehicle):\n",
    "    def __init__(self, enginetype, hassidecar):\n",
    "        super().__init__(\"Motorcycle\")\n",
    "        if (hassidecar):\n",
    "            self.wheels = 2\n",
    "        else:\n",
    "            self.wheels = 3\n",
    "        self.doors = 0\n",
    "        self.engine = enginetype"
   ]
  },
  {
   "cell_type": "markdown",
   "metadata": {},
   "source": [
    "So now we have our classes defined and once we've defined our classes, we can create specific objects of those types."
   ]
  },
  {
   "cell_type": "markdown",
   "metadata": {},
   "source": [
    "So let's create a couple of cars and a motorcycle. To do that, we use the name of the class along with the parameters for the init function. So I'll have a variable in car one, and that's going to be a car type and I'll have that be a gas type car."
   ]
  },
  {
   "cell_type": "markdown",
   "metadata": {},
   "source": [
    "And I'll create two. Car two is going to be an electric car. And then motorcycle one is going to be a motorcycle and that's going to have a gas engine and it will have a sidecar."
   ]
  },
  {
   "cell_type": "markdown",
   "metadata": {},
   "source": [
    "So now that we've defined these classes and we've initialized them, we can access the properties of each class using dot notation. So for example, I can print how many wheels the motorcycle has by printing mc1.wheels and I can do something similar with the car. So I can print car one's engine type and I can also print car two's doors count."
   ]
  },
  {
   "cell_type": "code",
   "execution_count": null,
   "metadata": {},
   "outputs": [],
   "source": [
    "car1 = Car(\"gas\")\n",
    "car2 = Car(\"electric\")\n",
    "mc1 = Motorcycle(\"gas\", True)"
   ]
  },
  {
   "cell_type": "markdown",
   "metadata": {},
   "source": [
    "So let's recap. We have our base class called vehicle, which is a body style property, has a body style property here. Then we have two subclasses, car and motorcycle, both of which inherit from the vehicle and define their own properties. We use these super function to initialize this superclass. And in each case we initialize the body style of the superclass and then we have our own properties specific to each one of those classes."
   ]
  },
  {
   "cell_type": "code",
   "execution_count": null,
   "metadata": {},
   "outputs": [],
   "source": [
    "print(mc1.wheels)\n",
    "print(car1.engineType)\n",
    "print(car2.doors)"
   ]
  },
  {
   "cell_type": "markdown",
   "metadata": {},
   "source": [
    "So let's go ahead and run what we have. And when I do, so you can see that the motorcycle has three wheels, 'cause it has a sidecar. Car one has a gas engine and car two has four doors. But classes don't just hold data."
   ]
  },
  {
   "cell_type": "markdown",
   "metadata": {},
   "source": [
    "They can also define their own functions. So let's add the ability for each of these vehicles to drive. So back in my base class, I'm going to add a function named drive. And that's going to take a speed as a parameter. So inside this method, I'm going to define a property named mode. So now the mode is going to be driving when we call the drive function and the speed property is going to be whatever the speed parameter that was passed in."
   ]
  },
  {
   "cell_type": "code",
   "execution_count": null,
   "metadata": {},
   "outputs": [],
   "source": [
    "class Vehicle1():\n",
    "    def __init__(self, bodystyle):\n",
    "        self.bodystyle = bodystyle\n",
    "\n",
    "    def drive(self, speed):\n",
    "        self.mode = \"driving\"\n",
    "        self.speed = speed\n",
    "        "
   ]
  },
  {
   "cell_type": "markdown",
   "metadata": {},
   "source": [
    "And then I can have each vehicle specify some driving behavior by overriding the base class method."
   ]
  },
  {
   "cell_type": "markdown",
   "metadata": {},
   "source": [
    "So for the car, let's go ahead and add a drive method. And of course we're going to initialize the superclass. So we'll call it a super.drive with the speed that we were given. And then we're going to print \"driving my\" and then self.enginetype. And then I'll say car at, and then self.speed."
   ]
  },
  {
   "cell_type": "code",
   "execution_count": null,
   "metadata": {},
   "outputs": [],
   "source": [
    "class Car1(Vehicle1):\n",
    "    def __init__(self, enginetype):\n",
    "        super().__init__(\"Car\")\n",
    "        self.wheels = 4\n",
    "        self.doors = 5\n",
    "        self.engineType = enginetype\n",
    "        \n",
    "    def drive(self, speed):\n",
    "        super().drive(speed)\n",
    "        print(\"Driving my\", self.engineType, \"car at\", self.speed)\n",
    "        "
   ]
  },
  {
   "cell_type": "markdown",
   "metadata": {},
   "source": [
    "And then let's go ahead and add the same thing for the motorcycle."
   ]
  },
  {
   "cell_type": "code",
   "execution_count": null,
   "metadata": {},
   "outputs": [],
   "source": [
    "class Motorcycle1(Vehicle1):\n",
    "    def __init__(self, enginetype, hassidecar):\n",
    "        super().__init__(\"Motorcycle\")\n",
    "        if (hassidecar):\n",
    "            self.wheels = 2\n",
    "        else:\n",
    "            self.wheels = 3\n",
    "        self.doors = 0\n",
    "        self.engine = enginetype\n",
    "        \n",
    "    def drive(self, speed):\n",
    "        super().drive(speed)\n",
    "        print(\"Driving my\", self.engine, \"motorcycle at\", self.speed)"
   ]
  },
  {
   "cell_type": "markdown",
   "metadata": {},
   "source": [
    "And then let's call those functions on our objects. So I'm going to write car.1 and I'll drive that car at 30 and then car two will drive at 40 and then the motorcycle is going to drive at 50."
   ]
  },
  {
   "cell_type": "code",
   "execution_count": null,
   "metadata": {},
   "outputs": [],
   "source": [
    "car11 = Car1(\"gas\")\n",
    "car21 = Car1(\"electric\")\n",
    "mc11 = Motorcycle1(\"gas\", True)\n",
    "\n",
    "car11.drive(30)\n",
    "car21.drive(50)\n",
    "mc11.drive(50)"
   ]
  },
  {
   "cell_type": "markdown",
   "metadata": {},
   "source": [
    "And now we can see that I'm driving my gas car at 30, my electric car at 40 and my gas motorcycle at 50."
   ]
  },
  {
   "cell_type": "markdown",
   "metadata": {},
   "source": [
    "So this is just a simple example of how to define classes in Python."
   ]
  }
 ],
 "metadata": {
  "kernelspec": {
   "display_name": "Python 3",
   "language": "python",
   "name": "python3"
  },
  "language_info": {
   "codemirror_mode": {
    "name": "ipython",
    "version": 3
   },
   "file_extension": ".py",
   "mimetype": "text/x-python",
   "name": "python",
   "nbconvert_exporter": "python",
   "pygments_lexer": "ipython3",
   "version": "3.12.4"
  },
  "polyglot_notebook": {
   "kernelInfo": {
    "defaultKernelName": "csharp",
    "items": [
     {
      "aliases": [],
      "name": "csharp"
     }
    ]
   }
  }
 },
 "nbformat": 4,
 "nbformat_minor": 2
}
