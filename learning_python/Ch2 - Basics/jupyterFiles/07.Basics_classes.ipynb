{
 "cells": [
  {
   "cell_type": "markdown",
   "metadata": {},
   "source": [
    "<h1>\n",
    "    Learn Python\n",
    "</h1>"
   ]
  },
  {
   "cell_type": "markdown",
   "metadata": {},
   "source": [
    "<div>\n",
    "    <h2 style=\"color: yellow\">Basics - Classes</h2>\n",
    "</div>"
   ]
  },
  {
   "cell_type": "markdown",
   "metadata": {},
   "source": [
    "<h3 style=\"color: lightblue\">Base Class</h3>"
   ]
  },
  {
   "cell_type": "code",
   "execution_count": 4,
   "metadata": {},
   "outputs": [],
   "source": [
    "class Vehicle():\n",
    "    def __init__(self, bodystyle):\n",
    "        self.bodystyle = bodystyle\n",
    "\n",
    "    def drive(self, speed):\n",
    "        self.mode = \"driving\"\n",
    "        self.speed = speed"
   ]
  },
  {
   "cell_type": "markdown",
   "metadata": {},
   "source": [
    "<h3 style=\"color: lightblue\">Derived class Car</h3>"
   ]
  },
  {
   "cell_type": "code",
   "execution_count": 5,
   "metadata": {},
   "outputs": [
    {
     "name": "stdout",
     "output_type": "stream",
     "text": [
      "car1.engine gas\n",
      "car2.doors 4\n",
      "Driving my gas Car at  30\n",
      "Driving my electric Car at  40\n"
     ]
    }
   ],
   "source": [
    "class Car(Vehicle):\n",
    "    def __init__(self, enginetype):\n",
    "        super().__init__(\"Car\")\n",
    "        self.wheels = 4\n",
    "        self.doors = 4\n",
    "        self.engine = enginetype\n",
    "\n",
    "    def drive(self, speed):\n",
    "        super().drive(speed)\n",
    "        print(\"Driving my\", self.engine, \"Car at \", self.speed)\n",
    "        \n",
    "car1 = Car(\"gas\")\n",
    "car2 = Car(\"electric\")\n",
    "\n",
    "print(\"car1.engine\", car1.engine)\n",
    "print(\"car2.doors\", car2.doors)\n",
    "\n",
    "car1.drive(30)\n",
    "car2.drive(40)"
   ]
  },
  {
   "cell_type": "markdown",
   "metadata": {},
   "source": [
    "<h3 style=\"color: lightblue\">Drived class Motorcycle</h3>"
   ]
  },
  {
   "cell_type": "code",
   "execution_count": 7,
   "metadata": {},
   "outputs": [
    {
     "name": "stdout",
     "output_type": "stream",
     "text": [
      "mc1.wheels 2\n",
      "Driving my gas motorcylce at  50\n"
     ]
    }
   ],
   "source": [
    "class Motorcycle(Vehicle):\n",
    "    def __init__(self, enginetype, hassidecar):\n",
    "        super().__init__(\"Motorcycle\")\n",
    "        if (hassidecar):\n",
    "            self.wheels = 2\n",
    "        else:\n",
    "            self.wheels = 3\n",
    "        self.doors = 0\n",
    "        self.engine = enginetype\n",
    "\n",
    "    def drive(self, speed):\n",
    "        super().drive(speed)\n",
    "        print(\"Driving my\", self.engine, \"motorcylce at \", self.speed)\n",
    "        \n",
    "mc1 = Motorcycle(\"gas\", True)\n",
    "\n",
    "print(\"mc1.wheels\", mc1.wheels)\n",
    "\n",
    "mc1.drive(50)"
   ]
  }
 ],
 "metadata": {
  "kernelspec": {
   "display_name": "Python 3",
   "language": "python",
   "name": "python3"
  },
  "language_info": {
   "codemirror_mode": {
    "name": "ipython",
    "version": 3
   },
   "file_extension": ".py",
   "mimetype": "text/x-python",
   "name": "python",
   "nbconvert_exporter": "python",
   "pygments_lexer": "ipython3",
   "version": "3.12.4"
  },
  "polyglot_notebook": {
   "kernelInfo": {
    "defaultKernelName": "csharp",
    "items": [
     {
      "aliases": [],
      "name": "csharp"
     }
    ]
   }
  }
 },
 "nbformat": 4,
 "nbformat_minor": 2
}
