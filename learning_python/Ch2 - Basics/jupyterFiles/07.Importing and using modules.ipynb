{
 "cells": [
  {
   "cell_type": "markdown",
   "metadata": {},
   "source": [
    "<h1>\n",
    "    Learn Python\n",
    "</h1>"
   ]
  },
  {
   "cell_type": "markdown",
   "metadata": {},
   "source": [
    "<div>\n",
    "    <h2 style=\"color: yellow\">Importing and using modules</h2>\n",
    "</div>"
   ]
  },
  {
   "cell_type": "markdown",
   "metadata": {},
   "source": [
    "One of the most powerful features of the Python ecosystem is the large number of library modules of pre-built code that you can use in your programs. The standard Python installation contains quite a few of these modules, and some of which we're going to learn more about later in the course, but, before we get there, let's take a look at a simple example that shows how to take advantage of all this code that you don't have to write yourself."
   ]
  },
  {
   "cell_type": "markdown",
   "metadata": {},
   "source": [
    "What I'm going to do is tell Python that my program wants to use the math module, which contains a whole bunch of functions for performing all kinds of mathematical calculations. To do that, all I need to do is use the import statement along with the name of the module that I want to use."
   ]
  },
  {
   "cell_type": "code",
   "execution_count": null,
   "metadata": {},
   "outputs": [],
   "source": [
    "# import the math module, which contains features for working with mathematics\n",
    "import math"
   ]
  },
  {
   "cell_type": "markdown",
   "metadata": {},
   "source": [
    "Now, let's suppose I wanted to calculate the square root of a number. To do that, I can take advantage of the function that's in the math module named SQRT. So let's make a statement that does that. I'm going to print out \"The square root of 16 is\", and then I'm going to call math.sqrt, and I'm going to pass the parameter 16."
   ]
  },
  {
   "cell_type": "markdown",
   "metadata": {},
   "source": [
    "The math module also contains some useful math constant values."
   ]
  },
  {
   "cell_type": "markdown",
   "metadata": {},
   "source": [
    "And you can see that when I type the dot after the math keyword, right here, there's quite a few math functions in this module, but, for now, let's just use the square root one."
   ]
  },
  {
   "cell_type": "code",
   "execution_count": null,
   "metadata": {},
   "outputs": [],
   "source": [
    "# the math module contains lots of pre-built functions\n",
    "print(\"The square root of 16 is\", math.sqrt(16))"
   ]
  },
  {
   "cell_type": "markdown",
   "metadata": {},
   "source": [
    "You can see that the square root of 16 is four."
   ]
  },
  {
   "cell_type": "markdown",
   "metadata": {},
   "source": [
    "So, for example, we can print the value of Pi, and I'll print \"Pi is\", math.pi."
   ]
  },
  {
   "cell_type": "code",
   "execution_count": null,
   "metadata": {},
   "outputs": [],
   "source": [
    "# in addition to functions, some modules contain useful constants \n",
    "print(\"Pi is:\", math.pi)"
   ]
  },
  {
   "cell_type": "markdown",
   "metadata": {},
   "source": [
    "Let's run this, and, sure enough, there's Pi, right there, 3.14159 and so on and so forth."
   ]
  },
  {
   "cell_type": "markdown",
   "metadata": {},
   "source": [
    "So for the rest of this course, we're going to use some other great modules to perform useful work, such as manipulating dates and times, working with files, and even processing internet-based data like XML and JSON."
   ]
  }
 ],
 "metadata": {
  "kernelspec": {
   "display_name": "Python 3",
   "language": "python",
   "name": "python3"
  },
  "language_info": {
   "codemirror_mode": {
    "name": "ipython",
    "version": 3
   },
   "file_extension": ".py",
   "mimetype": "text/x-python",
   "name": "python",
   "nbconvert_exporter": "python",
   "pygments_lexer": "ipython3",
   "version": "3.12.4"
  },
  "polyglot_notebook": {
   "kernelInfo": {
    "defaultKernelName": "csharp",
    "items": [
     {
      "aliases": [],
      "name": "csharp"
     }
    ]
   }
  }
 },
 "nbformat": 4,
 "nbformat_minor": 2
}
