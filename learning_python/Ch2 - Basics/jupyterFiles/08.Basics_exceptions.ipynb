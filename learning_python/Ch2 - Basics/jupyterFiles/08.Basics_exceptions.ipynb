{
 "cells": [
  {
   "cell_type": "markdown",
   "metadata": {},
   "source": [
    "<h1>\n",
    "    Learn Python\n",
    "</h1>"
   ]
  },
  {
   "cell_type": "markdown",
   "metadata": {},
   "source": [
    "<div>\n",
    "    <h2 style=\"color: yellow\">Basics - Exceptions</h2>\n",
    "</div>"
   ]
  },
  {
   "cell_type": "markdown",
   "metadata": {},
   "source": [
    "<h3 style=\"color: lightblue\">Exceptions catching errors</h3>"
   ]
  },
  {
   "cell_type": "code",
   "execution_count": 2,
   "metadata": {},
   "outputs": [
    {
     "name": "stdout",
     "output_type": "stream",
     "text": [
      "Well that didn't work!\n"
     ]
    }
   ],
   "source": [
    "# Exceptions provide a way of catching errors and then handling them in \n",
    "# a separate section of the code to group them together\n",
    "try:\n",
    "    x = 10 / 0\n",
    "except:\n",
    "    print(\"Well that didn't work!\")"
   ]
  },
  {
   "cell_type": "markdown",
   "metadata": {},
   "source": [
    "<h3 style=\"color: lightblue\">Catch specific exceptions</h3>"
   ]
  },
  {
   "cell_type": "code",
   "execution_count": 3,
   "metadata": {},
   "outputs": [
    {
     "name": "stdout",
     "output_type": "stream",
     "text": [
      "You can't divide by zero!\n",
      "The finally section always runs\n"
     ]
    }
   ],
   "source": [
    "# You can also catch specific exceptions\n",
    "try:\n",
    "    answer = input(\"What should I divide 10 by?\")\n",
    "    num = int(answer)\n",
    "    print(10 / num)\n",
    "except ZeroDivisionError as e:\n",
    "    print(\"You can't divide by zero!\")\n",
    "except ValueError as e:\n",
    "    print(\"You didn't give me a valid number!\")\n",
    "    print(e)\n",
    "finally:\n",
    "    print(\"The finally section always runs\")"
   ]
  }
 ],
 "metadata": {
  "kernelspec": {
   "display_name": "Python 3",
   "language": "python",
   "name": "python3"
  },
  "language_info": {
   "codemirror_mode": {
    "name": "ipython",
    "version": 3
   },
   "file_extension": ".py",
   "mimetype": "text/x-python",
   "name": "python",
   "nbconvert_exporter": "python",
   "pygments_lexer": "ipython3",
   "version": "3.12.4"
  },
  "polyglot_notebook": {
   "kernelInfo": {
    "defaultKernelName": "csharp",
    "items": [
     {
      "aliases": [],
      "name": "csharp"
     }
    ]
   }
  }
 },
 "nbformat": 4,
 "nbformat_minor": 2
}
