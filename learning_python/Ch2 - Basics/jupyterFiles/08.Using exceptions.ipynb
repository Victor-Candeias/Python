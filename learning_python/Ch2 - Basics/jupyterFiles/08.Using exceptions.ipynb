{
 "cells": [
  {
   "cell_type": "markdown",
   "metadata": {},
   "source": [
    "<h1>\n",
    "    Learn Python\n",
    "</h1>"
   ]
  },
  {
   "cell_type": "markdown",
   "metadata": {},
   "source": [
    "<div>\n",
    "    <h2 style=\"color: yellow\">Using exceptions</h2>\n",
    "</div>"
   ]
  },
  {
   "cell_type": "markdown",
   "metadata": {},
   "source": [
    "Programs run into problems and errors all the time so it's a good practice to have a plan for handling them when they happen. And in Python, one way to do this is through exception handling. "
   ]
  },
  {
   "cell_type": "markdown",
   "metadata": {},
   "source": [
    "So I'll write X equals 10 divided by zero. Now obviously divided by zero is a math error."
   ]
  },
  {
   "cell_type": "markdown",
   "metadata": {},
   "source": [
    "Run this, we can see that the program crashes and exits with this division by zero error message."
   ]
  },
  {
   "cell_type": "code",
   "execution_count": null,
   "metadata": {},
   "outputs": [],
   "source": [
    "# Exceptions provide a way of catching errors and then handling them in \n",
    "# a separate section of the code to group them together\n",
    "x = 10 / 0"
   ]
  },
  {
   "cell_type": "markdown",
   "metadata": {},
   "source": [
    "Now, this is a pretty bad experience for users and we can do a much better job of handling errors like this in our code by using exception handling."
   ]
  },
  {
   "cell_type": "markdown",
   "metadata": {},
   "source": [
    "So let's rewrite this by using exceptions."
   ]
  },
  {
   "cell_type": "markdown",
   "metadata": {},
   "source": [
    "And then I'm going to write except, and I'm going to print well that didn't work."
   ]
  },
  {
   "cell_type": "markdown",
   "metadata": {},
   "source": [
    "So within the try section is where I write code that might cause some errors. Python will execute the code as usual. And if anything goes wrong, then the flow of the program transfers immediately to this closest except section here where I can handle the error. So in this case, the divide by zero error will cause the program to jump to the print statement."
   ]
  },
  {
   "cell_type": "code",
   "execution_count": null,
   "metadata": {},
   "outputs": [],
   "source": [
    "# Exceptions provide a way of catching errors and then handling them in \n",
    "# a separate section of the code to group them together\n",
    "try:\n",
    "    x = 10 / 0\n",
    "except:\n",
    "    print(\"Well that didn't work!\")"
   ]
  },
  {
   "cell_type": "markdown",
   "metadata": {},
   "source": [
    "And you can see that instead of crashing my program prints out the custom error message well that didn't work. Now that's a better experience, but we can improve on this."
   ]
  },
  {
   "cell_type": "markdown",
   "metadata": {},
   "source": [
    "We can write except sections that handle specific kinds of errors. So let's suppose I have some code in my try section that can cause different kinds of problems."
   ]
  },
  {
   "cell_type": "markdown",
   "metadata": {},
   "source": [
    "So I'm going to write some code in my try section and I'll have an answer variable that's going to take the result of user input, and it's going to say, what should I divide 10 by?"
   ]
  },
  {
   "cell_type": "markdown",
   "metadata": {},
   "source": [
    "And then the number is going to be the result of casting the answer into an integer. And then I'm going to print 10 divided by whatever number the user gives me. Now, in this case, the user might enter a zero, which would cause a divide by zero exception, or they might enter some input that isn't a number which will cause this int function here to fail with a value error exception."
   ]
  },
  {
   "cell_type": "markdown",
   "metadata": {},
   "source": [
    "So to handle both of these separately, I can write multiple except sections. So the first one will handle the divide by zero error. So I'll write except zero division error. In this case, I'll get a local variable named E, which is the exception. And I'll print out you can't divide by zero. In this case, I won't use the local value E but in this case, I will. I'll write except value error as E and I'll print out you didn't give me a valid number. And I'll print out the exception here just to show that it can be done. And there's also one more section that we can add called a finally section. This section contains code that will always execute regardless of whether an error occurred. And you can use it to clean up any resources that you've allocated such as open files or other system resources that you're using. So I'm going to write finally, print this code always runs."
   ]
  },
  {
   "cell_type": "markdown",
   "metadata": {},
   "source": [
    "So let's go ahead and enter a real number, like two. Okay, we can see that that works"
   ]
  },
  {
   "cell_type": "markdown",
   "metadata": {},
   "source": [
    "So the answer is five and we can see that the finally section always runs."
   ]
  },
  {
   "cell_type": "markdown",
   "metadata": {},
   "source": [
    "And this time let's enter something that's not a number so that the int conversion will fail. So I'll just enter blah, and you can see it says, you didn't give me a valid number. And then you can see that it's printing out the actual exception code right there. And then again, the finally section always runs and let's run it one more time. And then let's enter zero and you can see that the zero division error section is being triggered."
   ]
  },
  {
   "cell_type": "code",
   "execution_count": null,
   "metadata": {},
   "outputs": [],
   "source": [
    "# You can also catch specific exceptions\n",
    "try:\n",
    "    answer = input(\"What should I divide 10 by?\")\n",
    "    num = int(answer)\n",
    "    print(10 / num)\n",
    "except ZeroDivisionError as e:\n",
    "    print(\"You can't divide by zero!\")\n",
    "except ValueError as e:\n",
    "    print(\"You didn't give me a valid number!\")\n",
    "    print(e)\n",
    "finally:\n",
    "    print(\"The finally section always runs\")"
   ]
  },
  {
   "cell_type": "markdown",
   "metadata": {},
   "source": [
    "So exceptions make error handling a bit easier to read by centralizing the code for dealing with those errors in one place and separating it from the code that does the program's actual work."
   ]
  }
 ],
 "metadata": {
  "kernelspec": {
   "display_name": "Python 3",
   "language": "python",
   "name": "python3"
  },
  "language_info": {
   "codemirror_mode": {
    "name": "ipython",
    "version": 3
   },
   "file_extension": ".py",
   "mimetype": "text/x-python",
   "name": "python",
   "nbconvert_exporter": "python",
   "pygments_lexer": "ipython3",
   "version": "3.12.4"
  },
  "polyglot_notebook": {
   "kernelInfo": {
    "defaultKernelName": "csharp",
    "items": [
     {
      "aliases": [],
      "name": "csharp"
     }
    ]
   }
  }
 },
 "nbformat": 4,
 "nbformat_minor": 2
}
