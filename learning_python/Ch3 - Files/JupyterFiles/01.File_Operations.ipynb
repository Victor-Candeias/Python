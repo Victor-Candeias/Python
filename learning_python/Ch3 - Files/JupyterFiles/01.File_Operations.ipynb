{
 "cells": [
  {
   "cell_type": "markdown",
   "metadata": {},
   "source": [
    "<h1>\n",
    "    Learn Python\n",
    "</h1>"
   ]
  },
  {
   "cell_type": "markdown",
   "metadata": {},
   "source": [
    "<div>\n",
    "    <h2 style=\"color: yellow\">Files Operations</h2>\n",
    "</div>"
   ]
  },
  {
   "cell_type": "markdown",
   "metadata": {},
   "source": [
    "<h3 style=\"color: lightblue\">Import Libs</h3>"
   ]
  },
  {
   "cell_type": "code",
   "execution_count": 7,
   "metadata": {},
   "outputs": [],
   "source": [
    "import os\n",
    "from os import path"
   ]
  },
  {
   "cell_type": "markdown",
   "metadata": {},
   "source": [
    "<h3 style=\"color: lightblue\">Delete Files for testing</h3>"
   ]
  },
  {
   "cell_type": "code",
   "execution_count": 8,
   "metadata": {},
   "outputs": [],
   "source": [
    "def main():  \n",
    "    # delete files\n",
    "    if path.exists(\"textfile.txt\"):\n",
    "        # get the path to the file in the current directory\n",
    "        src = path.realpath(\"textfile.txt\")\n",
    "        \n",
    "        # delete\n",
    "        os.remove(src)\n",
    "\n",
    "    if path.exists(\"newfile.txt\"):\n",
    "        # get the path to the file in the current directory\n",
    "        src = path.realpath(\"newfile.txt\")\n",
    "        \n",
    "        # delete\n",
    "        os.remove(src)        \n",
    "\n",
    "    if path.exists(\"archive.zip\"):\n",
    "        # get the path to the file in the current directory\n",
    "        src = path.realpath(\"archive.zip\")\n",
    "        \n",
    "        # delete\n",
    "        os.remove(src)   \n",
    "\n",
    "    if path.exists(\"testzip_1.zip\"):\n",
    "        # get the path to the file in the current directory\n",
    "        src = path.realpath(\"testzip_1.zip\")\n",
    "        \n",
    "        # delete\n",
    "        os.remove(src)       \n",
    "\n",
    "    if path.exists(\"textfile.txt.bak\"):\n",
    "        # get the path to the file in the current directory\n",
    "        src = path.realpath(\"textfile.txt.bak\")\n",
    "        \n",
    "        # delete\n",
    "        os.remove(src)   \n",
    "             \n",
    "if __name__ == \"__main__\":\n",
    "    main()"
   ]
  },
  {
   "cell_type": "markdown",
   "metadata": {},
   "source": [
    "<h3 style=\"color: lightblue\">Open a file for writing and create it if it doesn't exist</h3>"
   ]
  },
  {
   "cell_type": "code",
   "execution_count": 4,
   "metadata": {},
   "outputs": [],
   "source": [
    "\n",
    "def main():  \n",
    "    # Open a file for writing and create it if it doesn't exist\n",
    "    f = open(\"textfile.txt\",\"w+\")\n",
    "    \n",
    "    # Open the file for appending text to the end\n",
    "    # f = open(\"textfile.txt\",\"a+\")\n",
    "\n",
    "    # write some lines of data to the file\n",
    "    for i in range(10):\n",
    "        f.write(\"This is line %d\\r\\n\" % (i+1))\n",
    "    \n",
    "    # close the file when done\n",
    "    f.close()\n",
    "        \n",
    "if __name__ == \"__main__\":\n",
    "    main()"
   ]
  },
  {
   "cell_type": "markdown",
   "metadata": {},
   "source": [
    "<h3 style=\"color: lightblue\">Open the file and read the contents</h3>"
   ]
  },
  {
   "cell_type": "code",
   "execution_count": 5,
   "metadata": {},
   "outputs": [
    {
     "name": "stdout",
     "output_type": "stream",
     "text": [
      "contents\n",
      " This is line 1\n",
      "\n",
      "This is line 2\n",
      "\n",
      "This is line 3\n",
      "\n",
      "This is line 4\n",
      "\n",
      "This is line 5\n",
      "\n",
      "This is line 6\n",
      "\n",
      "This is line 7\n",
      "\n",
      "This is line 8\n",
      "\n",
      "This is line 9\n",
      "\n",
      "This is line 10\n",
      "\n",
      "\n"
     ]
    }
   ],
   "source": [
    "def main():  \n",
    "    # Open the file back up and read the contents\n",
    "    f = open(\"textfile.txt\",\"r\")\n",
    "    if f.mode == 'r': # check to make sure that the file was opened\n",
    "        # use the read() function to read the entire file\n",
    "        contents = f.read()\n",
    "        print(\"contents\\n\", contents)\n",
    "    \n",
    "if __name__ == \"__main__\":\n",
    "    main()"
   ]
  },
  {
   "cell_type": "markdown",
   "metadata": {},
   "source": [
    "<h3 style=\"color: lightblue\">Open the file and reads the individual lines into a list</h3>"
   ]
  },
  {
   "cell_type": "code",
   "execution_count": 6,
   "metadata": {},
   "outputs": [
    {
     "name": "stdout",
     "output_type": "stream",
     "text": [
      "This is line 1\n",
      "\n",
      "\n",
      "\n",
      "This is line 2\n",
      "\n",
      "\n",
      "\n",
      "This is line 3\n",
      "\n",
      "\n",
      "\n",
      "This is line 4\n",
      "\n",
      "\n",
      "\n",
      "This is line 5\n",
      "\n",
      "\n",
      "\n",
      "This is line 6\n",
      "\n",
      "\n",
      "\n",
      "This is line 7\n",
      "\n",
      "\n",
      "\n",
      "This is line 8\n",
      "\n",
      "\n",
      "\n",
      "This is line 9\n",
      "\n",
      "\n",
      "\n",
      "This is line 10\n",
      "\n",
      "\n",
      "\n"
     ]
    }
   ],
   "source": [
    "def main():  \n",
    "    # Open the file back up and read the contents\n",
    "    f = open(\"textfile.txt\",\"r\")\n",
    "    if f.mode == 'r': # check to make sure that the file was opened\n",
    "\n",
    "        fl = f.readlines() # readlines reads the individual lines into a list\n",
    "        for x in fl:\n",
    "            print(x)\n",
    "    \n",
    "if __name__ == \"__main__\":\n",
    "    main()"
   ]
  }
 ],
 "metadata": {
  "kernelspec": {
   "display_name": "Python 3",
   "language": "python",
   "name": "python3"
  },
  "language_info": {
   "codemirror_mode": {
    "name": "ipython",
    "version": 3
   },
   "file_extension": ".py",
   "mimetype": "text/x-python",
   "name": "python",
   "nbconvert_exporter": "python",
   "pygments_lexer": "ipython3",
   "version": "3.12.4"
  },
  "polyglot_notebook": {
   "kernelInfo": {
    "defaultKernelName": "csharp",
    "items": [
     {
      "aliases": [],
      "name": "csharp"
     }
    ]
   }
  }
 },
 "nbformat": 4,
 "nbformat_minor": 2
}
