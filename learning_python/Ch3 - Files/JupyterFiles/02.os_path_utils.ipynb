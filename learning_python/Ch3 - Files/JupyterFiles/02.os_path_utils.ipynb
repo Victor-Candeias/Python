{
 "cells": [
  {
   "cell_type": "markdown",
   "metadata": {},
   "source": [
    "<h1>\n",
    "    Learn Python\n",
    "</h1>"
   ]
  },
  {
   "cell_type": "markdown",
   "metadata": {},
   "source": [
    "<div>\n",
    "    <h2 style=\"color: yellow\">OS Path Utils</h2>\n",
    "</div>"
   ]
  },
  {
   "cell_type": "markdown",
   "metadata": {},
   "source": [
    "<h3 style=\"color: lightblue\">Import Libs</h3>"
   ]
  },
  {
   "cell_type": "code",
   "execution_count": 6,
   "metadata": {},
   "outputs": [],
   "source": [
    "import os\n",
    "from os import path\n",
    "import datetime\n",
    "from datetime import date, time, timedelta\n",
    "import time"
   ]
  },
  {
   "cell_type": "markdown",
   "metadata": {},
   "source": [
    "<h3 style=\"color: lightblue\">Print the name of the OS</h3>"
   ]
  },
  {
   "cell_type": "code",
   "execution_count": 7,
   "metadata": {},
   "outputs": [
    {
     "name": "stdout",
     "output_type": "stream",
     "text": [
      "os.name nt\n"
     ]
    }
   ],
   "source": [
    "\n",
    "def main():  \n",
    "    # Print the name of the OS\n",
    "    print(\"os.name\", os.name)\n",
    "        \n",
    "if __name__ == \"__main__\":\n",
    "    main()"
   ]
  },
  {
   "cell_type": "markdown",
   "metadata": {},
   "source": [
    "<h3 style=\"color: lightblue\">Check for item existence and type</h3>"
   ]
  },
  {
   "cell_type": "code",
   "execution_count": 8,
   "metadata": {},
   "outputs": [
    {
     "name": "stdout",
     "output_type": "stream",
     "text": [
      "Item exists: True\n",
      "Item is a file: True\n",
      "Item is a directory: False\n"
     ]
    }
   ],
   "source": [
    "def main():  \n",
    "    # Check for item existence and type\n",
    "    print (\"Item exists: \" + str(path.exists(\"textfile.txt\")))\n",
    "    print (\"Item is a file: \" + str(path.isfile(\"textfile.txt\")))\n",
    "    print (\"Item is a directory: \" + str(path.isdir(\"textfile.txt\")))\n",
    "    \n",
    "if __name__ == \"__main__\":\n",
    "    main()"
   ]
  },
  {
   "cell_type": "markdown",
   "metadata": {},
   "source": [
    "<h3 style=\"color: lightblue\">Work with file paths</h3>"
   ]
  },
  {
   "cell_type": "code",
   "execution_count": 9,
   "metadata": {},
   "outputs": [
    {
     "name": "stdout",
     "output_type": "stream",
     "text": [
      "Item's path: C:\\_MyWork\\Formacao\\Python\\machine_learning\\course1\\Files\\textfile.txt\n",
      "Item's path and name: ('C:\\\\_MyWork\\\\Formacao\\\\Python\\\\machine_learning\\\\course1\\\\Files', 'textfile.txt')\n"
     ]
    }
   ],
   "source": [
    "def main():  \n",
    "    # Work with file paths\n",
    "    print (\"Item's path: \" + str(path.realpath(\"textfile.txt\")))\n",
    "    print (\"Item's path and name: \" + str(path.split(path.realpath(\"textfile.txt\"))))\n",
    "    \n",
    "if __name__ == \"__main__\":\n",
    "    main()"
   ]
  },
  {
   "cell_type": "markdown",
   "metadata": {},
   "source": [
    "<h3 style=\"color: lightblue\">Get the modification time</h3>"
   ]
  },
  {
   "cell_type": "code",
   "execution_count": 10,
   "metadata": {},
   "outputs": [
    {
     "name": "stdout",
     "output_type": "stream",
     "text": [
      "t Thu Jul 18 11:25:32 2024\n",
      "fromtimestamp 2024-07-18 11:25:32.497477\n"
     ]
    }
   ],
   "source": [
    "def main():  \n",
    "    # Get the modification time\n",
    "    t = time.ctime(path.getmtime(\"textfile.txt\"))\n",
    "    print(\"t\", t)\n",
    "    print (\"fromtimestamp\", datetime.datetime.fromtimestamp(path.getmtime(\"textfile.txt\")))\n",
    "    \n",
    "if __name__ == \"__main__\":\n",
    "    main()"
   ]
  },
  {
   "cell_type": "markdown",
   "metadata": {},
   "source": [
    "<h3 style=\"color: lightblue\">Calculate how long ago the item was modified</h3>"
   ]
  },
  {
   "cell_type": "code",
   "execution_count": 11,
   "metadata": {},
   "outputs": [
    {
     "name": "stdout",
     "output_type": "stream",
     "text": [
      "It has been 0:00:37.456314 since the file was modified\n",
      "Or, 37.456314 seconds\n"
     ]
    }
   ],
   "source": [
    "def main():  \n",
    "    # Calculate how long ago the item was modified\n",
    "    td=datetime.datetime.now() - datetime.datetime.fromtimestamp(path.getmtime(\"textfile.txt\"))\n",
    "    print(\"It has been \" + str(td) + \" since the file was modified\")\n",
    "    print(\"Or, \" + str(td.total_seconds()) + \" seconds\")\n",
    "    \n",
    "if __name__ == \"__main__\":\n",
    "    main()"
   ]
  }
 ],
 "metadata": {
  "kernelspec": {
   "display_name": "Python 3",
   "language": "python",
   "name": "python3"
  },
  "language_info": {
   "codemirror_mode": {
    "name": "ipython",
    "version": 3
   },
   "file_extension": ".py",
   "mimetype": "text/x-python",
   "name": "python",
   "nbconvert_exporter": "python",
   "pygments_lexer": "ipython3",
   "version": "3.12.4"
  },
  "polyglot_notebook": {
   "kernelInfo": {
    "defaultKernelName": "csharp",
    "items": [
     {
      "aliases": [],
      "name": "csharp"
     }
    ]
   }
  }
 },
 "nbformat": 4,
 "nbformat_minor": 2
}
