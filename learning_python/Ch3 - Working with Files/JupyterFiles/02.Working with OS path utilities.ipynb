{
 "cells": [
  {
   "cell_type": "markdown",
   "metadata": {},
   "source": [
    "<h1>\n",
    "    Learn Python\n",
    "</h1>"
   ]
  },
  {
   "cell_type": "markdown",
   "metadata": {},
   "source": [
    "<h2 style=\"color: yellow\">Working with OS path utilities</h2>"
   ]
  },
  {
   "cell_type": "markdown",
   "metadata": {},
   "source": [
    "Sometimes you need to perform just some operations with files that go beyond reading and writing data. So for example, you might need to find out information about a file, whether it exists, what the path of the file is, whether a given file is a directory or whatever. So Python provides path related utilities to help you do this and we're going to examine that now."
   ]
  },
  {
   "cell_type": "markdown",
   "metadata": {},
   "source": [
    "Here we imported some modules we're going to need to work on this example. And some of them you might already recognize from previous examples, and we've got a new one here named OS. So this module gives us the ability to work with operating system related features. And you can also see that I've imported the path module from the OS module, and we're also going to be working with some dates and times. And we'll learn about those a little bit."
   ]
  },
  {
   "cell_type": "code",
   "execution_count": null,
   "metadata": {},
   "outputs": [],
   "source": [
    "import os\n",
    "from os import path\n",
    "import datetime\n",
    "from datetime import date, time, timedelta\n",
    "import time"
   ]
  },
  {
   "cell_type": "markdown",
   "metadata": {},
   "source": [
    "So let's start with something really simple. Let's just print the name of the operating system. So I'm going to go ahead and print os.name."
   ]
  },
  {
   "cell_type": "code",
   "execution_count": null,
   "metadata": {},
   "outputs": [],
   "source": [
    "# Print the name of the OS\n",
    "print(\"os.name\", os.name)"
   ]
  },
  {
   "cell_type": "markdown",
   "metadata": {},
   "source": [
    "And when I run that, you can see that nt is being printed out because believe it or not, the official name of Windows is actually nt, internally. So that's the string that comes back when we print the OS name."
   ]
  },
  {
   "cell_type": "markdown",
   "metadata": {},
   "source": [
    "By the way, this is going to be different based on your operating system. If you're running this on Linux or a Mac, you're going to see something different here. So I'm running on Windows. So this is the result that I see."
   ]
  },
  {
   "cell_type": "markdown",
   "metadata": {},
   "source": [
    "So let's take a look at some path related features. So, let's go ahead and see if a particular item exists."
   ]
  },
  {
   "cell_type": "markdown",
   "metadata": {},
   "source": [
    "So what I'm going to do is print item exists, and then I'm going to create a string from the result of path.exists. And I'm going to check to see if textfile.txt exists, and the path class right here, you can see I'm importing that separately from the OS module."
   ]
  },
  {
   "cell_type": "markdown",
   "metadata": {},
   "source": [
    " So now I have access to all these path functions and textfile.txt clearly does exist. And I'm also going to check to see whether it is a file versus being a directory. So I'll write, item is a file and path.isfile. And once again, I'll pass in, textfile.txt, and then we'll do the same thing to check whether it is a directory, which it clearly is not. So instead of calling isfile, I'll call isdir. So in each of these cases, I'm operating on the textfile.txt item."
   ]
  },
  {
   "cell_type": "code",
   "execution_count": null,
   "metadata": {},
   "outputs": [],
   "source": [
    "# Check for item existence and type\n",
    "print (\"Item exists: \" + str(path.exists(\"textfile.txt\")))\n",
    "print (\"Item is a file: \" + str(path.isfile(\"textfile.txt\")))\n",
    "print (\"Item is a directory: \" + str(path.isdir(\"textfile.txt\")))"
   ]
  },
  {
   "cell_type": "markdown",
   "metadata": {},
   "source": [
    "So let's run this. So the item clearly exists. The item is a file."
   ]
  },
  {
   "cell_type": "markdown",
   "metadata": {},
   "source": [
    "Let's try getting the file's full path."
   ]
  },
  {
   "cell_type": "markdown",
   "metadata": {},
   "source": [
    "So I'll print item's path, and that is going to be path dot, I'm going to call the real path function for the textfile.txt item."
   ]
  },
  {
   "cell_type": "markdown",
   "metadata": {},
   "source": [
    "And I'm also going to call the split function to separate the file name from the path. So I'll write item's path and name and I'll call path.split. And then I'll just pass in the result of real path, which is right here. So I'll just copy that and paste it into the split function call."
   ]
  },
  {
   "cell_type": "code",
   "execution_count": null,
   "metadata": {},
   "outputs": [],
   "source": [
    "# Work with file paths\n",
    "print (\"Item's path: \" + str(path.realpath(\"textfile.txt\")))\n",
    "print (\"Item's path and name: \" + str(path.split(path.realpath(\"textfile.txt\"))))"
   ]
  },
  {
   "cell_type": "markdown",
   "metadata": {},
   "source": [
    "So let's run that. So the first is the path without the file name and then the file name by itself. So it's really easy to split those from each other. "
   ]
  },
  {
   "cell_type": "markdown",
   "metadata": {},
   "source": [
    "What we're going to do now is get information about the file's modification time. So what I'm going to do is use the path module to get the modification time of the file and then I'm going to use the time class's c time function to convert that into a readable time."
   ]
  },
  {
   "cell_type": "markdown",
   "metadata": {},
   "source": [
    "Now we haven't covered dates and times yet, but you can see that I've imported the classes to work with them. And we'll learn about those in a little while, but for now, just bear with me as I do this."
   ]
  },
  {
   "cell_type": "markdown",
   "metadata": {},
   "source": [
    "So I'm going to write T equals and I'm going to call the time classes, c time function. And I'm going to call the path classes, getmtime, which means get the modification time of textfile.txt and then I'll just simply print the result. And I'm also going to use the get modification time function to construct a date, time object using the from timestamp function that's built into the time class."
   ]
  },
  {
   "cell_type": "markdown",
   "metadata": {},
   "source": [
    "So I'm going to print out, and for this, I'm going to use the datetimes module. Okay, and the datetime module actually has a datetime class in it. All right, so I've got datetime.datetime."
   ]
  },
  {
   "cell_type": "markdown",
   "metadata": {},
   "source": [
    "And then the argument that I'm going to give the from timestamp function is this right here, path.getmtime of the file."
   ]
  },
  {
   "cell_type": "markdown",
   "metadata": {},
   "source": [
    "It's just a couple of different ways of accomplishing more or less the same thing."
   ]
  },
  {
   "cell_type": "code",
   "execution_count": null,
   "metadata": {},
   "outputs": [],
   "source": [
    "# Get the modification time\n",
    "t = time.ctime(path.getmtime(\"textfile.txt\"))\n",
    "print(\"t\", t)\n",
    "print (\"fromtimestamp\", datetime.datetime.fromtimestamp(path.getmtime(\"textfile.txt\")))"
   ]
  },
  {
   "cell_type": "markdown",
   "metadata": {},
   "source": [
    "And we can see that the modification timestamp being printed out using two different formats. So you can see that the file was modified and here's a nice readable version. And then here is the result that comes from the timestamp."
   ]
  },
  {
   "cell_type": "markdown",
   "metadata": {},
   "source": [
    "So one more example, and this time it's going to involve some date math. What I'm going to do is calculate how long ago the file was modified. So I'm going to create a variable named td, and I'm going to assign that to datetime.datetime, and I'm going to call the now function. And that will give me the current time, so that's going to give me the current time that I have right now, and I'm going to subtract off datetime.datetimes class. And I'm going to call the from timestamp method again."
   ]
  },
  {
   "cell_type": "markdown",
   "metadata": {},
   "source": [
    "So I'm taking the current time and subtracting off the modification time. So I'm performing math with the dates. And then what I'm going to do is print It has been, and then, td, and then, since the file was modified."
   ]
  },
  {
   "cell_type": "markdown",
   "metadata": {},
   "source": [
    "And then I'm going to do one other thing. I'm going to print, let's get rid of that space, I'm going to print or td dot, and I'm going to call the total seconds function and I'm going to print out seconds."
   ]
  },
  {
   "cell_type": "markdown",
   "metadata": {},
   "source": [
    "What this is going to create a time delta, which is an amount of time. It's a span of time that i can use this to figure out a amount of time by subtracting two dates from each other."
   ]
  },
  {
   "cell_type": "code",
   "execution_count": null,
   "metadata": {},
   "outputs": [],
   "source": [
    "# Calculate how long ago the item was modified\n",
    "td=datetime.datetime.now() - datetime.datetime.fromtimestamp(path.getmtime(\"textfile.txt\"))\n",
    "print(\"It has been \" + str(td) + \" since the file was modified\")\n",
    "print(\"Or, \" + str(td.total_seconds()) + \" seconds\")"
   ]
  },
  {
   "cell_type": "markdown",
   "metadata": {},
   "source": [
    "And you can see right here in the result that it has been more or less, almost x minutes since the file was last modified or 1,013 seconds since the file was last modified."
   ]
  }
 ],
 "metadata": {
  "kernelspec": {
   "display_name": "Python 3",
   "language": "python",
   "name": "python3"
  },
  "language_info": {
   "codemirror_mode": {
    "name": "ipython",
    "version": 3
   },
   "file_extension": ".py",
   "mimetype": "text/x-python",
   "name": "python",
   "nbconvert_exporter": "python",
   "pygments_lexer": "ipython3",
   "version": "3.12.4"
  },
  "polyglot_notebook": {
   "kernelInfo": {
    "defaultKernelName": "csharp",
    "items": [
     {
      "aliases": [],
      "name": "csharp"
     }
    ]
   }
  }
 },
 "nbformat": 4,
 "nbformat_minor": 2
}
