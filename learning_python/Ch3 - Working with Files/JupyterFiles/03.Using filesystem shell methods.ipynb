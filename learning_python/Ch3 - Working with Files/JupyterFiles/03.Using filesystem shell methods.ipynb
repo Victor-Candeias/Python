{
 "cells": [
  {
   "cell_type": "markdown",
   "metadata": {},
   "source": [
    "<h1>\n",
    "    Learn Python\n",
    "</h1>"
   ]
  },
  {
   "cell_type": "markdown",
   "metadata": {},
   "source": [
    "<div>\n",
    "    <h2 style=\"color: yellow\">Using filesystem shell methods</h2>\n",
    "</div>"
   ]
  },
  {
   "cell_type": "markdown",
   "metadata": {},
   "source": [
    "So far in this chapter, we've seen how to create files and how to get information about files, and Python provides a set of utilities for manipulating files using the operating system's shell utilities, and that's what we're going to look at in this example."
   ]
  },
  {
   "cell_type": "markdown",
   "metadata": {},
   "source": [
    "To use the shell utilities, I first need to import the SH Util module into my app, so let's do that first. So I'll import SH Util, and you can see that I've already imported the OS and the OS path modules into my app as well."
   ]
  },
  {
   "cell_type": "code",
   "execution_count": null,
   "metadata": {},
   "outputs": [],
   "source": [
    "import os\n",
    "from os import path\n",
    "import shutil"
   ]
  },
  {
   "cell_type": "markdown",
   "metadata": {},
   "source": [
    "Now, this example depends on the Textfile.txt file existing, and you can see I've got it over here in my file browser."
   ]
  },
  {
   "cell_type": "markdown",
   "metadata": {},
   "source": [
    "So first, you can see that the code uses the Path Class's Exists function to make sure that Textfile.txt exists. And so, if it does, what I'm going to do is retrieve the path information for the file. So I'll create a source variable, and I'll set that to be Path.realpath, and I will get the real path for Textfile.txt. So that gives me the path to the file."
   ]
  },
  {
   "cell_type": "markdown",
   "metadata": {},
   "source": [
    "Now, to make a copy, I'm going to use this original path, and I'm going to just put a .bak extension on the file. So what I'm going to do is make a destination variable, and that's going to be Source plus .bak inside quotes, because it's a string."
   ]
  },
  {
   "cell_type": "markdown",
   "metadata": {},
   "source": [
    "Now, I'm going to make a copy using the Copy function of the SH Util module. So I'll call SHUtil.copy, and that's going to take the source and copy it to the destination."
   ]
  },
  {
   "cell_type": "markdown",
   "metadata": {},
   "source": [
    "And if this works, then we should see both Textfile.txt and Textfile.txt.bak for backup. So let's go ahead and run this."
   ]
  },
  {
   "cell_type": "code",
   "execution_count": null,
   "metadata": {},
   "outputs": [],
   "source": [
    "# make a duplicate of an existing file\n",
    "if path.exists(\"textfile.txt\"):\n",
    "    # get the path to the file in the current directory\n",
    "    src = path.realpath(\"textfile.txt\")\n",
    "        \n",
    "    # let's make a backup copy by appending \"bak\" to the name\n",
    "    dst = src + \".bak\"\n",
    "    # now use the shell to make a copy of the file\n",
    "    shutil.copy(src,dst)"
   ]
  },
  {
   "cell_type": "markdown",
   "metadata": {},
   "source": [
    "And sure enough, you can see that Textfile.txt.bak shows up over here in the list."
   ]
  },
  {
   "cell_type": "markdown",
   "metadata": {},
   "source": [
    "And what we're going to do is use the Rename function. So this is located in the OS module, and I'm going to call the Rename function, and Rename takes two arguments, the original file that I want to rename and the file I want to rename it to. So I'm going to rename Textfile.txt to Newfile.txt."
   ]
  },
  {
   "cell_type": "markdown",
   "metadata": {},
   "source": [
    "And as you might imagine, this just renames the file specified in the first argument to have the name in the second argument."
   ]
  },
  {
   "cell_type": "markdown",
   "metadata": {},
   "source": [
    "So let's go ahead and try this. So let's run."
   ]
  },
  {
   "cell_type": "code",
   "execution_count": null,
   "metadata": {},
   "outputs": [],
   "source": [
    "# rename the original file\n",
    "os.rename(\"textfile.txt\", \"newfile.txt\")"
   ]
  },
  {
   "cell_type": "markdown",
   "metadata": {},
   "source": [
    "And let's see, yep, sure enough, you can see now that there's Newfile.txt and Textfile.txt is renamed, so it's not there anymore. So, using the shell is more than just about manipulating files."
   ]
  },
  {
   "cell_type": "markdown",
   "metadata": {},
   "source": [
    "Let's put some content into a zip archive. So we're going to use the Shell Utilities Make Archive function in order to create an archive file that contains the contents of this entire directory, all of this Python code, every file that's in here. So to do that, I first need to import the Make Archive class. So from Shell Util, I'm going to import Make Archive."
   ]
  },
  {
   "cell_type": "code",
   "execution_count": null,
   "metadata": {},
   "outputs": [],
   "source": [
    "from shutil import make_archive\n",
    "from zipfile import ZipFile"
   ]
  },
  {
   "cell_type": "markdown",
   "metadata": {},
   "source": [
    "So first, I need to get the directory path from the full path of one of these files, and that will give me the path to this file's directory right here."
   ]
  },
  {
   "cell_type": "markdown",
   "metadata": {},
   "source": [
    "So what I'm going to do is call the Path.split function. And Path.split, remember, we saw this earlier. I'm going to pass in the source variable here. This gives me the real path up to this text file. And I'm going to assign the results. Remember that split returns two values. So I'm going to assign the root_dir and tail, which isn't going to be used, to the results of Path.split. So that will give me the directory name right here in this variable, this is what I'm going to use. And then, what I need to do is call the Make Archive function. So I'll call SHUtil.makearchive, and I need to give it the name that I want to create. So I'll just call that Archive, and then I need to give it the format, and I want it to create a zip file. And then, the directory that I want to place into the zip file, and that's going to be root_dir."
   ]
  },
  {
   "cell_type": "markdown",
   "metadata": {},
   "source": [
    "So now, we can save and we can run this. So we'll run this on the terminal, and it runs. And sure enough, you can see that Archive.zip is right there. Now, if you were to look inside this zip file, you would see all the files in here, all the Python code, these text files that we've created and so on"
   ]
  },
  {
   "cell_type": "code",
   "execution_count": null,
   "metadata": {},
   "outputs": [],
   "source": [
    "src = path.realpath(\"newfile.txt\")\n",
    "\n",
    "# now put things into a ZIP archive\n",
    "root_dir,tail = path.split(src)\n",
    "shutil.make_archive(\"archive\", \"zip\", root_dir)"
   ]
  },
  {
   "cell_type": "markdown",
   "metadata": {},
   "source": [
    "Actually we can get finer-grain control over adding specific items to the archive, so let's try that next."
   ]
  },
  {
   "cell_type": "markdown",
   "metadata": {},
   "source": [
    "I need to add code for creating the custom zip file. And what I'm going to do is use the With keyword. So, the With keyword lets me create a local scope that simplifies working with objects. So I'm going to write With Zip File. And zip file takes a couple of arguments, similar to other file-based functions in Python, so I'm going to give it the name that I want to create, and that's going to be Testzip.zip."
   ]
  },
  {
   "cell_type": "markdown",
   "metadata": {},
   "source": [
    "And then, I need to give it the file access, so I want to be able to write to the archive. And then I'm going to use the As keyword, I'm going to say As New Zip. So I'm creating this variable with the result of this class's construction, and this makes it simpler for me to manage the context of opening and closing files."
   ]
  },
  {
   "cell_type": "markdown",
   "metadata": {},
   "source": [
    "So, since this is a context manager, I indent my code. And what I'm going to do is manually add things to the zip file. So I'm going to write New Zip and I'm going to call the Write function, and I'll add Newfile.txt, I have to put that in quotes. And I'll also write Newzip.write and I'll add the Textfile.txt.bak files."
   ]
  },
  {
   "cell_type": "markdown",
   "metadata": {},
   "source": [
    "So I'm only going to add this file and this file to this archive, and everything else just gets left alone. And if this works, we should see a new file called Testzip.zip get created."
   ]
  },
  {
   "cell_type": "code",
   "execution_count": null,
   "metadata": {},
   "outputs": [],
   "source": [
    "# more fine-grained control over ZIP files\n",
    "with ZipFile(\"testzip_1.zip\",\"w\") as newzip:\n",
    "    newzip.write(\"newfile.txt\")\n",
    "    newzip.write(\"textfile.txt.bak\")"
   ]
  },
  {
   "cell_type": "markdown",
   "metadata": {},
   "source": [
    "If you open up the Archive.zip, you'll see all these files, and if you open up the Test Zip archive, you'll only see these two files that are in there. So, you can see that by using the Shell Utilities module of Python, it gives you really great control over manipulating file objects in the operating system."
   ]
  }
 ],
 "metadata": {
  "kernelspec": {
   "display_name": "Python 3",
   "language": "python",
   "name": "python3"
  },
  "language_info": {
   "codemirror_mode": {
    "name": "ipython",
    "version": 3
   },
   "file_extension": ".py",
   "mimetype": "text/x-python",
   "name": "python",
   "nbconvert_exporter": "python",
   "pygments_lexer": "ipython3",
   "version": "3.12.4"
  },
  "polyglot_notebook": {
   "kernelInfo": {
    "defaultKernelName": "csharp",
    "items": [
     {
      "aliases": [],
      "name": "csharp"
     }
    ]
   }
  }
 },
 "nbformat": 4,
 "nbformat_minor": 2
}
