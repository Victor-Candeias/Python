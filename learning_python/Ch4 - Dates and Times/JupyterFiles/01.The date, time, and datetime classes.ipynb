{
 "cells": [
  {
   "cell_type": "markdown",
   "metadata": {},
   "source": [
    "<h1>\n",
    "    Learn Python\n",
    "</h1>"
   ]
  },
  {
   "cell_type": "markdown",
   "metadata": {},
   "source": [
    "<h2 style=\"color: yellow\">The date, time, and datetime classes</h2>"
   ]
  },
  {
   "cell_type": "markdown",
   "metadata": {},
   "source": [
    "In this chapter, we're going to focus on manipulating dates and times. And we're going to start off by learning about some of the basic classes and types that are available for this purpose."
   ]
  },
  {
   "cell_type": "markdown",
   "metadata": {},
   "source": [
    "And what I'm going to do is rather than import everything from date times module, I'm going to write from datetime import date. And I'll do the same thing from datetime import time and then from datetime import and this may be a little bit confusing but there's actually a datetime class inside the datetime module. So I'm going to go ahead and import that as well."
   ]
  },
  {
   "cell_type": "code",
   "execution_count": null,
   "metadata": {},
   "outputs": [],
   "source": [
    "from datetime import date\n",
    "from datetime import time\n",
    "from datetime import datetime"
   ]
  },
  {
   "cell_type": "markdown",
   "metadata": {},
   "source": [
    "So for the first example, let's just print out today's date. So we are going to write today equals date.today. And then I'll print a string that indicates today's date and the today variable"
   ]
  },
  {
   "cell_type": "markdown",
   "metadata": {},
   "source": [
    "So this code calls the today method on the date class which returns information about the current date."
   ]
  },
  {
   "cell_type": "code",
   "execution_count": null,
   "metadata": {},
   "outputs": [],
   "source": [
    "# Get today's date from the simple today() method from the date class\n",
    "today = date.today()\n",
    "\n",
    "## DATE OBJECTS\n",
    "# Get today's date from the simple today() method from the date class\n",
    "print (\"Today's date is \", today) "
   ]
  },
  {
   "cell_type": "markdown",
   "metadata": {},
   "source": [
    "And you can see that today's date."
   ]
  },
  {
   "cell_type": "markdown",
   "metadata": {},
   "source": [
    "So for the next example let's print out some of the individual components of a particular date object. So using the today variable, I'm going to print out (indistinct) string says date components and then I'm going to print today.day, today.month and today.year."
   ]
  },
  {
   "cell_type": "markdown",
   "metadata": {},
   "source": [
    "So the object that comes back from the today function has several properties associated with it. I can get the individual day, the individual month, the individual year among other things."
   ]
  },
  {
   "cell_type": "code",
   "execution_count": null,
   "metadata": {},
   "outputs": [],
   "source": [
    "# print out the date's individual components\n",
    "print (\"Date Components: \", today.day, today.month, today.year)"
   ]
  },
  {
   "cell_type": "markdown",
   "metadata": {},
   "source": [
    "And you can see in the output that the day components here is the day, here's the month and here is the year."
   ]
  },
  {
   "cell_type": "markdown",
   "metadata": {},
   "source": [
    "So the date object also provides some other useful properties that I can use in other more advanced features of an application. So for example, I can retrieve what's called the weekday number."
   ]
  },
  {
   "cell_type": "markdown",
   "metadata": {},
   "source": [
    "And that starts off at zero for Monday and goes up to six for Sunday. I'll print that today's weekday number and I'll access today.weekday."
   ]
  },
  {
   "cell_type": "code",
   "execution_count": null,
   "metadata": {},
   "outputs": [],
   "source": [
    "# retrieve today's weekday (0=Monday, 6=Sunday)\n",
    "print (\"Today's Weekday #: \", today.weekday())"
   ]
  },
  {
   "cell_type": "markdown",
   "metadata": {},
   "source": [
    "So let's imagine I had some list variable and I want it to provide an index into that list that depended on the weekday. So I can have something like days and then days could be a series or a list of strings like Monday, Tuesday, right, Wednesday, Thursday, Friday and then we'll just do the weekend as well. So what I can then do is something like this. I can print which is a, and then I'll print out, I put a space there as well, I'll print out the day's list and I'll index into the day's list using today.weekday."
   ]
  },
  {
   "cell_type": "code",
   "execution_count": null,
   "metadata": {},
   "outputs": [],
   "source": [
    "days = [\"monday\",\"tuesday\",\"wednesday\",\"thursday\",\"friday\",\"saturday\",\"sunday\"]\n",
    "print (\"Which is a \" + days[today.weekday()])"
   ]
  },
  {
   "cell_type": "markdown",
   "metadata": {},
   "source": [
    "Let's try working with some datetime objects. So just like working with dates, I can get times as well. So using the datetime class instead of the date class, I can call the now function."
   ]
  },
  {
   "cell_type": "markdown",
   "metadata": {},
   "source": [
    "And that will give me the current date as well as the current time. And let's run what we have."
   ]
  },
  {
   "cell_type": "code",
   "execution_count": null,
   "metadata": {},
   "outputs": [],
   "source": [
    "today = datetime.now()\n",
    "\n",
    "## DATETIME OBJECTS\n",
    "# Get today's date from the datetime class\n",
    "print  (\"The current date and time is \", today)"
   ]
  },
  {
   "cell_type": "markdown",
   "metadata": {},
   "source": [
    "And you can see that it says the current date and time. I've got hours, minutes, seconds, and even some milliseconds."
   ]
  },
  {
   "cell_type": "markdown",
   "metadata": {},
   "source": [
    "So to get the current time, we need to get the time portion of the datetime object."
   ]
  },
  {
   "cell_type": "markdown",
   "metadata": {},
   "source": [
    "So I'm going to have a variable named t and I'm going to call datetime.time. And then I'll pass the datetime.now's result into that. And then I'll print the current time is and then the t variable.\n",
    "And the datetime class remember we imported that up here in the import list. So that's the item in the top in the import and that's this object I'm going to be using right here. So I can now create a class, a timeclass object and give it the value of datetime.now.  And that will give me just the time."
   ]
  },
  {
   "cell_type": "markdown",
   "metadata": {},
   "source": [
    "So let's go ahead and run this."
   ]
  },
  {
   "cell_type": "code",
   "execution_count": null,
   "metadata": {},
   "outputs": [],
   "source": [
    "# Get the current time\n",
    "t = datetime.time(datetime.now())\n",
    "print (\"The current time is \", t)"
   ]
  },
  {
   "cell_type": "markdown",
   "metadata": {},
   "source": [
    "You can see in the output, it says the current date and time, that's what we got before. And now it says the current time and it shows me just the time now."
   ]
  }
 ],
 "metadata": {
  "kernelspec": {
   "display_name": "Python 3",
   "language": "python",
   "name": "python3"
  },
  "language_info": {
   "codemirror_mode": {
    "name": "ipython",
    "version": 3
   },
   "file_extension": ".py",
   "mimetype": "text/x-python",
   "name": "python",
   "nbconvert_exporter": "python",
   "pygments_lexer": "ipython3",
   "version": "3.12.4"
  },
  "polyglot_notebook": {
   "kernelInfo": {
    "defaultKernelName": "csharp",
    "items": [
     {
      "aliases": [],
      "name": "csharp"
     }
    ]
   }
  }
 },
 "nbformat": 4,
 "nbformat_minor": 2
}
