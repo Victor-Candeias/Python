{
 "cells": [
  {
   "cell_type": "markdown",
   "metadata": {},
   "source": [
    "<h1>\n",
    "    Learn Python\n",
    "</h1>"
   ]
  },
  {
   "cell_type": "markdown",
   "metadata": {},
   "source": [
    "<h2 style=\"color: yellow\">Formatting time output</h2>"
   ]
  },
  {
   "cell_type": "markdown",
   "metadata": {},
   "source": [
    "Now that we've seen how to retrieve basic date and time information in Python, let's take a look at how to format that information using a set of predefined string formatting codes."
   ]
  },
  {
   "cell_type": "markdown",
   "metadata": {},
   "source": [
    "I have to import statement to import the date time class"
   ]
  },
  {
   "cell_type": "code",
   "execution_count": null,
   "metadata": {},
   "outputs": [],
   "source": [
    "from datetime import datetime"
   ]
  },
  {
   "cell_type": "markdown",
   "metadata": {},
   "source": [
    "Now, in this example, so you don't need to do that. And Python provides a standard set of string formatting codes that you can use in a variety of scenarios. Now, if you've ever done any programming in C or C++, and used the standard C library, some of these codes might look familiar to you. If not, they're pretty easy to understand once you've seen them in action."
   ]
  },
  {
   "cell_type": "markdown",
   "metadata": {},
   "source": [
    "So let's start with a familiar piece of code to get the current date and time. So, I'm going to create a variable called now, and I'm going to call it datetime.now. So now I've got the current date and time."
   ]
  },
  {
   "cell_type": "code",
   "execution_count": null,
   "metadata": {},
   "outputs": [],
   "source": [
    "# Times and dates can be formatted using a set of predefined string\n",
    "# control codes \n",
    "now = datetime.now() # get the current date and time"
   ]
  },
  {
   "cell_type": "markdown",
   "metadata": {},
   "source": [
    "Let's have a look at some of the options I have available to me to format the output. So to format data information, you use what's called the strftime function, which is available as a method on the datetime object that as returned by the now function."
   ]
  },
  {
   "cell_type": "markdown",
   "metadata": {},
   "source": [
    "I'm going to print, now.strftime. This function takes a string argument that contains one or more of these formatting codes, and we'll get into that in a second, which function as placeholders for date and time data."
   ]
  },
  {
   "cell_type": "markdown",
   "metadata": {},
   "source": [
    "So for example, to format a string with the full year number, I could use something like this. I would write the current year is, and then %Y."
   ]
  },
  {
   "cell_type": "code",
   "execution_count": null,
   "metadata": {},
   "outputs": [],
   "source": [
    "# Times and dates can be formatted using a set of predefined string\n",
    "# control codes \n",
    "#### Date Formatting ####\n",
    "\n",
    "# %y/%Y - Year, %a/%A - weekday, %b/%B - month, %d - day of month\n",
    "print (now.strftime(\"The current year is: %Y\")) # full year with century"
   ]
  },
  {
   "cell_type": "markdown",
   "metadata": {},
   "source": [
    "And in the output, you can see at the current year is 2024."
   ]
  },
  {
   "cell_type": "markdown",
   "metadata": {},
   "source": [
    "Now, I can also mix these codes with regular texts, so let's get a little bit more fancy."
   ]
  },
  {
   "cell_type": "markdown",
   "metadata": {},
   "source": [
    "And what I'm going to do is use several of the codes in the same string at once."
   ]
  },
  {
   "cell_type": "markdown",
   "metadata": {},
   "source": [
    "I'm going to use %a. And %a, you can see here in the comment means the weekday. So I'll do %a, then %d. And you can see %d is the day of the month, and then I'll do a space with %B, and the capital is important there. And the B means the month, but I'm going to capitalize it. And then after %B I'll put another comma and put %y. And you can see that y and Y are the year, and we'll see what the lowercase and uppercase does in just a moment. So, this formatting string will print the abbreviated day name, followed by the day of the month, then the full month name, which is what the capital means, and then the two digit abbreviated year."
   ]
  },
  {
   "cell_type": "code",
   "execution_count": null,
   "metadata": {},
   "outputs": [],
   "source": [
    "# Times and dates can be formatted using a set of predefined string\n",
    "# control codes \n",
    "#### Date Formatting ####\n",
    "\n",
    "# %y/%Y - Year, %a/%A - weekday, %b/%B - month, %d - day of month\n",
    "print (now.strftime(\"%a, %d %B, %y\")) # abbreviated day, num, full month, abbreviated year"
   ]
  },
  {
   "cell_type": "markdown",
   "metadata": {},
   "source": [
    "Python also gives you a way of printing out locale specific information. So rather than having to manually figure out these specific locale your application is being run in and how to print out information using the current localized versions of date and times, there's a set of codes to do that for you."
   ]
  },
  {
   "cell_type": "markdown",
   "metadata": {},
   "source": [
    "So I'll enter some code to try that out. So let's try printing now.strftime, and I'm going to write locale date and time, and that's going to be %c."
   ]
  },
  {
   "cell_type": "markdown",
   "metadata": {},
   "source": [
    "And then just doing the locale date by itself, that's going to be %x."
   ]
  },
  {
   "cell_type": "markdown",
   "metadata": {},
   "source": [
    "And I'll do locale time and that's going to be X."
   ]
  },
  {
   "cell_type": "code",
   "execution_count": null,
   "metadata": {},
   "outputs": [],
   "source": [
    "# Times and dates can be formatted using a set of predefined string\n",
    "# control codes \n",
    "#### Date Formatting ####\n",
    "\n",
    "# %c - locale's date and time, %x - locale's date, %X - locale's time\n",
    "print (now.strftime(\"Locale date and time: %c\"))\n",
    "print (now.strftime(\"Locale date: %x\"))\n",
    "print (now.strftime(\"Locale time: %X\"))"
   ]
  },
  {
   "cell_type": "markdown",
   "metadata": {},
   "source": [
    "All right, and sure enough, you can see that the locale date and time is printed using my local computer settings."
   ]
  },
  {
   "cell_type": "markdown",
   "metadata": {},
   "source": [
    "So the control codes c and x and X allow you to use whatever the current locale supporting format is for dates and times."
   ]
  },
  {
   "cell_type": "markdown",
   "metadata": {},
   "source": [
    "Let's finish up with a look at time formatting. So just the same way that you can print formatted data information, you can print formatted time information as well."
   ]
  },
  {
   "cell_type": "markdown",
   "metadata": {},
   "source": [
    "So, I'll print now.strftime and this time I'll write out the current time and I'll use %I, and that's for the hour and then a colon, and then %M, M for the minute, and then another colon, and then %S, S for the second, and then I'll put a space and a %p and that's going to be the a.m. or the p.m. And then I'll do one more, and this time I'll do 24 hour time. And in this case, instead of the I, I'll do %H and just the M and I'll take off the S and the P."
   ]
  },
  {
   "cell_type": "code",
   "execution_count": null,
   "metadata": {},
   "outputs": [],
   "source": [
    "# %I/%H - 12/24 Hour, %M - minute, %S - second, %p - locale's AM/PM\n",
    "print (now.strftime(\"Current time: %I:%M:%S %p\")) # 12-Hour:Minute:Second:AM\n",
    "print (now.strftime(\"24-hour time: %H:%M\")) # 24-Hour:Minute"
   ]
  },
  {
   "cell_type": "markdown",
   "metadata": {},
   "source": [
    "Let's run this. And now, you can see that I'm controlling how the time is formatted. So for the current time, I've got 10:50:30 p.m. and then for the 24 hour time I've got 15:43."
   ]
  },
  {
   "cell_type": "markdown",
   "metadata": {},
   "source": [
    "Now, if this were the morning, this would print out a 24 hour based value, so this value would be less than 12."
   ]
  }
 ],
 "metadata": {
  "kernelspec": {
   "display_name": "Python 3",
   "language": "python",
   "name": "python3"
  },
  "language_info": {
   "codemirror_mode": {
    "name": "ipython",
    "version": 3
   },
   "file_extension": ".py",
   "mimetype": "text/x-python",
   "name": "python",
   "nbconvert_exporter": "python",
   "pygments_lexer": "ipython3",
   "version": "3.12.4"
  },
  "polyglot_notebook": {
   "kernelInfo": {
    "defaultKernelName": "csharp",
    "items": [
     {
      "aliases": [],
      "name": "csharp"
     }
    ]
   }
  }
 },
 "nbformat": 4,
 "nbformat_minor": 2
}
