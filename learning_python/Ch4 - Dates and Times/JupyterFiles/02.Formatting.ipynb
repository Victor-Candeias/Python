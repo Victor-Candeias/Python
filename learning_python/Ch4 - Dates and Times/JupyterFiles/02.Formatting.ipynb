{
 "cells": [
  {
   "cell_type": "markdown",
   "metadata": {},
   "source": [
    "<h1>\n",
    "    Learn Python\n",
    "</h1>"
   ]
  },
  {
   "cell_type": "markdown",
   "metadata": {},
   "source": [
    "<div>\n",
    "    <h2 style=\"color: yellow\">Date and Time Formatting</h2>\n",
    "</div>"
   ]
  },
  {
   "cell_type": "markdown",
   "metadata": {},
   "source": [
    "<h3 style=\"color: lightblue\">Import Libs</h3>"
   ]
  },
  {
   "cell_type": "code",
   "execution_count": 5,
   "metadata": {},
   "outputs": [],
   "source": [
    "from datetime import datetime"
   ]
  },
  {
   "cell_type": "markdown",
   "metadata": {},
   "source": [
    "<h3 style=\"color: lightblue\">Date Formatting</h3>"
   ]
  },
  {
   "cell_type": "code",
   "execution_count": 6,
   "metadata": {},
   "outputs": [
    {
     "name": "stdout",
     "output_type": "stream",
     "text": [
      "The current year is: 2024\n",
      "Thu, 18 July, 24\n",
      "Locale date and time: Thu Jul 18 11:38:01 2024\n",
      "Locale date: 07/18/24\n",
      "Locale time: 11:38:01\n"
     ]
    }
   ],
   "source": [
    "# Times and dates can be formatted using a set of predefined string\n",
    "# control codes \n",
    "now = datetime.now() # get the current date and time\n",
    "\n",
    "def main():\n",
    "    #### Date Formatting ####\n",
    "    \n",
    "    # %y/%Y - Year, %a/%A - weekday, %b/%B - month, %d - day of month\n",
    "    print (now.strftime(\"The current year is: %Y\")) # full year with century\n",
    "    print (now.strftime(\"%a, %d %B, %y\")) # abbreviated day, num, full month, abbreviated year\n",
    "    \n",
    "    # %c - locale's date and time, %x - locale's date, %X - locale's time\n",
    "    print (now.strftime(\"Locale date and time: %c\"))\n",
    "    print (now.strftime(\"Locale date: %x\"))\n",
    "    print (now.strftime(\"Locale time: %X\"))\n",
    "             \n",
    "if __name__ == \"__main__\":\n",
    "    main()"
   ]
  },
  {
   "cell_type": "markdown",
   "metadata": {},
   "source": [
    "<h3 style=\"color: lightblue\">Time Formatting</h3>"
   ]
  },
  {
   "cell_type": "code",
   "execution_count": 7,
   "metadata": {},
   "outputs": [
    {
     "name": "stdout",
     "output_type": "stream",
     "text": [
      "Current time: 11:38:01 AM\n",
      "24-hour time: 11:38\n"
     ]
    }
   ],
   "source": [
    "\n",
    "def main():\n",
    "    # %I/%H - 12/24 Hour, %M - minute, %S - second, %p - locale's AM/PM\n",
    "    print (now.strftime(\"Current time: %I:%M:%S %p\")) # 12-Hour:Minute:Second:AM\n",
    "    print (now.strftime(\"24-hour time: %H:%M\")) # 24-Hour:Minute\n",
    "        \n",
    "if __name__ == \"__main__\":\n",
    "    main()"
   ]
  }
 ],
 "metadata": {
  "kernelspec": {
   "display_name": "Python 3",
   "language": "python",
   "name": "python3"
  },
  "language_info": {
   "codemirror_mode": {
    "name": "ipython",
    "version": 3
   },
   "file_extension": ".py",
   "mimetype": "text/x-python",
   "name": "python",
   "nbconvert_exporter": "python",
   "pygments_lexer": "ipython3",
   "version": "3.12.4"
  },
  "polyglot_notebook": {
   "kernelInfo": {
    "defaultKernelName": "csharp",
    "items": [
     {
      "aliases": [],
      "name": "csharp"
     }
    ]
   }
  }
 },
 "nbformat": 4,
 "nbformat_minor": 2
}
