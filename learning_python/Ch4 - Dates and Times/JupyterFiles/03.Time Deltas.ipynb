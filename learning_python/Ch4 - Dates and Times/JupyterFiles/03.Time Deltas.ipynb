{
 "cells": [
  {
   "cell_type": "markdown",
   "metadata": {},
   "source": [
    "<h1>\n",
    "    Learn Python\n",
    "</h1>"
   ]
  },
  {
   "cell_type": "markdown",
   "metadata": {},
   "source": [
    "<h2 style=\"color: yellow\">Using timedelta objects</h2>"
   ]
  },
  {
   "cell_type": "markdown",
   "metadata": {},
   "source": [
    "A common scenario involving dates and times involves performing mathematical operations on date and time values themselves. So for example, given a particular date, you might want to calculate a date in the future or the past relative to that date. And we can use the timedelta class in Python to help us with this."
   ]
  },
  {
   "cell_type": "markdown",
   "metadata": {},
   "source": [
    "Imported some of the modules and classes I'm going to need."
   ]
  },
  {
   "cell_type": "markdown",
   "metadata": {},
   "source": [
    "So in order to use timedeltas, we first need to import the correct class from the daytime package. So let's do that first. So from datetime, I'm going to import the timedelta class, and a timedelta is basically a span of time. It's not a particular date, it's not a particular time, it's an amount of time, and you can use this class to perform time-based math."
   ]
  },
  {
   "cell_type": "code",
   "execution_count": null,
   "metadata": {},
   "outputs": [],
   "source": [
    "from datetime import date\n",
    "from datetime import time\n",
    "from datetime import datetime\n",
    "from datetime import timedelta"
   ]
  },
  {
   "cell_type": "markdown",
   "metadata": {},
   "source": [
    "First to construct a timedelta, all you need to do is create the timedelta class and then passing the amount of time that you want the Delta to represent. So I'll do something really simple, I'll create a timedelta, and I'm going to pass in some parameters. There's different properties you can pass in. I'm going to specify that the number of days should be 365 and then it's going to be five hours and minutes is going to be equal to one."
   ]
  },
  {
   "cell_type": "markdown",
   "metadata": {},
   "source": [
    "So I'm creating a timedelta the represents 365 days, five hours, and one minute, and I'm going to print that out."
   ]
  },
  {
   "cell_type": "code",
   "execution_count": null,
   "metadata": {},
   "outputs": [],
   "source": [
    "# construct a basic timedelta and print it\n",
    "print (timedelta(days=365, hours=5, minutes=1))"
   ]
  },
  {
   "cell_type": "markdown",
   "metadata": {},
   "source": [
    "And you can see that sure enough there's my timedelta right there, it's 365 days, five hours, and one minute."
   ]
  },
  {
   "cell_type": "markdown",
   "metadata": {},
   "source": [
    "So, let's use today's date as a reference for the next few operations. So I'll create a variable called now, and I'll set that to the result of daytime.now, and then I'll print out today is, and that's going to be now. So we've got today's date and time. Let's use a timedelta to figure out what today's date will be one year from now. So we'll print out, one year from now it will be, and then I'm going to print out, I'm going to use the str function to convert the result into a string. So I'm going to add now plus a timedelta and the timedelta is going to be days equals 365. So I'm going to create a timedelta of one year."
   ]
  },
  {
   "cell_type": "code",
   "execution_count": null,
   "metadata": {},
   "outputs": [],
   "source": [
    "# print today's date\n",
    "now = datetime.now()\n",
    "print (\"today is: \" + str(now))\n",
    "\n",
    "# print today's date one year from now\n",
    "print (\"one year from now it will be: \" + str(now + timedelta(days=365)))"
   ]
  },
  {
   "cell_type": "markdown",
   "metadata": {},
   "source": [
    "So sure enough we have today is, here's this date, and we can see that one year from now, it's going to be in 2025 on the same date."
   ]
  },
  {
   "cell_type": "markdown",
   "metadata": {},
   "source": [
    "So I'm going to create a timedelta with more than one argument. I'm going to print, in two weeks and three days it will be. And then once again, I'm going to use the str function to convert this to a result. And I'll right now, plus timedelta. And I'm going to say weeks equals two and days equals three."
   ]
  },
  {
   "cell_type": "markdown",
   "metadata": {},
   "source": [
    "So in this case, I'm constructing a timedelta of two weeks and three days, adding that to the current date."
   ]
  },
  {
   "cell_type": "code",
   "execution_count": null,
   "metadata": {},
   "outputs": [],
   "source": [
    "# create a timedelta that uses more than one argument\n",
    "print (\"in two weeks and 3 days it will be: \" + str(now + timedelta(weeks=2, days=3)))"
   ]
  },
  {
   "cell_type": "markdown",
   "metadata": {},
   "source": [
    "Next, let's try a date calculation that uses a date in the past, and let's also use what we've already learned from a previous video to use string formatting codes. So I'll create a variable name T and I'll get datetime.now. And I'm going to subtract off a timedelta where weeks is equal to one. So I'll subtract off a week and then I'll have an S variable. That's going to call the strftime function and strftime, I'm going to pass in my formatting string. So percent A and then percent B and then percent D for the day number. And then the full digit year is going to be a percent Y and then I'll print one week ago it was S."
   ]
  },
  {
   "cell_type": "code",
   "execution_count": null,
   "metadata": {},
   "outputs": [],
   "source": [
    "# calculate the date 1 week ago, formatted as a string\n",
    "t = datetime.now() - timedelta(weeks=1)\n",
    "s = t.strftime(\"%A %B %d, %Y\")\n",
    "print (\"one week ago it was \" + s)"
   ]
  },
  {
   "cell_type": "markdown",
   "metadata": {},
   "source": [
    "So now I've used timedeltas to work on times both in the future and in the past."
   ]
  },
  {
   "cell_type": "markdown",
   "metadata": {},
   "source": [
    "Let's write a script that's going to count, how many days it is until the next April Fool's Day. So I'll start by getting today's date. And then next I'll construct a date that represents April Fool's Day. So afd for April Fool's Day is going to be equal to, and I'm going to call the date constructor. I'm going to pass in today's year and then four, that's the month of April and then one for the first day. So now I have to use date comparison to see if April Fool's Day has already gone by, because if it has, I need to get the next April Fool's Day. So if April Fool's Day is less than today, then I'm going to print out, April Fool's Day already went by and let's print out the number of days it went by. So I'll subtract off today minus afd."
   ]
  },
  {
   "cell_type": "markdown",
   "metadata": {},
   "source": [
    "And I'm going to put all of that in parentheses. And then I need to replace the current year with next year's. So I need to get next year's April Fool's Day. So I'm going to set afd equal to afd.replace, and I'm going to replace the year with today's year plus one. So now I just need to subtract the April Fool's Day date from today to create a timedelta result. So time to afd is equal to my April Fools date that I just calculated minus today. And then I'll print. It is time to afd.days. And I'll say days until the next April Fool's Day."
   ]
  },
  {
   "cell_type": "code",
   "execution_count": null,
   "metadata": {},
   "outputs": [],
   "source": [
    "### How many days until April Fools' Day?\n",
    "\n",
    "today = date.today()  # get today's date\n",
    "afd = date(today.year, 4, 1)  # get April Fool's for the same year\n",
    "# use date comparison to see if April Fool's has already gone for this year\n",
    "# if it has, use the replace() function to get the date for next year\n",
    "if afd < today:\n",
    "    print (\"April Fool's day already went by %d days ago\" % ((today-afd).days))\n",
    "    afd = afd.replace(year=today.year + 1)  # if so, get the date for next year\n",
    "\n",
    "# Now calculate the amount of time until April Fool's Day  \n",
    "time_to_afd = afd - today\n",
    "print (\"It's just\", time_to_afd.days, \"days until next April Fools' Day!\")"
   ]
  },
  {
   "cell_type": "markdown",
   "metadata": {},
   "source": [
    "And you can see that in this case, April Fool's Day already went by 123 days ago, which means it is now 242 days until the next April Fool's Day. So you can see that by using timedeltas, you can do some pretty advanced and complex date calculations using just the built-in standard classes that Python gives you."
   ]
  }
 ],
 "metadata": {
  "kernelspec": {
   "display_name": "Python 3",
   "language": "python",
   "name": "python3"
  },
  "language_info": {
   "codemirror_mode": {
    "name": "ipython",
    "version": 3
   },
   "file_extension": ".py",
   "mimetype": "text/x-python",
   "name": "python",
   "nbconvert_exporter": "python",
   "pygments_lexer": "ipython3",
   "version": "3.12.4"
  },
  "polyglot_notebook": {
   "kernelInfo": {
    "defaultKernelName": "csharp",
    "items": [
     {
      "aliases": [],
      "name": "csharp"
     }
    ]
   }
  }
 },
 "nbformat": 4,
 "nbformat_minor": 2
}
