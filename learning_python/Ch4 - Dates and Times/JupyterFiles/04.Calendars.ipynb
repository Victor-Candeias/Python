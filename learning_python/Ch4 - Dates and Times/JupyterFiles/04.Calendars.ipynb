{
 "cells": [
  {
   "cell_type": "markdown",
   "metadata": {},
   "source": [
    "<h1>\n",
    "    Learn Python\n",
    "</h1>"
   ]
  },
  {
   "cell_type": "markdown",
   "metadata": {},
   "source": [
    "<div>\n",
    "    <h2 style=\"color: yellow\">Calendars</h2>\n",
    "</div>"
   ]
  },
  {
   "cell_type": "markdown",
   "metadata": {},
   "source": [
    "<h3 style=\"color: lightblue\">Import Libs</h3>"
   ]
  },
  {
   "cell_type": "code",
   "execution_count": null,
   "metadata": {},
   "outputs": [],
   "source": [
    "import calendar\n",
    "from datetime import date"
   ]
  },
  {
   "cell_type": "markdown",
   "metadata": {},
   "source": [
    "<h3 style=\"color: lightblue\">Create a plain text calendar</h3>"
   ]
  },
  {
   "cell_type": "code",
   "execution_count": null,
   "metadata": {},
   "outputs": [],
   "source": [
    "# create a plain text calendar\n",
    "c = calendar.TextCalendar(calendar.SUNDAY)\n",
    "formtDate = c.formatmonth(2024, 8, 0, 0)\n",
    "print (formtDate)"
   ]
  },
  {
   "cell_type": "markdown",
   "metadata": {},
   "source": [
    "<h3 style=\"color: lightblue\">Create an HTML formatted calendar</h3>"
   ]
  },
  {
   "cell_type": "code",
   "execution_count": null,
   "metadata": {},
   "outputs": [],
   "source": [
    "# create an HTML formatted calendar\n",
    "hc = calendar.HTMLCalendar(calendar.SUNDAY)\n",
    "formMonth = hc.formatmonth(2024, 8)\n",
    "calendarHtml = \"<!DOCTYPE html><html lang=\\\"en\\\"><head><meta charset=\\\"UTF-8\\\"><meta name=\\\"viewport\\\" content=\\\"width=device-width, initial-scale=1.0\\\"><title>Calendar</title></head><body>\", formMonth, \"</body></html>\"\n",
    "\n",
    "today = date.today()\n",
    "\n",
    "# Open a file for writing and create it if it doesn't exist\n",
    "f = open(\"Calendar\" + str(today.year) + str(today.month) + str(today.day) + \".html\",\"w+\")\n",
    "\n",
    "# write some lines of data to the file\n",
    "f.writelines(calendarHtml)\n",
    "\n",
    "# close the file when done\n",
    "f.close()\n",
    "\n",
    "print(calendarHtml)"
   ]
  },
  {
   "cell_type": "markdown",
   "metadata": {},
   "source": [
    "<h3 style=\"color: lightblue\">Loop over the days of a month</h3>"
   ]
  },
  {
   "cell_type": "code",
   "execution_count": null,
   "metadata": {},
   "outputs": [],
   "source": [
    "# loop over the days of a month\n",
    "# zeroes mean that the day of the week is in an overlapping month\n",
    "for i in c.itermonthdays(2022, 8):\n",
    "    print (i)"
   ]
  },
  {
   "cell_type": "markdown",
   "metadata": {},
   "source": [
    "<h3 style=\"color: lightblue\">Calendar Utilities 1</h3>"
   ]
  },
  {
   "cell_type": "code",
   "execution_count": null,
   "metadata": {},
   "outputs": [],
   "source": [
    "# The Calendar module provides useful utilities for the given locale,\n",
    "# such as the names of days and months in both full and abbreviated forms\n",
    "for name in calendar.month_name:\n",
    "    print (name)"
   ]
  },
  {
   "cell_type": "markdown",
   "metadata": {},
   "source": [
    "<h3 style=\"color: lightblue\">Calendar Utilities 2</h3>"
   ]
  },
  {
   "cell_type": "code",
   "execution_count": null,
   "metadata": {},
   "outputs": [],
   "source": [
    "# The Calendar module provides useful utilities for the given locale,\n",
    "# such as the names of days and months in both full and abbreviated forms\n",
    "for day in calendar.day_name:\n",
    "    print (day)"
   ]
  },
  {
   "cell_type": "markdown",
   "metadata": {},
   "source": [
    "<h3 style=\"color: lightblue\">Calculate days based on a rule</h3>"
   ]
  },
  {
   "cell_type": "code",
   "execution_count": null,
   "metadata": {},
   "outputs": [],
   "source": [
    "# Calculate days based on a rule: For example, consider\n",
    "# a team meeting on the first Friday of every month.\n",
    "# To figure out what days that would be for each month,\n",
    "# we can use this script:\n",
    "print (\"Team meetings will be on:\")\n",
    "for m in range(1,13):\n",
    "    # returns an array of weeks that represent the month\n",
    "    cal = calendar.monthcalendar(2022, m)\n",
    "    # The first Friday has to be within the first two weeks\n",
    "    weekone = cal[0]\n",
    "    weektwo = cal[1]\n",
    "   \n",
    "    if weekone[calendar.FRIDAY] != 0:\n",
    "        meetday = weekone[calendar.FRIDAY]\n",
    "    else:\n",
    "      # if the first friday isn't in the first week, it must be in the second\n",
    "        meetday = weektwo[calendar.FRIDAY]\n",
    "      \n",
    "    print (\"%10s %2d\" % (calendar.month_name[m], meetday))"
   ]
  }
 ],
 "metadata": {
  "kernelspec": {
   "display_name": "Python 3",
   "language": "python",
   "name": "python3"
  },
  "language_info": {
   "codemirror_mode": {
    "name": "ipython",
    "version": 3
   },
   "file_extension": ".py",
   "mimetype": "text/x-python",
   "name": "python",
   "nbconvert_exporter": "python",
   "pygments_lexer": "ipython3",
   "version": "3.12.4"
  },
  "polyglot_notebook": {
   "kernelInfo": {
    "defaultKernelName": "csharp",
    "items": [
     {
      "aliases": [],
      "name": "csharp"
     }
    ]
   }
  }
 },
 "nbformat": 4,
 "nbformat_minor": 2
}
