{
 "cells": [
  {
   "cell_type": "markdown",
   "metadata": {},
   "source": [
    "<h1>\n",
    "    Learn Python\n",
    "</h1>"
   ]
  },
  {
   "cell_type": "markdown",
   "metadata": {},
   "source": [
    "<h2 style=\"color: yellow\">Working with calendars</h2>"
   ]
  },
  {
   "cell_type": "markdown",
   "metadata": {},
   "source": [
    "Let's wrap up this chapter by taking a look at a few examples of how to work with calendars in Python. So Python's library provides a couple of useful utilities for working with calendars in both text and HTML formats, as well as some other date and calendar utilities. So let's take a look at the module for how to work with this."
   ]
  },
  {
   "cell_type": "markdown",
   "metadata": {},
   "source": [
    "First need to import the module. So let's go ahead and do that. So I'll import the calendar. And that statement will import all the various classes from the calendar module into my app."
   ]
  },
  {
   "cell_type": "code",
   "execution_count": null,
   "metadata": {},
   "outputs": [],
   "source": [
    "import calendar\n",
    "from datetime import date\n",
    "from datetime import datetime"
   ]
  },
  {
   "cell_type": "markdown",
   "metadata": {},
   "source": [
    "So let's start off by just creating a plain text calendar. So to do that, I'm going to use the TextCalendar class. So I'm going to write calendar.TextCalendar and I'm going to specify that the week should begin on Sundays. And then I'll format this into a string. So I'll call the calendar's formatmonth method and I'm going to choose the year and the month for January and a couple of other options to format the month and then I'll print out the string. So the formatmonth method lets me format a particular month into a text string, and then I just print the results."
   ]
  },
  {
   "cell_type": "code",
   "execution_count": null,
   "metadata": {},
   "outputs": [],
   "source": [
    "# create a plain text calendar\n",
    "c = calendar.TextCalendar(calendar.SUNDAY)\n",
    "formtDate = c.formatmonth(2024, 8, 0, 0)\n",
    "print (formtDate)"
   ]
  },
  {
   "cell_type": "markdown",
   "metadata": {},
   "source": [
    "And you can see in the output that it's formatted January 2024 for me. The weeks begin on Sundays, and we've got another week here that starts on Saturday."
   ]
  },
  {
   "cell_type": "markdown",
   "metadata": {},
   "source": [
    "Let's change that parameter though. Let's change this to a Monday."
   ]
  },
  {
   "cell_type": "code",
   "execution_count": null,
   "metadata": {},
   "outputs": [],
   "source": [
    "# create a plain text calendar\n",
    "c = calendar.TextCalendar(calendar.MONDAY)\n",
    "formtDate = c.formatmonth(2024, 8, 0, 0)\n",
    "print (formtDate)"
   ]
  },
  {
   "cell_type": "markdown",
   "metadata": {},
   "source": [
    "And now we can see that the weeks begin on Mondays and the formatting of the weeks has been updated to match."
   ]
  },
  {
   "cell_type": "markdown",
   "metadata": {},
   "source": [
    "Now let's see how to do the same thing with HTML. And for that, I'm going to use surprise, the HTMLCalendar class. So I'll create a variable hc and I'll call HTMLCalendar and once again, I want the calendar to start on Sundays. And then I'll do the same thing with the string. I'll just simply call formatmonth. And I'll do January and then I'll print the str."
   ]
  },
  {
   "cell_type": "code",
   "execution_count": null,
   "metadata": {},
   "outputs": [],
   "source": [
    "# create an HTML formatted calendar\n",
    "hc = calendar.HTMLCalendar(calendar.SUNDAY)\n",
    "formMonth = hc.formatmonth(2024, 8)\n",
    "calendarHtml = \"<!DOCTYPE html><html lang=\\\"en\\\"><head><meta charset=\\\"UTF-8\\\"><meta name=\\\"viewport\\\" content=\\\"width=device-width, initial-scale=1.0\\\"><title>Calendar</title></head><body>\", formMonth, \"</body></html>\"\n",
    "\n",
    "today = date.today()\n",
    "now = datetime.now()\n",
    "\n",
    "# Open a file for writing and create it if it doesn't exist\n",
    "f = open(\"Calendar\" + str(today.year) + str(today.month) + str(today.day) + str(now.hour) + str(now.minute) + str(now.second) + \".html\",\"w+\")\n",
    "\n",
    "# write some lines of data to the file\n",
    "f.writelines(calendarHtml)\n",
    "\n",
    "# close the file when done\n",
    "f.close()\n",
    "\n",
    "print(calendarHtml)"
   ]
  },
  {
   "cell_type": "markdown",
   "metadata": {},
   "source": [
    "All right, so you can see that here I'm getting this HTML output. There's a table that contains all of my calendar information in table rows and table columns and so on. Now, I'm not going to walk through all the HTML code but you can see that it works."
   ]
  },
  {
   "cell_type": "markdown",
   "metadata": {},
   "source": [
    "As you can see, it was creted a HTML file."
   ]
  },
  {
   "cell_type": "markdown",
   "metadata": {},
   "source": [
    "You can also use the calendar class to perform some common operations on dates. So for example, I might have a need to iterate over the days of a given month. And I can use the itermonthdays method to do this. So what I can do is I'll write a for loop and I'll write for i in c.itermonthdays."
   ]
  },
  {
   "cell_type": "markdown",
   "metadata": {},
   "source": [
    "So I'll call itermonthdays and I'll iterate over August of 2024. And I'll just print the day number. So this function is going to return numbers that represent each day in the month."
   ]
  },
  {
   "cell_type": "code",
   "execution_count": null,
   "metadata": {},
   "outputs": [],
   "source": [
    "# loop over the days of a month\n",
    "# zeroes mean that the day of the week is in an overlapping month\n",
    "for i in c.itermonthdays(2024, 8):\n",
    "    print (i)"
   ]
  },
  {
   "cell_type": "markdown",
   "metadata": {},
   "source": [
    "So if I run this, you'll see, so each one of these numbers represents a day in the month. So in August, there's 31 days. So here's day number one. And that's obviously a Sunday because that's the first day of the week. And if we scroll all the way down, you'll notice that there's some trialing zeros. And what that means is that indicates that those days are in that week that belong to another month. So the 31st is the last day of August and then since the weeks end on a Saturday, so this is going to be a Saturday, this is going to be a Friday, a Thursday and a Wednesday, but those belong to the next month."
   ]
  },
  {
   "cell_type": "markdown",
   "metadata": {},
   "source": [
    "The calendar class also provides some useful utilities for the current locale. So I can loop over the names in the month_names and day_name properties on the calendar class."
   ]
  },
  {
   "cell_type": "markdown",
   "metadata": {},
   "source": [
    "So what this means is I don't have to have code in my application that knows what the names of the months are around the world. The system's locale will just give them to me based upon where my app happens to be running. So I'll write for name in calendar.month_name. And I'll print the name."
   ]
  },
  {
   "cell_type": "code",
   "execution_count": null,
   "metadata": {},
   "outputs": [],
   "source": [
    "# The Calendar module provides useful utilities for the given locale,\n",
    "# such as the names of days and months in both full and abbreviated forms\n",
    "for name in calendar.month_name:\n",
    "    print (name)"
   ]
  },
  {
   "cell_type": "markdown",
   "metadata": {},
   "source": [
    "So I'll write for name in calendar.day_name. And I'll print the name of the days."
   ]
  },
  {
   "cell_type": "code",
   "execution_count": null,
   "metadata": {},
   "outputs": [],
   "source": [
    "# The Calendar module provides useful utilities for the given locale,\n",
    "# such as the names of days and months in both full and abbreviated forms\n",
    "for day in calendar.day_name:\n",
    "    print (day)"
   ]
  },
  {
   "cell_type": "markdown",
   "metadata": {},
   "source": [
    "Let's suppose I had a team of people and the team meets on the first Friday of every month. And what I want to do is write a small script that just prints out what those dates are for the upcoming year. So that way I could give that list of days to my team members and they would know what the meeting dates are for the upcoming year. So what I need to do is calculate when the first Friday happens in each month and then calculate the date that represents that day."
   ]
  },
  {
   "cell_type": "markdown",
   "metadata": {},
   "source": [
    "I'll print out team meetings will be on. And then I'm going to have a for loop. So I'm going to loop over all the months in the range from 1 to 13. And remember that 13 is not inclusive in the range. So this will give me months 1 through 12. Now, what I'm going to do is get an array of weeks that represents each one of these months. So I'm going to do that by calling the calendar's monthcalendar function for the given year. That's next year. And then each one of the months. So each time through this loop, m will be a month number and then I'm using the calendar class's monthcalendar function."
   ]
  },
  {
   "cell_type": "markdown",
   "metadata": {},
   "source": [
    "That's going to give me back a list of lists of weeks that represent the days in the given month. So what I'm going to do then is have two variables. Weekone and that's going to be the first week that gets returned. And then weektwo, which will be the second entry in that list. So the first Friday of that month has to be somewhere within the first two weeks. So I've got two local variables here, weekone, weektwo, which I get from my array and then I just need to see which of those two weeks has the first Friday. So to do that, I'm going to use the calendar's Friday constant to index into each of these arrays. So I'll say if weekone and the calendar.FRIDAY index of weekone is not equal to zero, then I know that the meeting day is in weekone on calendar.FRIDAY. Otherwise, the meeting day has to be in weektwo on the same index. Calendar.FRIDAY."
   ]
  },
  {
   "cell_type": "markdown",
   "metadata": {},
   "source": [
    "So remember, we saw this earlier, if the day number of a particular day in the week is zero, then that means that that day is part of a different month. So if the Friday value of the first week is equal to zero, then that Friday was in the previous month, and then this particular month starts on a Saturday so the first Friday has to be in the second week. So now at this point, I have my meetday variable set to whichever the first Friday's worked out to be, whichever week they were in. And then I just need to print out the month_name and the day."
   ]
  },
  {
   "cell_type": "markdown",
   "metadata": {},
   "source": [
    "So I'm going to print out calendar.month_name for the current month. And then the meetday. All right, and that's pretty much it. That's all I have to do."
   ]
  },
  {
   "cell_type": "code",
   "execution_count": null,
   "metadata": {},
   "outputs": [],
   "source": [
    "# Calculate days based on a rule: For example, consider\n",
    "# a team meeting on the first Friday of every month.\n",
    "# To figure out what days that would be for each month,\n",
    "# we can use this script:\n",
    "print (\"Team meetings will be on:\")\n",
    "for m in range(1,13):\n",
    "    # returns an array of weeks that represent the month\n",
    "    cal = calendar.monthcalendar(2022, m)\n",
    "    # The first Friday has to be within the first two weeks\n",
    "    weekone = cal[0]\n",
    "    weektwo = cal[1]\n",
    "   \n",
    "    if weekone[calendar.FRIDAY] != 0:\n",
    "        meetday = weekone[calendar.FRIDAY]\n",
    "    else:\n",
    "      # if the first friday isn't in the first week, it must be in the second\n",
    "        meetday = weektwo[calendar.FRIDAY]\n",
    "      \n",
    "    print (\"%10s %2d\" % (calendar.month_name[m], meetday))"
   ]
  },
  {
   "cell_type": "markdown",
   "metadata": {},
   "source": [
    "And you can see in the output, we've looped through all the months starting in January, going down to December. And now we have a list of the dates for the first Fridays of each month. So now I can give this list of dates to my team and they'll know what the actual dates are for the first Friday in each one of the months we're going to have our team meeting. Such is the power of Python."
   ]
  }
 ],
 "metadata": {
  "kernelspec": {
   "display_name": "Python 3",
   "language": "python",
   "name": "python3"
  },
  "language_info": {
   "codemirror_mode": {
    "name": "ipython",
    "version": 3
   },
   "file_extension": ".py",
   "mimetype": "text/x-python",
   "name": "python",
   "nbconvert_exporter": "python",
   "pygments_lexer": "ipython3",
   "version": "3.12.4"
  },
  "polyglot_notebook": {
   "kernelInfo": {
    "defaultKernelName": "csharp",
    "items": [
     {
      "aliases": [],
      "name": "csharp"
     }
    ]
   }
  }
 },
 "nbformat": 4,
 "nbformat_minor": 2
}
