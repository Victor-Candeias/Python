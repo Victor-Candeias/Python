{
 "cells": [
  {
   "cell_type": "markdown",
   "metadata": {},
   "source": [
    "<h1>\n",
    "    Learn Python\n",
    "</h1>"
   ]
  },
  {
   "cell_type": "markdown",
   "metadata": {},
   "source": [
    "<h2 style=\"color: yellow\">Fetching Internet data</h2>"
   ]
  },
  {
   "cell_type": "markdown",
   "metadata": {},
   "source": [
    "One of the areas where Python really shines is in retrieving and working with data from the internet, such as JSON, XML and HTML. In this chapter we'll see how to work with all three of these data types."
   ]
  },
  {
   "cell_type": "markdown",
   "metadata": {},
   "source": [
    "I need to import the urllib.request module. So let's start by doing that. So I'm going to import urllib.request. And this module provides the classes and code I need to make HTTP requests."
   ]
  },
  {
   "cell_type": "code",
   "execution_count": null,
   "metadata": {},
   "outputs": [],
   "source": [
    "import urllib.request # instead of urllib2 like in Python 2.7"
   ]
  },
  {
   "cell_type": "markdown",
   "metadata": {},
   "source": [
    "So next, I'm going to create a variable called weburl and weburl, I'm going to assign the result of urllib.request, and then I'm going to call the urlopen function."
   ]
  },
  {
   "cell_type": "markdown",
   "metadata": {},
   "source": [
    "And the urlopen function just simply takes a string of the URL that I want to request. So I'm going to just give it a URL, a simple one. So I'll just go ahead and get some data from google.com. This will give me back a web response object. So the URL I'm opening up for here is just the address for Google's homepage."
   ]
  },
  {
   "cell_type": "markdown",
   "metadata": {},
   "source": [
    "And for the moment what I'm going to do is just print out the result code. Now the result code is retrieved by calling the getcode function on the response that I've created."
   ]
  },
  {
   "cell_type": "markdown",
   "metadata": {},
   "source": [
    "So I'm going to print out the result code, and that is going to be weburl.getcode. So this will just be a regular old HTTP result code. So for example, the result code will be 200 if everything's okay, or 404, if not found for example."
   ]
  },
  {
   "cell_type": "code",
   "execution_count": null,
   "metadata": {},
   "outputs": [],
   "source": [
    "# open a connection to a URL using urllib2\n",
    "webUrl = urllib.request.urlopen(\"http://www.google.com\")\n",
    "\n",
    "# get the result code and print it\n",
    "print (\"result code: \", webUrl.getcode())\n",
    "\n"
   ]
  },
  {
   "cell_type": "markdown",
   "metadata": {},
   "source": [
    "And sure enough, you can see that the result code is 200. So everything worked just fine. I'm able to connect to the website without any problems."
   ]
  },
  {
   "cell_type": "markdown",
   "metadata": {},
   "source": [
    "And now that we've got the URL open, we can read some data and print it out. To do that, I need to call the read function on the weburl request that I've created. So what I'm going to do is make a new variable called data, and then I'll assign that to weburl.read. And this is very similar to reading files, which we saw how to do earlier in the course. So I'm going to go ahead and print out that data. So I'm just reading the entire contents of this URL into a variable called data, and I'm going to print that data out. So if all goes, well, this should be the HTML code for Google's home page."
   ]
  },
  {
   "cell_type": "code",
   "execution_count": null,
   "metadata": {},
   "outputs": [],
   "source": [
    "# read the data from the URL and print it\n",
    "data = webUrl.read()\n",
    "print (data)"
   ]
  },
  {
   "cell_type": "markdown",
   "metadata": {},
   "source": [
    " And sure enough, you can see, if we scroll back up through all this code, right here, near the top. All right. So here's the result code. The result code is 200 and then you can see that I get the HTML back for Google's homepage. So just in a few lines of code, we were able to open a connection to a URL and then read the contents of that URL and then print out the results."
   ]
  }
 ],
 "metadata": {
  "kernelspec": {
   "display_name": "Python 3",
   "language": "python",
   "name": "python3"
  },
  "language_info": {
   "codemirror_mode": {
    "name": "ipython",
    "version": 3
   },
   "file_extension": ".py",
   "mimetype": "text/x-python",
   "name": "python",
   "nbconvert_exporter": "python",
   "pygments_lexer": "ipython3",
   "version": "3.12.4"
  },
  "polyglot_notebook": {
   "kernelInfo": {
    "defaultKernelName": "csharp",
    "items": [
     {
      "aliases": [],
      "name": "csharp"
     }
    ]
   }
  }
 },
 "nbformat": 4,
 "nbformat_minor": 2
}
