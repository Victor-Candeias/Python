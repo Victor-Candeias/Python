{
 "cells": [
  {
   "cell_type": "markdown",
   "metadata": {},
   "source": [
    "<h1>\n",
    "    Learn Python\n",
    "</h1>"
   ]
  },
  {
   "cell_type": "markdown",
   "metadata": {},
   "source": [
    "<h2 style=\"color: yellow\">Working with JSON data</h2>"
   ]
  },
  {
   "cell_type": "markdown",
   "metadata": {},
   "source": [
    "In this example, we're going to take what we learned in the previous video to see how to use Python, to connect to a Real-time JSON data feed and process the information. JSON stands for the JavaScript Object Notation, and you'll run into this a lot when you're working with data from various different sources on the internet. The data feed that we're going to be using is the PT IPMA API."
   ]
  },
  {
   "cell_type": "markdown",
   "metadata": {},
   "source": [
    "To be able to use Python to process JSON, I first have to import the correct module, which is the JSON module, and that is part of the Python Standard Library. So I'm going to go ahead and import JSON."
   ]
  },
  {
   "cell_type": "code",
   "execution_count": null,
   "metadata": {},
   "outputs": [],
   "source": [
    "import urllib.request  # instead of urllib2 like in Python 2.7\n",
    "import json"
   ]
  },
  {
   "cell_type": "markdown",
   "metadata": {},
   "source": [
    "I've got a variable here called URL data, which is pointing to a URL that the IPMA API uses to deliver JSON data for all distrits by island. And just like in the previous example, I also have a web URL variable, and I'm calling the URL open function on the URL to get the data."
   ]
  },
  {
   "cell_type": "markdown",
   "metadata": {},
   "source": [
    "So first I'm going to print out the result code to make sure that we're getting a result code of 200. If the result code comes back as 200, we're going to read the data from the URL and process it."
   ]
  },
  {
   "cell_type": "code",
   "execution_count": null,
   "metadata": {},
   "outputs": [],
   "source": [
    "# define a variable to hold the source URL\n",
    "# In this case we'll use the free data feed from the USGS\n",
    "# This feed lists all earthquakes for the last day larger than Mag 2.5\n",
    "urlLocal = \"https://api.ipma.pt/open-data/distrits-islands.json\"\n",
    "\n",
    "# Open the URL and read the data\n",
    "webLocalUrl = urllib.request.urlopen(urlLocal)\n",
    "codeLocal = webLocalUrl.getcode()\n",
    "\n",
    "print (\"result code 1: \" + str(codeLocal))\n"
   ]
  },
  {
   "cell_type": "markdown",
   "metadata": {},
   "source": [
    "This will retrieve the JSON data from the website, and we're going to write a function called print results, which if we scroll back up you'll see is right here, and print results will print out our customized results from the JSON data feed. So let's go ahead and write the code to check to make sure everything's okay. So I'll write, if webUrl.getcode is equal to 200, then I'll get the data, and I'll define a variable name data, and I'll call webUrl.read, and then we'll print out our customized results using the data. Otherwise we're going to print out an error, and the error will say, received an error from the server, cannot print results, and we'll print out the webUrl.getcode."
   ]
  },
  {
   "cell_type": "markdown",
   "metadata": {},
   "source": [
    "So print results is going to take the JSON data object."
   ]
  },
  {
   "cell_type": "markdown",
   "metadata": {},
   "source": [
    "So the Load localDataJson function takes a string of JSON and parses it into a native Python object, in this case, a dictionary."
   ]
  },
  {
   "cell_type": "markdown",
   "metadata": {},
   "source": [
    "So once we've done that, we can access that object like we would any other Python object."
   ]
  },
  {
   "cell_type": "code",
   "execution_count": null,
   "metadata": {},
   "outputs": [],
   "source": [
    "if (codeLocal == 200):\n",
    "    # get local data to dictionary\n",
    "    localDataJson = json.loads(webLocalUrl.read())\n",
    "\n",
    "    print(localDataJson)\n",
    "    \n",
    "    for tmp in localDataJson[\"data\"]:\n",
    "        print(tmp)\n",
    "else:\n",
    "    print(\"Error code\", codeLocal)"
   ]
  },
  {
   "cell_type": "markdown",
   "metadata": {},
   "source": [
    "Here we iterate the JSON and load data for each city"
   ]
  },
  {
   "cell_type": "code",
   "execution_count": null,
   "metadata": {},
   "outputs": [],
   "source": [
    "localUrl = \"https://api.ipma.pt/open-data/forecast/meteorology/cities/daily/\" #1010500.json\"\n",
    "\n",
    "localDic = dict()\n",
    "\n",
    "for tmp in localDataJson[\"data\"]:\n",
    "    # get url data\n",
    "    urlPath = localUrl + str(tmp[\"globalIdLocal\"]) + \".json\"\n",
    "    # print(urlPath)\n",
    "    \n",
    "    webUrl = urllib.request.urlopen(urlPath)\n",
    "    code = webUrl.getcode()\n",
    "    \n",
    "    if (code == 200):\n",
    "        cityInfo = json.loads(webUrl.read())\n",
    "        \n",
    "        for t in cityInfo[\"data\"]:\n",
    "            print(\"Cidade\", tmp[\"local\"], \" T. Min:\", t[\"tMin\"], \" T. Max:\", t[\"tMax\"], \" Data:\", t[\"forecastDate\"])\n",
    "                "
   ]
  }
 ],
 "metadata": {
  "kernelspec": {
   "display_name": "Python 3",
   "language": "python",
   "name": "python3"
  },
  "language_info": {
   "codemirror_mode": {
    "name": "ipython",
    "version": 3
   },
   "file_extension": ".py",
   "mimetype": "text/x-python",
   "name": "python",
   "nbconvert_exporter": "python",
   "pygments_lexer": "ipython3",
   "version": "3.12.4"
  },
  "polyglot_notebook": {
   "kernelInfo": {
    "defaultKernelName": "csharp",
    "items": [
     {
      "aliases": [],
      "name": "csharp"
     }
    ]
   }
  }
 },
 "nbformat": 4,
 "nbformat_minor": 2
}
