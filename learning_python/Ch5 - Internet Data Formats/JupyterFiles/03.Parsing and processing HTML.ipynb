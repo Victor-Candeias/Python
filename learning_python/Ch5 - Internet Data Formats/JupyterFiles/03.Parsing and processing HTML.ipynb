{
 "cells": [
  {
   "cell_type": "markdown",
   "metadata": {},
   "source": [
    "<h1>\n",
    "    Learn Python\n",
    "</h1>"
   ]
  },
  {
   "cell_type": "markdown",
   "metadata": {},
   "source": [
    "<h2 style=\"color: yellow\">Parsing and processing HTML</h2>"
   ]
  },
  {
   "cell_type": "markdown",
   "metadata": {},
   "source": [
    "Python provides a built-in way for parsing structured data, such as HTML, as well as other kinds of data like we just saw previously with Jason. In this example, we're going to see how to create our own HTML parser based on the HTML parser class that Python provides."
   ]
  },
  {
   "cell_type": "markdown",
   "metadata": {},
   "source": [
    "We have to import HTML parser class that we need from the HTML parser module and I'm creating a subclass of the existing HTML parser class that we've imported."
   ]
  },
  {
   "cell_type": "code",
   "execution_count": null,
   "metadata": {},
   "outputs": [],
   "source": [
    "from html.parser import HTMLParser\n",
    "\n",
    "paragraphs = 0"
   ]
  },
  {
   "cell_type": "markdown",
   "metadata": {},
   "source": [
    "<h3 style=\"color: lightblue\">Create a subclass of HTMLParser</h3>"
   ]
  },
  {
   "cell_type": "code",
   "execution_count": null,
   "metadata": {},
   "outputs": [],
   "source": [
    "# create a subclass of HTMLParser and override the handler methods\n",
    "class MyHTMLParser(HTMLParser):\n",
    "    # function to handle an opening tag in the doc\n",
    "    # this will be called when the closing \">\" of the tag is reached\n",
    "    def handle_starttag(self, tag, attrs):\n",
    "        global paragraphs\n",
    "        if tag == \"p\":\n",
    "            paragraphs += 1\n",
    "\n",
    "        print (\"Encountered a start tag:\", tag)\n",
    "        pos = self.getpos() # returns a tuple indication line and character\n",
    "        print (\"\\tAt line: \", pos[0], \" position \", pos[1])\n",
    "\n",
    "        if attrs.__len__() > 0:\n",
    "            print (\"\\tAttributes:\")\n",
    "            for a in attrs:\n",
    "                print (\"\\t\", a[0],\"=\",a[1])\n",
    "              \n",
    "    # function to handle character and text data (tag contents)\n",
    "    def handle_data(self, data):\n",
    "        if (data.isspace()):\n",
    "            return\n",
    "        print (\"Encountered some text data:\", data)\n",
    "        pos = self.getpos()\n",
    "        print (\"\\tAt line: \", pos[0], \" position \", pos[1])\n",
    "    \n",
    "    # function to handle the processing of HTML comments\n",
    "    def handle_comment(self, data):\n",
    "        print (\"Encountered comment:\", data)\n",
    "        pos = self.getpos()\n",
    "        print (\"\\tAt line: \", pos[0], \" position \", pos[1])"
   ]
  },
  {
   "cell_type": "markdown",
   "metadata": {},
   "source": [
    "<h3 style=\"color: lightblue\">Instantiate the parser and feed it some HTML</h3>"
   ]
  },
  {
   "cell_type": "code",
   "execution_count": null,
   "metadata": {},
   "outputs": [],
   "source": [
    "def main():\n",
    "    # instantiate the parser and feed it some HTML\n",
    "    parser = MyHTMLParser()\n",
    "      \n",
    "    # open the sample HTML file and read it\n",
    "    f = open(\"samplehtml.html\")\n",
    "    if f.mode == \"r\":\n",
    "        contents = f.read() # read the entire file\n",
    "        parser.feed(contents)\n",
    "    \n",
    "    print (\"Paragraph tags:\", paragraphs)\n",
    "\n",
    "if __name__ == \"__main__\":\n",
    "    main()"
   ]
  }
 ],
 "metadata": {
  "kernelspec": {
   "display_name": "Python 3",
   "language": "python",
   "name": "python3"
  },
  "language_info": {
   "codemirror_mode": {
    "name": "ipython",
    "version": 3
   },
   "file_extension": ".py",
   "mimetype": "text/x-python",
   "name": "python",
   "nbconvert_exporter": "python",
   "pygments_lexer": "ipython3",
   "version": "3.12.4"
  },
  "polyglot_notebook": {
   "kernelInfo": {
    "defaultKernelName": "csharp",
    "items": [
     {
      "aliases": [],
      "name": "csharp"
     }
    ]
   }
  }
 },
 "nbformat": 4,
 "nbformat_minor": 2
}
