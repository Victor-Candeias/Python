{
 "cells": [
  {
   "cell_type": "markdown",
   "metadata": {},
   "source": [
    "<h1>\n",
    "    Learn Python\n",
    "</h1>"
   ]
  },
  {
   "cell_type": "markdown",
   "metadata": {},
   "source": [
    "<h2 style=\"color: yellow\">Manipulating XML</h2>"
   ]
  },
  {
   "cell_type": "markdown",
   "metadata": {},
   "source": [
    "Sometimes when you're processing markup like XML or HTML, you don't want to build a parser that just runs through the document one line at a time. What you'll need to do is have the entire document in memory so you can manipulate it. In other words, you'll operate on the Documents Object Model or DOM. In this example, we'll see how to use the XML Mini DOM class that Python provides to load an XML file and then operate on the document while it's in memory."
   ]
  },
  {
   "cell_type": "markdown",
   "metadata": {},
   "source": [
    "First thing I'm going to do is import the module that let's me operate on an XML DOM. So I'm going to import xml.dom.minidom."
   ]
  },
  {
   "cell_type": "code",
   "execution_count": null,
   "metadata": {},
   "outputs": [],
   "source": [
    "import xml.dom.minidom"
   ]
  },
  {
   "cell_type": "markdown",
   "metadata": {},
   "source": [
    "This is sample XML (samplexml.xml) and if you open it up and look at it, you can see it's a pretty standard XML file. It's just got some basic information about a person in it. So here's my name, where I live, some skills that I have, again, just simple XML file for demonstrating parsing."
   ]
  },
  {
   "cell_type": "markdown",
   "metadata": {},
   "source": [
    "I'm going to use the parse function on the XML mini DOM to load and parse the file. So I'll make a variable called, doc and I'll call xml.dom.minidom.parse, and to the parts function I'm going to parse that file samplexml.xml So this will parse the XML file and create an in-memory DOM object that I can manipulate. And because the name of the file that I want to parse happens to be in the same directory as my code, I don't have to do any fancy path manipulation. So once we've parsed the document, let's print out the name of the root of the document. So that's going to be Node name on the document element along with the tag name of the first child of the document."
   ]
  },
  {
   "cell_type": "markdown",
   "metadata": {},
   "source": [
    "So there'll be doc.firstchild.tagname. Now, if these property names don't look familiar to you, there are standard names that are used in the Document Object Model, things like no name and first child and tag name, these are all standard properties of DOM elements."
   ]
  },
  {
   "cell_type": "code",
   "execution_count": null,
   "metadata": {},
   "outputs": [],
   "source": [
    "# use the parse() function to load and parse an XML file\n",
    "doc = xml.dom.minidom.parse(\"samplexml.xml\")\n",
    "\n",
    "# print out the document node and the name of the first child tag\n",
    "print (doc.nodeName)\n",
    "print (doc.firstChild.tagName)\n"
   ]
  },
  {
   "cell_type": "markdown",
   "metadata": {},
   "source": [
    "And you can see that the node name of the doc is #document, which is just like the W3C specs as it should be. And the first child tag in the document, the tag name of that is person. And if you look sure enough, that's the first tag that's in the document."
   ]
  },
  {
   "cell_type": "markdown",
   "metadata": {},
   "source": [
    "So now we're going to get a list of XML tags from the document and print each one. So I'm going to use the DOM standard function called get elements by tag name. So I'll name this variable skills and I'll call doc.getelementsbytagname. And I'm going to get all the skill tags. And again, if you look at the XML, that's going to be these tags right here. So I'll get all of those skill tags and then I'm going to print out. Let's see I'll print out skills.length skills are listed. Then I'll print out each one of the skills, for skill in skills, let's print out, skill.getattribute and I'm going to get the name attribute. So again, if we go back to the XML, you can see that each one of these skill tags has a name attribute and it has a value. So I'm going to loop over each one of the skills tags, get the attribute called name and print out its value."
   ]
  },
  {
   "cell_type": "code",
   "execution_count": null,
   "metadata": {},
   "outputs": [],
   "source": [
    "# get a list of XML tags from the document and print each one\n",
    "skills = doc.getElementsByTagName(\"skill\")\n",
    "print (\"%d skills:\" % skills.length)\n",
    "for skill in skills:\n",
    "    print (skill.getAttribute(\"name\"))"
   ]
  },
  {
   "cell_type": "markdown",
   "metadata": {},
   "source": [
    "So there's four skills listed."
   ]
  },
  {
   "cell_type": "markdown",
   "metadata": {},
   "source": [
    "Let's create a new XML tag and add it into the document. So I'll create a new tag and I'll have a variable called new skill. And I'm going to call the create element function on the document. And I'm going to create a new skill element. And on that new skill, I'm going to call set attribute, and I'm going to set the name attribute to another skill that I have, let's do jQuery."
   ]
  },
  {
   "cell_type": "markdown",
   "metadata": {},
   "source": [
    "And then I'm going to to tell the document to tell it's first child element, that's the person tag to append a new child inside of itself, and that's going to be my new skill tag. So create element is a standard W3C function, which creates a new tag. And then I'm creating that new tag. And then I'm sending the, the name attribute to be jQuery. And then I'm going to append this new skill tag into the first child of the document, which remember is this person tag. So the new skill tag is going to appear in the document below this one."
   ]
  },
  {
   "cell_type": "markdown",
   "metadata": {},
   "source": [
    "And then we'll print out a listing of the skills before the new one is added. And then we'll print out the list after it's added to make sure everything worked."
   ]
  },
  {
   "cell_type": "code",
   "execution_count": null,
   "metadata": {},
   "outputs": [],
   "source": [
    "print (\"Before add new skill\")\n",
    "skills = doc.getElementsByTagName(\"skill\")\n",
    "print (\"%d skills:\" % skills.length)\n",
    "for skill in skills:\n",
    "    print (skill.getAttribute(\"name\"))\n",
    "\n",
    "print (\"--------------------------------\")\n",
    "\n",
    "# create a new XML tag and add it into the document\n",
    "newSkill = doc.createElement(\"skill\")\n",
    "newSkill.setAttribute(\"name\", \"jQuery\")\n",
    "doc.firstChild.appendChild(newSkill)\n",
    "\n",
    "print (\"After add new skill\")\n",
    "\n",
    "skills = doc.getElementsByTagName(\"skill\")\n",
    "print (\"%d skills:\" % skills.length)\n",
    "for skill in skills:\n",
    "    print (skill.getAttribute(\"name\"))"
   ]
  }
 ],
 "metadata": {
  "kernelspec": {
   "display_name": "Python 3",
   "language": "python",
   "name": "python3"
  },
  "language_info": {
   "codemirror_mode": {
    "name": "ipython",
    "version": 3
   },
   "file_extension": ".py",
   "mimetype": "text/x-python",
   "name": "python",
   "nbconvert_exporter": "python",
   "pygments_lexer": "ipython3",
   "version": "3.12.4"
  },
  "polyglot_notebook": {
   "kernelInfo": {
    "defaultKernelName": "csharp",
    "items": [
     {
      "aliases": [],
      "name": "csharp"
     }
    ]
   }
  }
 },
 "nbformat": 4,
 "nbformat_minor": 2
}
