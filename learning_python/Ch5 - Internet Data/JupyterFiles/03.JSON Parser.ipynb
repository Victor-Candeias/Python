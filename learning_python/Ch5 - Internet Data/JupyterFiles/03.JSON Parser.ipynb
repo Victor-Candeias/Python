{
 "cells": [
  {
   "cell_type": "markdown",
   "metadata": {},
   "source": [
    "<h1>\n",
    "    Learn Python\n",
    "</h1>"
   ]
  },
  {
   "cell_type": "markdown",
   "metadata": {},
   "source": [
    "<div>\n",
    "    <h2 style=\"color: yellow\">JSON Parser</h2>\n",
    "</div>"
   ]
  },
  {
   "cell_type": "markdown",
   "metadata": {},
   "source": [
    "<h3 style=\"color: lightblue\">Import Libs</h3>"
   ]
  },
  {
   "cell_type": "code",
   "execution_count": 1,
   "metadata": {},
   "outputs": [],
   "source": [
    "import urllib.request  # instead of urllib2 like in Python 2.7\n",
    "import json"
   ]
  },
  {
   "cell_type": "markdown",
   "metadata": {},
   "source": [
    "<h3 style=\"color: lightblue\">Open the URL and read the data</h3>"
   ]
  },
  {
   "cell_type": "code",
   "execution_count": 2,
   "metadata": {},
   "outputs": [
    {
     "name": "stdout",
     "output_type": "stream",
     "text": [
      "result code 1: 200\n"
     ]
    }
   ],
   "source": [
    "# define a variable to hold the source URL\n",
    "# In this case we'll use the free data feed from the USGS\n",
    "# This feed lists all earthquakes for the last day larger than Mag 2.5\n",
    "urlLocal = \"https://api.ipma.pt/open-data/distrits-islands.json\"\n",
    "\n",
    "# Open the URL and read the data\n",
    "webLocalUrl = urllib.request.urlopen(urlLocal)\n",
    "codeLocal = webLocalUrl.getcode()\n",
    "\n",
    "print (\"result code 1: \" + str(codeLocal))\n"
   ]
  },
  {
   "cell_type": "markdown",
   "metadata": {},
   "source": [
    "<h3 style=\"color: lightblue\">Load JSON</h3>"
   ]
  },
  {
   "cell_type": "code",
   "execution_count": 3,
   "metadata": {},
   "outputs": [
    {
     "name": "stdout",
     "output_type": "stream",
     "text": [
      "{'owner': 'IPMA', 'country': 'PT', 'data': [{'idRegiao': 1, 'idAreaAviso': 'AVR', 'idConcelho': 5, 'globalIdLocal': 1010500, 'latitude': '40.6413', 'idDistrito': 1, 'local': 'Aveiro', 'longitude': '-8.6535'}, {'idRegiao': 1, 'idAreaAviso': 'BJA', 'idConcelho': 5, 'globalIdLocal': 1020500, 'latitude': '38.0200', 'idDistrito': 2, 'local': 'Beja', 'longitude': '-7.8700'}, {'idRegiao': 1, 'idAreaAviso': 'BRG', 'idConcelho': 3, 'globalIdLocal': 1030300, 'latitude': '41.5475', 'idDistrito': 3, 'local': 'Braga', 'longitude': '-8.4227'}, {'idRegiao': 1, 'idAreaAviso': 'BRG', 'globalIdLocal': 1030800, 'idConcelho': 8, 'latitude': '41.4434', 'idDistrito': 3, 'local': 'Guimarães', 'longitude': '-8.2938'}, {'idRegiao': 1, 'idAreaAviso': 'BGC', 'idConcelho': 2, 'globalIdLocal': 1040200, 'latitude': '41.8076', 'idDistrito': 4, 'local': 'Bragança', 'longitude': '-6.7606'}, {'idRegiao': 1, 'idAreaAviso': 'CBO', 'idConcelho': 2, 'globalIdLocal': 1050200, 'latitude': '39.8217', 'idDistrito': 5, 'local': 'Castelo Branco', 'longitude': '-7.4957'}, {'idRegiao': 1, 'idAreaAviso': 'CBR', 'idConcelho': 3, 'globalIdLocal': 1060300, 'latitude': '40.2081', 'idDistrito': 6, 'local': 'Coimbra', 'longitude': '-8.4194'}, {'idRegiao': 1, 'idAreaAviso': 'EVR', 'idConcelho': 5, 'globalIdLocal': 1070500, 'latitude': '38.5701', 'idDistrito': 7, 'local': 'Évora', 'longitude': '-7.9104'}, {'idRegiao': 1, 'idAreaAviso': 'FAR', 'idConcelho': 5, 'globalIdLocal': 1080500, 'latitude': '37.0146', 'idDistrito': 8, 'local': 'Faro', 'longitude': '-7.9331'}, {'idRegiao': 1, 'idAreaAviso': 'FAR', 'globalIdLocal': 1081505, 'idConcelho': 15, 'latitude': '37.0168', 'idDistrito': 8, 'local': 'Sagres', 'longitude': '-8.9403'}, {'idRegiao': 1, 'idAreaAviso': 'FAR', 'globalIdLocal': 1081100, 'idConcelho': 11, 'latitude': '37.1500', 'idDistrito': 8, 'local': 'Portimão', 'longitude': '-8.5200'}, {'idRegiao': 1, 'idAreaAviso': 'FAR', 'globalIdLocal': 1080800, 'idConcelho': 8, 'latitude': '37.1397', 'idDistrito': 8, 'local': 'Loulé', 'longitude': '-8.0202'}, {'idRegiao': 1, 'idAreaAviso': 'GDA', 'idConcelho': 7, 'globalIdLocal': 1090700, 'latitude': '40.5379', 'idDistrito': 9, 'local': 'Guarda', 'longitude': '-7.2647'}, {'idRegiao': 1, 'idAreaAviso': 'GDA', 'globalIdLocal': 1090821, 'idConcelho': 8, 'latitude': '40.4075', 'idDistrito': 9, 'local': 'Penhas Douradas', 'longitude': '-7.5665'}, {'idRegiao': 1, 'idAreaAviso': 'LRA', 'idConcelho': 9, 'globalIdLocal': 1100900, 'latitude': '39.7473', 'idDistrito': 10, 'local': 'Leiria', 'longitude': '-8.8069'}, {'idRegiao': 1, 'idAreaAviso': 'LSB', 'idConcelho': 6, 'globalIdLocal': 1110600, 'latitude': '38.7660', 'idDistrito': 11, 'local': 'Lisboa', 'longitude': '-9.1286'}, {'idRegiao': 1, 'idAreaAviso': 'PTG', 'idConcelho': 14, 'globalIdLocal': 1121400, 'latitude': '39.2900', 'idDistrito': 12, 'local': 'Portalegre', 'longitude': '-7.4200'}, {'idRegiao': 1, 'idAreaAviso': 'PTO', 'idConcelho': 12, 'globalIdLocal': 1131200, 'latitude': '41.1580', 'idDistrito': 13, 'local': 'Porto', 'longitude': '-8.6294'}, {'idRegiao': 1, 'idAreaAviso': 'STM', 'idConcelho': 16, 'globalIdLocal': 1141600, 'latitude': '39.2000', 'idDistrito': 14, 'local': 'Santarém', 'longitude': '-8.7400'}, {'idRegiao': 1, 'idAreaAviso': 'STB', 'idConcelho': 12, 'globalIdLocal': 1151200, 'latitude': '38.5246', 'idDistrito': 15, 'local': 'Setúbal', 'longitude': '-8.8856'}, {'idRegiao': 1, 'idAreaAviso': 'STB', 'globalIdLocal': 1151300, 'idConcelho': 13, 'latitude': '37.9560', 'idDistrito': 15, 'local': 'Sines', 'longitude': '-8.8643'}, {'idRegiao': 1, 'idAreaAviso': 'VCT', 'idConcelho': 9, 'globalIdLocal': 1160900, 'latitude': '41.6952', 'idDistrito': 16, 'local': 'Viana do Castelo', 'longitude': '-8.8365'}, {'idRegiao': 1, 'idAreaAviso': 'VRL', 'idConcelho': 14, 'globalIdLocal': 1171400, 'latitude': '41.3053', 'idDistrito': 17, 'local': 'Vila Real', 'longitude': '-7.7440'}, {'idRegiao': 1, 'idAreaAviso': 'VIS', 'idConcelho': 23, 'globalIdLocal': 1182300, 'latitude': '40.6585', 'idDistrito': 18, 'local': 'Viseu', 'longitude': '-7.9120'}, {'idRegiao': 2, 'idAreaAviso': 'MCS', 'idConcelho': 3, 'globalIdLocal': 2310300, 'latitude': '32.6485', 'idDistrito': 31, 'local': 'Funchal', 'longitude': '-16.9084'}, {'idRegiao': 2, 'idAreaAviso': 'MPS', 'idConcelho': 1, 'globalIdLocal': 2320100, 'latitude': '33.0700', 'idDistrito': 32, 'local': 'Porto Santo', 'longitude': '-16.3400'}, {'idRegiao': 3, 'idAreaAviso': 'AOR', 'idConcelho': 1, 'globalIdLocal': 3410100, 'latitude': '36.9563', 'idDistrito': 41, 'local': 'Vila do Porto', 'longitude': '-25.1409'}, {'idRegiao': 3, 'idAreaAviso': 'AOR', 'idConcelho': 3, 'globalIdLocal': 3420300, 'latitude': '37.7415', 'idDistrito': 42, 'local': 'Ponta Delgada', 'longitude': '-25.6677'}, {'idRegiao': 3, 'idAreaAviso': 'ACE', 'idConcelho': 1, 'globalIdLocal': 3430100, 'latitude': '38.6700', 'idDistrito': 43, 'local': 'Angra do Heroísmo', 'longitude': '-27.2200'}, {'idRegiao': 3, 'idAreaAviso': 'ACE', 'idConcelho': 1, 'globalIdLocal': 3440100, 'latitude': '39.0800', 'idDistrito': 44, 'local': 'Santa Cruz da Graciosa', 'longitude': '-28.0000'}, {'idRegiao': 3, 'idAreaAviso': 'ACE', 'idConcelho': 2, 'globalIdLocal': 3450200, 'latitude': '38.6842', 'idDistrito': 45, 'local': 'Velas', 'longitude': '-28.2133'}, {'idRegiao': 3, 'idAreaAviso': 'ACE', 'idConcelho': 2, 'globalIdLocal': 3460200, 'latitude': '38.5325', 'idDistrito': 46, 'local': 'Madalena', 'longitude': '-28.5237'}, {'idRegiao': 3, 'idAreaAviso': 'ACE', 'idConcelho': 1, 'globalIdLocal': 3470100, 'latitude': '38.5363', 'idDistrito': 47, 'local': 'Horta', 'longitude': '-28.6315'}, {'idRegiao': 3, 'idAreaAviso': 'AOC', 'idConcelho': 2, 'globalIdLocal': 3480200, 'latitude': '39.4500', 'idDistrito': 48, 'local': 'Santa Cruz das Flores', 'longitude': '-31.1300'}, {'idRegiao': 3, 'idAreaAviso': 'AOC', 'idConcelho': 1, 'globalIdLocal': 3490100, 'latitude': '39.6700', 'idDistrito': 49, 'local': 'Vila do Corvo', 'longitude': '-31.1200'}]}\n"
     ]
    }
   ],
   "source": [
    "# get local data to dictionary\n",
    "localDataJson = json.loads(webLocalUrl.read())\n",
    "\n",
    "print(localDataJson)"
   ]
  },
  {
   "cell_type": "markdown",
   "metadata": {},
   "source": [
    "<h3 style=\"color: lightblue\">Iterate JSON and load data for each city</h3>"
   ]
  },
  {
   "cell_type": "code",
   "execution_count": 4,
   "metadata": {},
   "outputs": [
    {
     "name": "stdout",
     "output_type": "stream",
     "text": [
      "Cidade Aveiro  T. Min: 17.6  T. Max: 30.7  Data: 2024-07-29\n",
      "Cidade Aveiro  T. Min: 18.8  T. Max: 29.0  Data: 2024-07-30\n",
      "Cidade Aveiro  T. Min: 19.3  T. Max: 24.8  Data: 2024-07-31\n",
      "Cidade Aveiro  T. Min: 18.4  T. Max: 23.7  Data: 2024-08-01\n",
      "Cidade Aveiro  T. Min: 17.5  T. Max: 23.5  Data: 2024-08-02\n",
      "Cidade Beja  T. Min: 21.8  T. Max: 37.4  Data: 2024-07-29\n",
      "Cidade Beja  T. Min: 18.6  T. Max: 34.7  Data: 2024-07-30\n",
      "Cidade Beja  T. Min: 17.6  T. Max: 35.8  Data: 2024-07-31\n",
      "Cidade Beja  T. Min: 17.2  T. Max: 35.4  Data: 2024-08-01\n",
      "Cidade Beja  T. Min: 16.4  T. Max: 33.6  Data: 2024-08-02\n",
      "Cidade Braga  T. Min: 20.4  T. Max: 34.9  Data: 2024-07-29\n",
      "Cidade Braga  T. Min: 18.7  T. Max: 33.1  Data: 2024-07-30\n",
      "Cidade Braga  T. Min: 18.0  T. Max: 29.1  Data: 2024-07-31\n",
      "Cidade Braga  T. Min: 17.1  T. Max: 31.8  Data: 2024-08-01\n",
      "Cidade Braga  T. Min: 15.8  T. Max: 31.4  Data: 2024-08-02\n",
      "Cidade Guimarães  T. Min: 21.5  T. Max: 34.2  Data: 2024-07-29\n",
      "Cidade Guimarães  T. Min: 20.3  T. Max: 32.7  Data: 2024-07-30\n",
      "Cidade Guimarães  T. Min: 18.0  T. Max: 29.5  Data: 2024-07-31\n",
      "Cidade Guimarães  T. Min: 17.3  T. Max: 30.7  Data: 2024-08-01\n",
      "Cidade Guimarães  T. Min: 17.0  T. Max: 31.0  Data: 2024-08-02\n",
      "Cidade Bragança  T. Min: 20.4  T. Max: 35.8  Data: 2024-07-29\n",
      "Cidade Bragança  T. Min: 19.5  T. Max: 35.0  Data: 2024-07-30\n",
      "Cidade Bragança  T. Min: 17.6  T. Max: 34.9  Data: 2024-07-31\n",
      "Cidade Bragança  T. Min: 18.7  T. Max: 34.7  Data: 2024-08-01\n",
      "Cidade Bragança  T. Min: 18.3  T. Max: 33.5  Data: 2024-08-02\n",
      "Cidade Castelo Branco  T. Min: 23.9  T. Max: 36.6  Data: 2024-07-29\n",
      "Cidade Castelo Branco  T. Min: 21.2  T. Max: 35.8  Data: 2024-07-30\n",
      "Cidade Castelo Branco  T. Min: 19.1  T. Max: 37.1  Data: 2024-07-31\n",
      "Cidade Castelo Branco  T. Min: 19.6  T. Max: 38.0  Data: 2024-08-01\n",
      "Cidade Castelo Branco  T. Min: 18.9  T. Max: 36.5  Data: 2024-08-02\n",
      "Cidade Coimbra  T. Min: 21.3  T. Max: 34.6  Data: 2024-07-29\n",
      "Cidade Coimbra  T. Min: 18.3  T. Max: 32.7  Data: 2024-07-30\n",
      "Cidade Coimbra  T. Min: 18.1  T. Max: 29.4  Data: 2024-07-31\n",
      "Cidade Coimbra  T. Min: 16.7  T. Max: 26.7  Data: 2024-08-01\n",
      "Cidade Coimbra  T. Min: 15.6  T. Max: 26.8  Data: 2024-08-02\n",
      "Cidade Évora  T. Min: 20.0  T. Max: 38.0  Data: 2024-07-29\n",
      "Cidade Évora  T. Min: 17.7  T. Max: 34.6  Data: 2024-07-30\n",
      "Cidade Évora  T. Min: 16.7  T. Max: 36.5  Data: 2024-07-31\n",
      "Cidade Évora  T. Min: 16.7  T. Max: 36.3  Data: 2024-08-01\n",
      "Cidade Évora  T. Min: 16.5  T. Max: 34.5  Data: 2024-08-02\n",
      "Cidade Faro  T. Min: 20.4  T. Max: 29.0  Data: 2024-07-29\n",
      "Cidade Faro  T. Min: 19.1  T. Max: 28.4  Data: 2024-07-30\n",
      "Cidade Faro  T. Min: 19.9  T. Max: 31.6  Data: 2024-07-31\n",
      "Cidade Faro  T. Min: 23.6  T. Max: 36.8  Data: 2024-08-01\n",
      "Cidade Faro  T. Min: 21.8  T. Max: 34.9  Data: 2024-08-02\n",
      "Cidade Sagres  T. Min: 21.1  T. Max: 29.0  Data: 2024-07-29\n",
      "Cidade Sagres  T. Min: 16.6  T. Max: 26.7  Data: 2024-07-30\n",
      "Cidade Sagres  T. Min: 17.7  T. Max: 24.5  Data: 2024-07-31\n",
      "Cidade Sagres  T. Min: 17.4  T. Max: 25.5  Data: 2024-08-01\n",
      "Cidade Sagres  T. Min: 17.1  T. Max: 25.2  Data: 2024-08-02\n",
      "Cidade Portimão  T. Min: 20.1  T. Max: 28.7  Data: 2024-07-29\n",
      "Cidade Portimão  T. Min: 17.8  T. Max: 30.3  Data: 2024-07-30\n",
      "Cidade Portimão  T. Min: 18.0  T. Max: 34.9  Data: 2024-07-31\n",
      "Cidade Portimão  T. Min: 18.9  T. Max: 34.5  Data: 2024-08-01\n",
      "Cidade Portimão  T. Min: 18.5  T. Max: 31.2  Data: 2024-08-02\n",
      "Cidade Loulé  T. Min: 20.3  T. Max: 30.3  Data: 2024-07-29\n",
      "Cidade Loulé  T. Min: 17.9  T. Max: 29.9  Data: 2024-07-30\n",
      "Cidade Loulé  T. Min: 19.3  T. Max: 33.8  Data: 2024-07-31\n",
      "Cidade Loulé  T. Min: 21.1  T. Max: 36.9  Data: 2024-08-01\n",
      "Cidade Loulé  T. Min: 19.4  T. Max: 34.1  Data: 2024-08-02\n",
      "Cidade Guarda  T. Min: 19.5  T. Max: 31.5  Data: 2024-07-29\n",
      "Cidade Guarda  T. Min: 17.6  T. Max: 30.1  Data: 2024-07-30\n",
      "Cidade Guarda  T. Min: 17.6  T. Max: 29.8  Data: 2024-07-31\n",
      "Cidade Guarda  T. Min: 17.3  T. Max: 30.1  Data: 2024-08-01\n",
      "Cidade Guarda  T. Min: 16.4  T. Max: 27.8  Data: 2024-08-02\n",
      "Cidade Penhas Douradas  T. Min: 18.8  T. Max: 27.8  Data: 2024-07-29\n",
      "Cidade Penhas Douradas  T. Min: 17.2  T. Max: 28.0  Data: 2024-07-30\n",
      "Cidade Penhas Douradas  T. Min: 17.0  T. Max: 26.1  Data: 2024-07-31\n",
      "Cidade Penhas Douradas  T. Min: 16.1  T. Max: 25.7  Data: 2024-08-01\n",
      "Cidade Penhas Douradas  T. Min: 14.6  T. Max: 24.5  Data: 2024-08-02\n",
      "Cidade Leiria  T. Min: 19.4  T. Max: 32.4  Data: 2024-07-29\n",
      "Cidade Leiria  T. Min: 17.8  T. Max: 32.2  Data: 2024-07-30\n",
      "Cidade Leiria  T. Min: 18.6  T. Max: 26.8  Data: 2024-07-31\n",
      "Cidade Leiria  T. Min: 17.3  T. Max: 25.9  Data: 2024-08-01\n",
      "Cidade Leiria  T. Min: 16.3  T. Max: 25.4  Data: 2024-08-02\n",
      "Cidade Lisboa  T. Min: 21.6  T. Max: 34.3  Data: 2024-07-29\n",
      "Cidade Lisboa  T. Min: 19.3  T. Max: 30.4  Data: 2024-07-30\n",
      "Cidade Lisboa  T. Min: 19.9  T. Max: 30.7  Data: 2024-07-31\n",
      "Cidade Lisboa  T. Min: 19.0  T. Max: 28.3  Data: 2024-08-01\n",
      "Cidade Lisboa  T. Min: 18.2  T. Max: 27.7  Data: 2024-08-02\n",
      "Cidade Portalegre  T. Min: 26.3  T. Max: 36.3  Data: 2024-07-29\n",
      "Cidade Portalegre  T. Min: 21.7  T. Max: 33.7  Data: 2024-07-30\n",
      "Cidade Portalegre  T. Min: 18.5  T. Max: 34.0  Data: 2024-07-31\n",
      "Cidade Portalegre  T. Min: 18.0  T. Max: 34.1  Data: 2024-08-01\n",
      "Cidade Portalegre  T. Min: 17.7  T. Max: 33.4  Data: 2024-08-02\n",
      "Cidade Porto  T. Min: 20.4  T. Max: 31.9  Data: 2024-07-29\n",
      "Cidade Porto  T. Min: 18.8  T. Max: 28.6  Data: 2024-07-30\n",
      "Cidade Porto  T. Min: 17.9  T. Max: 24.2  Data: 2024-07-31\n",
      "Cidade Porto  T. Min: 17.7  T. Max: 24.1  Data: 2024-08-01\n",
      "Cidade Porto  T. Min: 16.2  T. Max: 24.2  Data: 2024-08-02\n",
      "Cidade Santarém  T. Min: 21.1  T. Max: 38.9  Data: 2024-07-29\n",
      "Cidade Santarém  T. Min: 18.6  T. Max: 35.2  Data: 2024-07-30\n",
      "Cidade Santarém  T. Min: 19.0  T. Max: 33.5  Data: 2024-07-31\n",
      "Cidade Santarém  T. Min: 18.4  T. Max: 31.1  Data: 2024-08-01\n",
      "Cidade Santarém  T. Min: 17.3  T. Max: 30.2  Data: 2024-08-02\n",
      "Cidade Setúbal  T. Min: 20.2  T. Max: 37.1  Data: 2024-07-29\n",
      "Cidade Setúbal  T. Min: 16.6  T. Max: 26.6  Data: 2024-07-30\n",
      "Cidade Setúbal  T. Min: 17.6  T. Max: 31.6  Data: 2024-07-31\n",
      "Cidade Setúbal  T. Min: 17.2  T. Max: 30.6  Data: 2024-08-01\n",
      "Cidade Setúbal  T. Min: 16.8  T. Max: 29.5  Data: 2024-08-02\n",
      "Cidade Sines  T. Min: 19.4  T. Max: 34.2  Data: 2024-07-29\n",
      "Cidade Sines  T. Min: 17.4  T. Max: 23.6  Data: 2024-07-30\n",
      "Cidade Sines  T. Min: 17.5  T. Max: 22.5  Data: 2024-07-31\n",
      "Cidade Sines  T. Min: 17.4  T. Max: 23.9  Data: 2024-08-01\n",
      "Cidade Sines  T. Min: 16.8  T. Max: 24.6  Data: 2024-08-02\n",
      "Cidade Viana do Castelo  T. Min: 17.9  T. Max: 29.8  Data: 2024-07-29\n",
      "Cidade Viana do Castelo  T. Min: 17.4  T. Max: 29.0  Data: 2024-07-30\n",
      "Cidade Viana do Castelo  T. Min: 16.5  T. Max: 22.8  Data: 2024-07-31\n",
      "Cidade Viana do Castelo  T. Min: 16.7  T. Max: 24.7  Data: 2024-08-01\n",
      "Cidade Viana do Castelo  T. Min: 15.9  T. Max: 25.1  Data: 2024-08-02\n",
      "Cidade Vila Real  T. Min: 21.0  T. Max: 33.9  Data: 2024-07-29\n",
      "Cidade Vila Real  T. Min: 19.6  T. Max: 35.3  Data: 2024-07-30\n",
      "Cidade Vila Real  T. Min: 17.1  T. Max: 32.9  Data: 2024-07-31\n",
      "Cidade Vila Real  T. Min: 17.0  T. Max: 32.3  Data: 2024-08-01\n",
      "Cidade Vila Real  T. Min: 16.5  T. Max: 32.0  Data: 2024-08-02\n",
      "Cidade Viseu  T. Min: 21.1  T. Max: 32.9  Data: 2024-07-29\n",
      "Cidade Viseu  T. Min: 20.1  T. Max: 32.2  Data: 2024-07-30\n",
      "Cidade Viseu  T. Min: 17.3  T. Max: 31.9  Data: 2024-07-31\n",
      "Cidade Viseu  T. Min: 16.5  T. Max: 31.3  Data: 2024-08-01\n",
      "Cidade Viseu  T. Min: 15.4  T. Max: 30.7  Data: 2024-08-02\n",
      "Cidade Funchal  T. Min: 22.7  T. Max: 27.2  Data: 2024-07-29\n",
      "Cidade Funchal  T. Min: 22.7  T. Max: 26.9  Data: 2024-07-30\n",
      "Cidade Funchal  T. Min: 22.1  T. Max: 26.9  Data: 2024-07-31\n",
      "Cidade Funchal  T. Min: 22.3  T. Max: 26.8  Data: 2024-08-01\n",
      "Cidade Funchal  T. Min: 22.3  T. Max: 28.9  Data: 2024-08-02\n",
      "Cidade Porto Santo  T. Min: 21.2  T. Max: 26.6  Data: 2024-07-29\n",
      "Cidade Porto Santo  T. Min: 21.1  T. Max: 26.9  Data: 2024-07-30\n",
      "Cidade Porto Santo  T. Min: 20.9  T. Max: 26.3  Data: 2024-07-31\n",
      "Cidade Porto Santo  T. Min: 20.8  T. Max: 26.6  Data: 2024-08-01\n",
      "Cidade Porto Santo  T. Min: 21.3  T. Max: 26.5  Data: 2024-08-02\n",
      "Cidade Vila do Porto  T. Min: 21.1  T. Max: 28.8  Data: 2024-07-29\n",
      "Cidade Vila do Porto  T. Min: 20.7  T. Max: 28.9  Data: 2024-07-30\n",
      "Cidade Vila do Porto  T. Min: 21.4  T. Max: 27.3  Data: 2024-07-31\n",
      "Cidade Vila do Porto  T. Min: 21.3  T. Max: 28.0  Data: 2024-08-01\n",
      "Cidade Vila do Porto  T. Min: 21.7  T. Max: 28.1  Data: 2024-08-02\n",
      "Cidade Ponta Delgada  T. Min: 22.3  T. Max: 27.5  Data: 2024-07-29\n",
      "Cidade Ponta Delgada  T. Min: 21.6  T. Max: 26.8  Data: 2024-07-30\n",
      "Cidade Ponta Delgada  T. Min: 21.2  T. Max: 26.0  Data: 2024-07-31\n",
      "Cidade Ponta Delgada  T. Min: 20.9  T. Max: 26.5  Data: 2024-08-01\n",
      "Cidade Ponta Delgada  T. Min: 21.7  T. Max: 27.0  Data: 2024-08-02\n",
      "Cidade Angra do Heroísmo  T. Min: 23.1  T. Max: 28.6  Data: 2024-07-29\n",
      "Cidade Angra do Heroísmo  T. Min: 21.1  T. Max: 27.6  Data: 2024-07-30\n",
      "Cidade Angra do Heroísmo  T. Min: 21.0  T. Max: 27.1  Data: 2024-07-31\n",
      "Cidade Angra do Heroísmo  T. Min: 21.1  T. Max: 27.4  Data: 2024-08-01\n",
      "Cidade Angra do Heroísmo  T. Min: 21.6  T. Max: 27.4  Data: 2024-08-02\n",
      "Cidade Santa Cruz da Graciosa  T. Min: 22.7  T. Max: 28.6  Data: 2024-07-29\n",
      "Cidade Santa Cruz da Graciosa  T. Min: 21.5  T. Max: 27.0  Data: 2024-07-30\n",
      "Cidade Santa Cruz da Graciosa  T. Min: 20.9  T. Max: 27.5  Data: 2024-07-31\n",
      "Cidade Santa Cruz da Graciosa  T. Min: 22.4  T. Max: 27.8  Data: 2024-08-01\n",
      "Cidade Santa Cruz da Graciosa  T. Min: 21.7  T. Max: 27.3  Data: 2024-08-02\n",
      "Cidade Velas  T. Min: 21.9  T. Max: 27.5  Data: 2024-07-29\n",
      "Cidade Velas  T. Min: 20.9  T. Max: 26.4  Data: 2024-07-30\n",
      "Cidade Velas  T. Min: 20.8  T. Max: 26.4  Data: 2024-07-31\n",
      "Cidade Velas  T. Min: 21.5  T. Max: 27.4  Data: 2024-08-01\n",
      "Cidade Velas  T. Min: 21.3  T. Max: 26.3  Data: 2024-08-02\n",
      "Cidade Madalena  T. Min: 22.3  T. Max: 30.1  Data: 2024-07-29\n",
      "Cidade Madalena  T. Min: 21.6  T. Max: 26.6  Data: 2024-07-30\n",
      "Cidade Madalena  T. Min: 20.6  T. Max: 27.3  Data: 2024-07-31\n",
      "Cidade Madalena  T. Min: 21.7  T. Max: 28.0  Data: 2024-08-01\n",
      "Cidade Madalena  T. Min: 21.5  T. Max: 27.4  Data: 2024-08-02\n",
      "Cidade Horta  T. Min: 22.1  T. Max: 29.4  Data: 2024-07-29\n",
      "Cidade Horta  T. Min: 21.5  T. Max: 26.6  Data: 2024-07-30\n",
      "Cidade Horta  T. Min: 20.8  T. Max: 27.3  Data: 2024-07-31\n",
      "Cidade Horta  T. Min: 21.9  T. Max: 28.1  Data: 2024-08-01\n",
      "Cidade Horta  T. Min: 21.9  T. Max: 27.8  Data: 2024-08-02\n",
      "Cidade Santa Cruz das Flores  T. Min: 22.4  T. Max: 28.1  Data: 2024-07-29\n",
      "Cidade Santa Cruz das Flores  T. Min: 20.4  T. Max: 26.8  Data: 2024-07-30\n",
      "Cidade Santa Cruz das Flores  T. Min: 21.4  T. Max: 28.2  Data: 2024-07-31\n",
      "Cidade Santa Cruz das Flores  T. Min: 22.4  T. Max: 27.8  Data: 2024-08-01\n",
      "Cidade Santa Cruz das Flores  T. Min: 22.0  T. Max: 28.0  Data: 2024-08-02\n",
      "Cidade Vila do Corvo  T. Min: 23.2  T. Max: 28.5  Data: 2024-07-29\n",
      "Cidade Vila do Corvo  T. Min: 21.1  T. Max: 26.7  Data: 2024-07-30\n",
      "Cidade Vila do Corvo  T. Min: 22.0  T. Max: 28.3  Data: 2024-07-31\n",
      "Cidade Vila do Corvo  T. Min: 22.7  T. Max: 27.8  Data: 2024-08-01\n",
      "Cidade Vila do Corvo  T. Min: 22.7  T. Max: 28.3  Data: 2024-08-02\n"
     ]
    }
   ],
   "source": [
    "localUrl = \"https://api.ipma.pt/open-data/forecast/meteorology/cities/daily/\" #1010500.json\"\n",
    "\n",
    "localDic = dict()\n",
    "\n",
    "for tmp in localDataJson[\"data\"]:\n",
    "    # get url data\n",
    "    urlPath = localUrl + str(tmp[\"globalIdLocal\"]) + \".json\"\n",
    "    # print(urlPath)\n",
    "    \n",
    "    webUrl = urllib.request.urlopen(urlPath)\n",
    "    code = webUrl.getcode()\n",
    "    \n",
    "    if (code == 200):\n",
    "        cityInfo = json.loads(webUrl.read())\n",
    "        \n",
    "        for t in cityInfo[\"data\"]:\n",
    "            print(\"Cidade\", tmp[\"local\"], \" T. Min:\", t[\"tMin\"], \" T. Max:\", t[\"tMax\"], \" Data:\", t[\"forecastDate\"])\n",
    "                "
   ]
  }
 ],
 "metadata": {
  "kernelspec": {
   "display_name": "Python 3",
   "language": "python",
   "name": "python3"
  },
  "language_info": {
   "codemirror_mode": {
    "name": "ipython",
    "version": 3
   },
   "file_extension": ".py",
   "mimetype": "text/x-python",
   "name": "python",
   "nbconvert_exporter": "python",
   "pygments_lexer": "ipython3",
   "version": "3.12.4"
  },
  "polyglot_notebook": {
   "kernelInfo": {
    "defaultKernelName": "csharp",
    "items": [
     {
      "aliases": [],
      "name": "csharp"
     }
    ]
   }
  }
 },
 "nbformat": 4,
 "nbformat_minor": 2
}
