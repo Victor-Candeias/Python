{
 "cells": [
  {
   "cell_type": "markdown",
   "metadata": {},
   "source": [
    "<h1>\n",
    "    Learn Python\n",
    "</h1>"
   ]
  },
  {
   "cell_type": "markdown",
   "metadata": {},
   "source": [
    "<div>\n",
    "    <h2 style=\"color: yellow\">JSON Parser</h2>\n",
    "</div>"
   ]
  },
  {
   "cell_type": "markdown",
   "metadata": {},
   "source": [
    "<h3 style=\"color: lightblue\">Import Libs</h3>"
   ]
  },
  {
   "cell_type": "code",
   "execution_count": null,
   "metadata": {},
   "outputs": [],
   "source": [
    "import urllib.request  # instead of urllib2 like in Python 2.7\n",
    "import json"
   ]
  },
  {
   "cell_type": "markdown",
   "metadata": {},
   "source": [
    "<h3 style=\"color: lightblue\">Open the URL and read the data</h3>"
   ]
  },
  {
   "cell_type": "code",
   "execution_count": null,
   "metadata": {},
   "outputs": [],
   "source": [
    "# define a variable to hold the source URL\n",
    "# In this case we'll use the free data feed from the USGS\n",
    "# This feed lists all earthquakes for the last day larger than Mag 2.5\n",
    "urlLocal = \"https://api.ipma.pt/open-data/distrits-islands.json\"\n",
    "\n",
    "# Open the URL and read the data\n",
    "webLocalUrl = urllib.request.urlopen(urlLocal)\n",
    "codeLocal = webLocalUrl.getcode()\n",
    "\n",
    "print (\"result code 1: \" + str(codeLocal))\n"
   ]
  },
  {
   "cell_type": "markdown",
   "metadata": {},
   "source": [
    "<h3 style=\"color: lightblue\">Load JSON</h3>"
   ]
  },
  {
   "cell_type": "code",
   "execution_count": null,
   "metadata": {},
   "outputs": [],
   "source": [
    "# get local data to dictionary\n",
    "localDataJson = json.loads(webLocalUrl.read())\n",
    "\n",
    "print(localDataJson)"
   ]
  },
  {
   "cell_type": "markdown",
   "metadata": {},
   "source": [
    "<h3 style=\"color: lightblue\">Iterate JSON and load data for each city</h3>"
   ]
  },
  {
   "cell_type": "code",
   "execution_count": null,
   "metadata": {},
   "outputs": [],
   "source": [
    "localUrl = \"https://api.ipma.pt/open-data/forecast/meteorology/cities/daily/\" #1010500.json\"\n",
    "\n",
    "localDic = dict()\n",
    "\n",
    "for tmp in localDataJson[\"data\"]:\n",
    "    # get url data\n",
    "    urlPath = localUrl + str(tmp[\"globalIdLocal\"]) + \".json\"\n",
    "    # print(urlPath)\n",
    "    \n",
    "    webUrl = urllib.request.urlopen(urlPath)\n",
    "    code = webUrl.getcode()\n",
    "    \n",
    "    if (code == 200):\n",
    "        cityInfo = json.loads(webUrl.read())\n",
    "        \n",
    "        for t in cityInfo[\"data\"]:\n",
    "            print(\"Cidade\", tmp[\"local\"], \" T. Min:\", t[\"tMin\"], \" T. Max:\", t[\"tMax\"], \" Data:\", t[\"forecastDate\"])\n",
    "                "
   ]
  }
 ],
 "metadata": {
  "kernelspec": {
   "display_name": "Python 3",
   "language": "python",
   "name": "python3"
  },
  "language_info": {
   "codemirror_mode": {
    "name": "ipython",
    "version": 3
   },
   "file_extension": ".py",
   "mimetype": "text/x-python",
   "name": "python",
   "nbconvert_exporter": "python",
   "pygments_lexer": "ipython3",
   "version": "3.12.4"
  },
  "polyglot_notebook": {
   "kernelInfo": {
    "defaultKernelName": "csharp",
    "items": [
     {
      "aliases": [],
      "name": "csharp"
     }
    ]
   }
  }
 },
 "nbformat": 4,
 "nbformat_minor": 2
}
