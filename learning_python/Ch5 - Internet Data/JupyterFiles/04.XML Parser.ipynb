{
 "cells": [
  {
   "cell_type": "markdown",
   "metadata": {},
   "source": [
    "<h1>\n",
    "    Learn Python\n",
    "</h1>"
   ]
  },
  {
   "cell_type": "markdown",
   "metadata": {},
   "source": [
    "<div>\n",
    "    <h2 style=\"color: yellow\">XML Parser</h2>\n",
    "</div>"
   ]
  },
  {
   "cell_type": "markdown",
   "metadata": {},
   "source": [
    "<h3 style=\"color: lightblue\">Import Libs</h3>"
   ]
  },
  {
   "cell_type": "code",
   "execution_count": 4,
   "metadata": {},
   "outputs": [],
   "source": [
    "import xml.dom.minidom"
   ]
  },
  {
   "cell_type": "markdown",
   "metadata": {},
   "source": [
    "<h3 style=\"color: lightblue\">Load and parse an XML file</h3>"
   ]
  },
  {
   "cell_type": "code",
   "execution_count": 5,
   "metadata": {},
   "outputs": [
    {
     "name": "stdout",
     "output_type": "stream",
     "text": [
      "#document\n",
      "person\n"
     ]
    }
   ],
   "source": [
    "# use the parse() function to load and parse an XML file\n",
    "doc = xml.dom.minidom.parse(\"samplexml.xml\")\n",
    "\n",
    "# print out the document node and the name of the first child tag\n",
    "print (doc.nodeName)\n",
    "print (doc.firstChild.tagName)\n"
   ]
  },
  {
   "cell_type": "markdown",
   "metadata": {},
   "source": [
    "<h3 style=\"color: lightblue\">List of XML tags</h3>"
   ]
  },
  {
   "cell_type": "code",
   "execution_count": 6,
   "metadata": {},
   "outputs": [
    {
     "name": "stdout",
     "output_type": "stream",
     "text": [
      "4 skills:\n",
      "JavaScript\n",
      "Python\n",
      "C#\n",
      "HTML\n"
     ]
    }
   ],
   "source": [
    "# get a list of XML tags from the document and print each one\n",
    "skills = doc.getElementsByTagName(\"skill\")\n",
    "print (\"%d skills:\" % skills.length)\n",
    "for skill in skills:\n",
    "    print (skill.getAttribute(\"name\"))"
   ]
  },
  {
   "cell_type": "markdown",
   "metadata": {},
   "source": [
    "<h3 style=\"color: lightblue\">Create a new XML tag and add it into the document</h3>"
   ]
  },
  {
   "cell_type": "code",
   "execution_count": 8,
   "metadata": {},
   "outputs": [
    {
     "name": "stdout",
     "output_type": "stream",
     "text": [
      "6 skills:\n",
      "JavaScript\n",
      "Python\n",
      "C#\n",
      "HTML\n",
      "jQuery\n",
      "jQuery\n"
     ]
    }
   ],
   "source": [
    "# create a new XML tag and add it into the document\n",
    "newSkill = doc.createElement(\"skill\")\n",
    "newSkill.setAttribute(\"name\", \"jQuery\")\n",
    "doc.firstChild.appendChild(newSkill)\n",
    "\n",
    "skills = doc.getElementsByTagName(\"skill\")\n",
    "print (\"%d skills:\" % skills.length)\n",
    "for skill in skills:\n",
    "    print (skill.getAttribute(\"name\"))"
   ]
  }
 ],
 "metadata": {
  "kernelspec": {
   "display_name": "Python 3",
   "language": "python",
   "name": "python3"
  },
  "language_info": {
   "codemirror_mode": {
    "name": "ipython",
    "version": 3
   },
   "file_extension": ".py",
   "mimetype": "text/x-python",
   "name": "python",
   "nbconvert_exporter": "python",
   "pygments_lexer": "ipython3",
   "version": "3.12.4"
  },
  "polyglot_notebook": {
   "kernelInfo": {
    "defaultKernelName": "csharp",
    "items": [
     {
      "aliases": [],
      "name": "csharp"
     }
    ]
   }
  }
 },
 "nbformat": 4,
 "nbformat_minor": 2
}
