{
 "cells": [
  {
   "cell_type": "markdown",
   "metadata": {},
   "source": [
    "# Machine Learning"
   ]
  },
  {
   "cell_type": "markdown",
   "metadata": {},
   "source": [
    "### What is Machine Learning"
   ]
  },
  {
   "cell_type": "markdown",
   "metadata": {},
   "source": [
    "Whether we realize it or not, machine learning is all around us. From antilock braking systems, to autopilot systems in airplanes and cars, smart speakers, which serve as personal digital assistants, to systems that learn our movie preferences and recommend what to watch next. Machine learning has become ubiquitous in our lives. So what is machine learning? As you can probably tell, the term machine learning is an old one. It's been a while since people referred to computers as machines. To understand what machine learning is, let's discuss how it came to be. Computers, machines, are very good at performing repetitive tasks quickly and precisely. If we think of a computer as an assistant, which helps us accomplish rigorous and sometimes mundane tasks, then the traditional way of interacting with a computer is to provide it with two things. The first is some sort of data or task as input. The second is a set of instructions on what to do with the data or instructions on how to accomplish the task. The computer then follows the instructions and provides us with output or the result of the task. This is a traditional way to program a computer. Data and instructions as input, and we get output from the computer. In 1959, computer pioneer Arthur Samuel thought of a different approach. He wondered if computers could infer logic instead of being given explicit instructions. In other words, he wondered if machines could learn. This type of thinking was drastically different from how most computer scientists at the time thought of computers. Specifically, Arthur Samuel wondered, what if we gave a computer just input data, and the output or the end result of previously accomplished tasks? Could a computer figure out the best set of instructions that would yield the given output based on the data that was provided to it? To illustrate this idea, let's say we gave a computer the numbers on the left as input data, as well as numbers on the right as expected outputs. Based on Arthur Samuel's idea, could a computer figure out what mathematical operation to apply to the input to yield the output? As we give the computer more input and output examples, if the computer is able to gradually figure out that a simple linear combination of the input values is a close approximation of the output values, then we say that the computer, or machine, is learning. After we train a model, which is a model that has learned the right set of instructions for a given task, going forward, we simply give it input data, and to apply its internal instructions to provide us with output. What we just discussed is a type of machine learning known as supervised learning. Supervised learning is useful in solving problems, such as image recognition, text prediction, and spam filtering. A different type of machine learning is unsupervised learning. With unsupervised learning, we simply ask the machine to evaluate the input data and identify any hidden patterns or relationships that exist in the data. Unsupervised learning is used in movie recommendation systems, and to perform customer segmentation for marketing purposes. The third type of machine learning is known as reinforcement learning. In this approach, there are two primary entities, the agent and the environment. The agent figures out the best way to accomplish a task through a series of cycles in which the agent takes an action and receives immediate positive or negative feedback on the action from the environment. After a number of cycles, the agent eventually learns the optimal sequence of actions to take in order to accomplish the task at hand. Reinforcement learning is commonly used in computer game engines, robotics, and self-driving cars."
   ]
  }
 ],
 "metadata": {
  "kernelspec": {
   "display_name": "Python 3",
   "language": "python",
   "name": "python3"
  },
  "language_info": {
   "codemirror_mode": {
    "name": "ipython",
    "version": 3
   },
   "file_extension": ".py",
   "mimetype": "text/x-python",
   "name": "python",
   "nbconvert_exporter": "python",
   "pygments_lexer": "ipython3",
   "version": "3.12.4"
  }
 },
 "nbformat": 4,
 "nbformat_minor": 4
}
