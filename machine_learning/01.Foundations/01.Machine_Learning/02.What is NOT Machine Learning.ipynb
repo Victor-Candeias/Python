{
 "cells": [
  {
   "cell_type": "markdown",
   "metadata": {},
   "source": [
    "# Machine Learning"
   ]
  },
  {
   "cell_type": "markdown",
   "metadata": {},
   "source": [
    "### What is NOT Machine Learning"
   ]
  },
  {
   "cell_type": "markdown",
   "metadata": {},
   "source": [
    "The field of machine learning and artificial intelligence is rife with specialized terms like unsupervised learning, statistical learning, data mining, optimization, large language models, deep learning, statistics, supervised learning, reinforcement learning, data science, and generative AI, just to name a few. What do these terms really mean? Are they the same thing? If not, how do they relate to each other? Let's start by exploring the relationship between statistics and machine learning. Some might characterize machine learning as an elevated form of statistics, but it's essential to understand that while machine learning does draw extensively from statistical concepts, its foundation extends beyond statistics to encompass principles from information theory, calculus, algebra, engineering, and even biology. Referring to machine learning as glorified statistics is akin to referring to physics as glorified mathematics or architecture as glorified reclaim. It's crucial to emphasize that the goals and objectives of machine learning often differ from those of basic statistical modeling. Machine learning is mostly concerned with results in the form of predictions. In other words, the primary focus of machine learning is to predict future outcomes based on past events. Statistical models, on the other hand, are mostly concerned with the relationship between variables. This is known as inference. The statistical model, we want to understand what happens to variable B as a result of a change in variable A. The overlap between the approaches used in machine learning and those used in statistical modeling are sometimes broadly referred to as statistical learning. Next, let's take a look at the terms machine learning, data mining, and optimization. These terms refer to approaches that are closely related. They represent the different branches in the broad field of data science. Much like the distinction between machine learning and statistics, the contrast between machine learning and data mining revolves around their ultimate objectives. While machine learning prioritizes prediction by utilizing known data properties, data mining emphasizes on covering previously unknown patterns in data. In the field of business analytics, the traditional understanding of machine learning is often referred to as predictive analytics, data mining as descriptive analytics, and optimization as prescriptive analytics. We use descriptive analytics to identify patterns in historical data, predictive analytics to predict future outcomes, and prescriptive analytics to get a recommendation of the best course of action to take. Next, let's take a look at some of the remaining terms. Deep learning is one of many machine learning approaches that fall under the umbrella of what is known as supervised machine learning. Supervised learning, along with reinforcement learning and unsupervised learning, make up the three major branches of machine learning. Though often used interchangeably, machine learning is not the same thing as artificial intelligence or AI. Machine learning is a subfield in artificial intelligence. In other words, all machine learning is AI, but not all AI is machine learning. Artificial intelligence is a large field in computer science that deals with the simulation of intelligent behavior in computers. This includes behaviors such as visual perception, speech recognition, decision-making, and translation between languages. Artificial intelligence models can be categorized in several different ways. One approach is to classify them based on the type of function they perform. With this lens, AI models can be classified as either discriminative or generative. That is discriminative AI and generative AI. To illustrate the difference between these two approaches, let's compare them in the context of text analytics or natural language processing. Discriminative AI models are models that focus on categorizing input data or on predicting a future outcome based on historical data. When provided with the text of customer reviews of a local restaurant, a discriminative model can correctly label each review as either satisfied, unsatisfied, or neutral. It is able to determine the probability that a particular review belongs to a certain category given the input text. The machine learning approaches introduced in this course all fall under the discriminative AI umbrella. Generative models, on the other hand, are models that are designed to create new content based on user input. We can use a generative AI model to generate innovative texts, complete sentences, and even craft entirely fresh pieces of writing. One of the prominent generative AI methodologies gaining significant attention today are large language models, also known as LLMs. LLMs are generative AI models that are really good at understanding and generating human-like text based on the input or prompts they receive. For a detailed explanation of generative AI and large language models, check out my LinkedIn Learning course titled, \"Generative AI: Introduction to Large Language Models.\""
   ]
  }
 ],
 "metadata": {
  "kernelspec": {
   "display_name": "Python 3",
   "language": "python",
   "name": "python3"
  },
  "language_info": {
   "codemirror_mode": {
    "name": "ipython",
    "version": 3
   },
   "file_extension": ".py",
   "mimetype": "text/x-python",
   "name": "python",
   "nbconvert_exporter": "python",
   "pygments_lexer": "ipython3",
   "version": "3.12.4"
  }
 },
 "nbformat": 4,
 "nbformat_minor": 4
}
