{
 "cells": [
  {
   "cell_type": "markdown",
   "metadata": {},
   "source": [
    "# How to Visualize Data in Python"
   ]
  },
  {
   "cell_type": "markdown",
   "metadata": {},
   "source": [
    "## Learning Objectives\n",
    "When exploring data, one of the most important things we can do is visualize it so we can better understand it. Like the popular saying \"*A picture is worth a thousand words*”, visualizations are sometimes more useful than summary statistics in helping us understand our data. This is because visualizations are a great tool for asking and answering questions about data. Depending on the type of question we are trying to answer, there are four major types of visualizations we could use. They are relationship, distribution, comparison and composition. By the end of this tutorial, you will have learned: \n",
    "\n",
    "+ how to create a relationship visualization\n",
    "+ how to create a distribution visualization\n",
    "+ how to create a comparison visualization\n",
    "+ how to create a composition visualization"
   ]
  },
  {
   "cell_type": "markdown",
   "metadata": {},
   "source": [
    "Like the popular saying, \"a picture is worth a thousand words.\" Visualizations are sometimes more useful than summary statistics in helping us understand our data. One of the most popular visualization packages in Python is a matplotlib package, which provides a host of powerful functions and methods that allow us to produce publication quality visualizations. The plot method of a Pandas dataframe provides an abstraction of the matplotlib functions. To ensure that the plots we create in this tutorial appear right after our code, we have to run the following command."
   ]
  },
  {
   "cell_type": "code",
   "execution_count": null,
   "metadata": {
    "scrolled": true
   },
   "outputs": [],
   "source": [
    "%matplotlib inline"
   ]
  },
  {
   "cell_type": "markdown",
   "metadata": {},
   "source": [
    "We have to import teh **Panda** package"
   ]
  },
  {
   "cell_type": "code",
   "execution_count": null,
   "metadata": {},
   "outputs": [],
   "source": [
    "import pandas as pd"
   ]
  },
  {
   "cell_type": "markdown",
   "metadata": {},
   "source": [
    "Let's import and preview the data we will use to illustrate how to visualize data."
   ]
  },
  {
   "cell_type": "code",
   "execution_count": null,
   "metadata": {
    "scrolled": true
   },
   "outputs": [],
   "source": [
    "\n",
    "vehicles = pd.read_csv(\"vehicles.csv\")\n",
    "vehicles.head()"
   ]
  },
  {
   "cell_type": "markdown",
   "metadata": {},
   "source": [
    "The first type of plot we create is a relationship visualization. These types of visualizations are used to illustrate the correlation between two or more continuous variables."
   ]
  },
  {
   "cell_type": "markdown",
   "metadata": {},
   "source": [
    "Scatter plots are one of the most commonly used relationship visualizations. They show how one variable changes in response to a change in another. To create a scatter plot, we start with our data frame vehicles. We call the plot method within the method, we specify the value for the kind arguments as scatter, we specify a value for the X axis, here we choose city MPG and we specify a value for the Y axis. Here we choose CO2 emissions."
   ]
  },
  {
   "cell_type": "code",
   "execution_count": null,
   "metadata": {
    "scrolled": false
   },
   "outputs": [],
   "source": [
    "vehicles.plot(kind = 'scatter', x = 'citympg', y = 'co2emissions')"
   ]
  },
  {
   "cell_type": "markdown",
   "metadata": {},
   "source": [
    "The plot that we have shows that the relationship between vehicle emissions levels and city mileage is negative. In other words, vehicles with higher mileage ratings emit less carbon."
   ]
  },
  {
   "cell_type": "markdown",
   "metadata": {},
   "source": [
    "Next, we create a distribution visualization. As the name suggests, distribution visualizations illustrate this statistical distribution of the values of a feature. One of the most commonly used distribution visualizations is the histogram. With a histogram, we can figure out which values are most common for a feature. To create a histogram, we start with our vehicles data, and we specify the column that we want. So here we choose CO2 emissions. Then we call the plot method. And within the method we specify the value for the kind argument which this time around is hissed."
   ]
  },
  {
   "cell_type": "code",
   "execution_count": null,
   "metadata": {
    "scrolled": true
   },
   "outputs": [],
   "source": [
    "vehicles['co2emissions'].plot(kind = 'hist')"
   ]
  },
  {
   "cell_type": "markdown",
   "metadata": {},
   "source": [
    "The plot shows that the carbon emissions values for the vehicles in the dataset range from just on the 200 grams per mile, to just over a thousand grams per mile. It also shows a most vehicles fall within the 300 to 700 grams per mile range."
   ]
  },
  {
   "cell_type": "markdown",
   "metadata": {},
   "source": [
    "Comparison visualizations are used to illustrate the difference between two or more items at a given point in time or over a period of time. One of the most commonly used comparison visualizations is the box plot. Using a box plot, we can compare the distribution of values for a continuous feature against the values of a categorical feature."
   ]
  },
  {
   "cell_type": "markdown",
   "metadata": {},
   "source": [
    "To create a box plot in Python, we must first create a pivot table, such that the value we want on the X axis of our plot are listed as column labels while the values we want on the Y axis of our plot are the cell values. To create the pivot table, we begin with our vehicles dataset. We call the pivot method. Within the method, we specify a value for the columns. Here we specify the value as drive, and we specify a value for the cells, which is the values argument and we specify this as CO2 emissions."
   ]
  },
  {
   "cell_type": "code",
   "execution_count": null,
   "metadata": {},
   "outputs": [],
   "source": [
    "vehicles.pivot(columns = 'drive', values = 'co2emissions')"
   ]
  },
  {
   "cell_type": "markdown",
   "metadata": {},
   "source": [
    "Note that the value NAN is an acronym for not a number and is how a pan does dataframe represents missing values. The emissions values are missing for every column except the one that corresponds with a drive type for a particular vehicle. For example, we can tell that the first vehicle in our table is a two wheel drive vehicle while the fourth one is a rare wheel drive vehicle."
   ]
  },
  {
   "cell_type": "markdown",
   "metadata": {},
   "source": [
    "With our data in this format, we can then create a box plot. So we have some of the code already written for us here, so we call the plots method and within the method, we specify kind = box plus, we want a box plot, and we also specify a figure size of 10 by six."
   ]
  },
  {
   "cell_type": "code",
   "execution_count": null,
   "metadata": {},
   "outputs": [],
   "source": [
    "vehicles.pivot(columns = 'drive', values = 'co2emissions').plot(kind = 'box', \n",
    "                                                                figsize = (10, 6))"
   ]
  },
  {
   "cell_type": "markdown",
   "metadata": {},
   "source": [
    "The plot shows that on average front wheel drive cars have lower carbon emissions than other types of cars."
   ]
  },
  {
   "cell_type": "markdown",
   "metadata": {},
   "source": [
    "Our fourth visualization is a composition visualization. These types of visualizations show the component makeup of data. Stacked bar charts are one of the most commonly used composition visualizations. Stacked bar charts show how much a subgroup contributes to the whole."
   ]
  },
  {
   "cell_type": "markdown",
   "metadata": {},
   "source": [
    "To create a stacked bar chart in Python, we must first create a pivot table so that the values we want on the X axis of our plot are listed as row labels while the composite groups are listed as column labels. To do this, we start with a group level aggregation. So we start with our vehicles data, we grouped by year, we specify or select the drive, the column we want, which is drive and we call value counts to give us a unique count of values."
   ]
  },
  {
   "cell_type": "code",
   "execution_count": null,
   "metadata": {},
   "outputs": [],
   "source": [
    "vehicles.groupby('year')['drive'].value_counts()"
   ]
  },
  {
   "cell_type": "markdown",
   "metadata": {},
   "source": [
    "The next thing we do is call the unstack method to pivot that innermost index, which is drive to column labels, unstack."
   ]
  },
  {
   "cell_type": "code",
   "execution_count": null,
   "metadata": {},
   "outputs": [],
   "source": [
    "vehicles.groupby('year')['drive'].value_counts().unstack()"
   ]
  },
  {
   "cell_type": "markdown",
   "metadata": {},
   "source": [
    "Now that our data is in this format, we can create a stat bar chart. So here we call the plot method within the method when we specify a value for kind this time around it's bar stat = 2. We're going to stat bar chart. This will specify fixed size and by six."
   ]
  },
  {
   "cell_type": "code",
   "execution_count": null,
   "metadata": {
    "scrolled": false
   },
   "outputs": [],
   "source": [
    "vehicles.groupby('year')['drive'].value_counts().unstack().plot(kind = 'bar', \n",
    "                                                                stacked = True, \n",
    "                                                                figsize = (10, 6))"
   ]
  },
  {
   "cell_type": "markdown",
   "metadata": {},
   "source": [
    "The plot shows the total number of vehicles rated by the EPA each year, as well as the proportion of front wheel, all wheel, and rear wheel vehicles that make up those numbers."
   ]
  }
 ],
 "metadata": {
  "kernelspec": {
   "display_name": "Python 3",
   "language": "python",
   "name": "python3"
  },
  "language_info": {
   "codemirror_mode": {
    "name": "ipython",
    "version": 3
   },
   "file_extension": ".py",
   "mimetype": "text/x-python",
   "name": "python",
   "nbconvert_exporter": "python",
   "pygments_lexer": "ipython3",
   "version": "3.12.4"
  }
 },
 "nbformat": 4,
 "nbformat_minor": 4
}
