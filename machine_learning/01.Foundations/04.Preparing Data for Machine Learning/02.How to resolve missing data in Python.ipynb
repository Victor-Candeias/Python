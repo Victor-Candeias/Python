{
 "cells": [
  {
   "cell_type": "markdown",
   "metadata": {},
   "source": [
    "# How to Deal with Missing Data in Python"
   ]
  },
  {
   "cell_type": "markdown",
   "metadata": {},
   "source": [
    "## Learning Objectives\n",
    "During the process of data exploration, it is not uncommon to realize that the data we have is incomplete. Missing data could arise as a result of changes in data collection methods, human error, bias, or simply the lack of reliable input. There are several ways to deal with missing data. By the end of the tutorial, you will have learned:\n",
    "\n",
    "+ how to detect missing data\n",
    "+ how to remove missing data\n",
    "+ how to resolve missing data"
   ]
  },
  {
   "cell_type": "markdown",
   "metadata": {
    "colab_type": "text",
    "id": "H4h5CV-p3fsD"
   },
   "source": [
    "During the exploration, we may find that some of our data is missing or incomplete. Missing data could arise as a result of changes in data collection methods, human error, bias, or simply the lack of reliable input. There are several ways to deal with missing data in Python."
   ]
  },
  {
   "cell_type": "markdown",
   "metadata": {},
   "source": [
    "To illustrate how to deal with missing values, let's import a sample student dataset from an Excel spreadsheet and preview it."
   ]
  },
  {
   "cell_type": "code",
   "execution_count": null,
   "metadata": {
    "colab": {},
    "colab_type": "code",
    "id": "ZBtXnome3fr0",
    "scrolled": false
   },
   "outputs": [],
   "source": [
    "import pandas as pd\n",
    "students = pd.read_excel(\"students.xlsx\")\n",
    "students"
   ]
  },
  {
   "cell_type": "markdown",
   "metadata": {},
   "source": [
    "We can see that there are missing values in several of the columns in our data frame."
   ]
  },
  {
   "cell_type": "markdown",
   "metadata": {},
   "source": [
    "In order to list the rows of missing values for a particular column, we make use of the **isnull** method of a **Pandas** data frame to create a filter or a mask."
   ]
  },
  {
   "cell_type": "markdown",
   "metadata": {},
   "source": [
    "For example, we can list a rows in the data frame with missing state values as follows. Mask, students, data frame, specify the column we want, which is state, called the isnull method, and we output our mask."
   ]
  },
  {
   "cell_type": "code",
   "execution_count": null,
   "metadata": {},
   "outputs": [],
   "source": [
    "mask = students['State'].isnull()\n",
    "mask"
   ]
  },
  {
   "cell_type": "markdown",
   "metadata": {},
   "source": [
    "The mask object is a series object, a boolean series object, to be more precise. The rows of the series correspond to those of the students data frame. The values of the series are true if the corresponding state value is missing, and false if the value is not missing."
   ]
  },
  {
   "cell_type": "markdown",
   "metadata": {},
   "source": [
    "We can use this series as a mask to filter the students data frame. To do so, specify students, data frame, and we index by mask."
   ]
  },
  {
   "cell_type": "code",
   "execution_count": null,
   "metadata": {
    "scrolled": true
   },
   "outputs": [],
   "source": [
    "students[mask]"
   ]
  },
  {
   "cell_type": "markdown",
   "metadata": {},
   "source": [
    "What we now have are all the rows in the students data frame with missing values in the state column."
   ]
  },
  {
   "cell_type": "markdown",
   "metadata": {},
   "source": [
    "After we identify the rows with missing values in our data, we could decide to simply remove them. The dropna method of a Pandas data frame allows us to do this."
   ]
  },
  {
   "cell_type": "markdown",
   "metadata": {},
   "source": [
    "For example, to drop any rows with missing values in the students data frame, we do the following. Students, dropna method."
   ]
  },
  {
   "cell_type": "code",
   "execution_count": null,
   "metadata": {},
   "outputs": [],
   "source": [
    "students.dropna()"
   ]
  },
  {
   "cell_type": "markdown",
   "metadata": {},
   "source": [
    "We are now left with six rows with no missing values. That means we dropped 14 rows. As you can probably tell, this approach is rather extreme. Most often, what we really want is to remove rows with missing data for certain columns only. For example, we could decide to remove the rows with missing values in just the state and zip columns."
   ]
  },
  {
   "cell_type": "markdown",
   "metadata": {},
   "source": [
    "To do so, we specify two arguments for the dropna method. The first is subset. The subset arguments we set to the columns that we want, state and zip. The how arguments we specify as all."
   ]
  },
  {
   "cell_type": "code",
   "execution_count": null,
   "metadata": {
    "scrolled": false
   },
   "outputs": [],
   "source": [
    "students = students.dropna(subset = ['State', 'Zip'], how = 'all')\n",
    "students"
   ]
  },
  {
   "cell_type": "markdown",
   "metadata": {},
   "source": [
    "Instead of dropping 14 rows, as we did in the previous example, the only rows dropped now are the first two rows in the data frame, which have missing values for both the state and zip columns. These are rows with index values of zero and one."
   ]
  },
  {
   "cell_type": "markdown",
   "metadata": {},
   "source": [
    "We could also decide to drop columns with missing data instead of rows with missing data. For example, to drop any columns with missing values in the students data frame, we do the following. Students, dropna, we specify a value for the access argument as one."
   ]
  },
  {
   "cell_type": "code",
   "execution_count": null,
   "metadata": {
    "scrolled": false
   },
   "outputs": [],
   "source": [
    "students.dropna(axis = 1)"
   ]
  },
  {
   "cell_type": "markdown",
   "metadata": {},
   "source": [
    "That leaves us with five columns that have no missing values. This is an extreme approach as well. Most often, what we really want is to only drop columns with a certain number of missing values."
   ]
  },
  {
   "cell_type": "markdown",
   "metadata": {},
   "source": [
    "For example, let's say we decide to remove any columns with 50% of the rows missing. Since we had 20 rows in our original data, we set the threshold to 10, as follows. Within our dropna method, we specify two arguments. The first is access to go to one. The second is the thresh argument. We set this to 10."
   ]
  },
  {
   "cell_type": "code",
   "execution_count": null,
   "metadata": {},
   "outputs": [],
   "source": [
    "students = students.dropna(axis = 1, thresh = 10)\n",
    "students"
   ]
  },
  {
   "cell_type": "markdown",
   "metadata": {},
   "source": [
    "This time only the minor column is removed because it had less than 50% non-missing values."
   ]
  },
  {
   "cell_type": "markdown",
   "metadata": {},
   "source": [
    "Instead of dropping rows or columns with missing data, we could also decide to replace the missing values with something else. The **fillna** method of a **Pandas** data frame allows us to do this."
   ]
  },
  {
   "cell_type": "markdown",
   "metadata": {},
   "source": [
    "For example, there are three missing values in the gender column of the students data frame. To replace the missing values in the column with female, we do the following. Within our fillna method, we specify a dictionary, the dictionary key, it will be the column we want, which is gender, and the value for the key, for the dictionary, is female, the value we want to replace."
   ]
  },
  {
   "cell_type": "code",
   "execution_count": null,
   "metadata": {},
   "outputs": [],
   "source": [
    "students = students.fillna({'Gender':'Female'})\n",
    "students"
   ]
  },
  {
   "cell_type": "markdown",
   "metadata": {},
   "source": [
    "So when we run this now we now have all the missing gender values replaced with female."
   ]
  },
  {
   "cell_type": "markdown",
   "metadata": {},
   "source": [
    "Instead of using a literal value to replace missing data, we could also use a function. For example, to replace the missing values in the age column, with a median of the non missing values, we do the following. Within the fillna method, we specify a dictionary once more. The key is age and that the value is students age median. This means replace the missing age values with a median age value for the non missing rows."
   ]
  },
  {
   "cell_type": "code",
   "execution_count": null,
   "metadata": {},
   "outputs": [],
   "source": [
    "students = students.fillna({'Age':students['Age'].median()})\n",
    "students"
   ]
  },
  {
   "cell_type": "markdown",
   "metadata": {},
   "source": [
    "The **fillna** method allows us to replace all missing values within the column, all within the row."
   ]
  },
  {
   "cell_type": "markdown",
   "metadata": {},
   "source": [
    "However, if our objective is to replace missing values on a cell by cell basis, we use a different approach. For example, let's say we want to replace the missing zip code for Granger Indiana with 46530. This is row index six. The first thing we do is select the cell or cells that we want by creating a mask that describes the data. Let us create the mask. We call it mask, and our masks are going to have two parts to it. The first is the logic for the city. So we say students specify the column. City is equal to Granger. The second part students column is state. This is equal to Indiana."
   ]
  },
  {
   "cell_type": "code",
   "execution_count": null,
   "metadata": {
    "scrolled": true
   },
   "outputs": [],
   "source": [
    "mask = (students['City'] == 'Granger') & (students['State'] == 'IN')"
   ]
  },
  {
   "cell_type": "markdown",
   "metadata": {},
   "source": [
    "Next, we apply the mask as a row filter using the dot loc operator. So we say students dot loc in this index by mask, specify every column."
   ]
  },
  {
   "cell_type": "code",
   "execution_count": null,
   "metadata": {},
   "outputs": [],
   "source": [
    "students.loc[mask, :]"
   ]
  },
  {
   "cell_type": "markdown",
   "metadata": {},
   "source": [
    "This returns all rows for row index six, which is what we wanted. Note that in the syntax of the loc operator, mask specifies the rows we want and the colon specifies that we want all columns."
   ]
  },
  {
   "cell_type": "markdown",
   "metadata": {},
   "source": [
    "Using the loc operator, we can update the value of the zip column alone, as follows. Students dot loc, our mask, this time we want just a zip column and we give a value to it, which is 46530. I'll output a beta, so we can see what we got."
   ]
  },
  {
   "cell_type": "code",
   "execution_count": null,
   "metadata": {},
   "outputs": [],
   "source": [
    "students.loc[mask, 'Zip'] = 46530\n",
    "students"
   ]
  },
  {
   "cell_type": "markdown",
   "metadata": {},
   "source": [
    "There we have it. We see that row six now has a zip code of 46530. Now that we've resolved the zip code for Granger, Indiana, we can also do the same for Niles, Michigan, which is row index 14."
   ]
  },
  {
   "cell_type": "markdown",
   "metadata": {},
   "source": [
    "The current zip code is 49120. Let's resolve it as well."
   ]
  },
  {
   "cell_type": "code",
   "execution_count": null,
   "metadata": {},
   "outputs": [],
   "source": [
    "mask = (students['City'] == 'Niles') & (students['State'] == 'MI')\n",
    "students.loc[mask, 'Zip'] = 49120\n",
    "students"
   ]
  }
 ],
 "metadata": {
  "colab": {
   "collapsed_sections": [],
   "name": "3.3 - Pandas Data Selection.ipynb",
   "provenance": [],
   "toc_visible": true,
   "version": "0.3.2"
  },
  "kernelspec": {
   "display_name": "Python 3",
   "language": "python",
   "name": "python3"
  },
  "language_info": {
   "codemirror_mode": {
    "name": "ipython",
    "version": 3
   },
   "file_extension": ".py",
   "mimetype": "text/x-python",
   "name": "python",
   "nbconvert_exporter": "python",
   "pygments_lexer": "ipython3",
   "version": "3.12.4"
  }
 },
 "nbformat": 4,
 "nbformat_minor": 1
}
