{
 "cells": [
  {
   "cell_type": "markdown",
   "metadata": {},
   "source": [
    "<h1 style=\"color:yellow\">Making decisions with Python<h1>"
   ]
  },
  {
   "cell_type": "markdown",
   "metadata": {},
   "source": [
    "<h3 style=\"color:cyan\">Why and when to use a decision tree<h3>"
   ]
  },
  {
   "cell_type": "markdown",
   "metadata": {},
   "source": [
    "<p>In order to know when to use a decision tree, we need to understand its strengths and weaknesses. In terms of strengths, decision trees are simple to understand and interpret.</p>"
   ]
  },
  {
   "cell_type": "markdown",
   "metadata": {
    "notebookRunGroups": {
     "groupValue": "2"
    }
   },
   "source": [
    "<p>The logical structure of a tree is intuitive, and easy to follow. This means we can easily create business rules, based on the structure of a tree. Unlike some other approaches, which work better with either discreet, or continuous features, decision trees are able to handle both types of data, very well. In other words, decision trees are useful, for both classification and regression problems.</p>"
   ]
  },
  {
   "cell_type": "markdown",
   "metadata": {},
   "source": [
    "<p>Decision trees also do very well, in handling missing, noisy and outlier data. This means we don't need to pre-process our data much, before we can use it to build a decision tree model.</p>"
   ]
  },
  {
   "cell_type": "markdown",
   "metadata": {},
   "source": [
    "<p>During each stage of the recursive partitioning process, the feature that reduces impurity the most is chosen. This means that unimportant features, are ignored by the tree. As a result, feature selection is not necessary, when working with decision trees.</p>"
   ]
  },
  {
   "cell_type": "markdown",
   "metadata": {},
   "source": [
    "<p>Decision trees do well on most problems, even if it makes slightly erroneous assumptions, about the nature of the data that is used to build it.</p>\n",
    "<p>Decision trees are useful on both small and large data sets. However, similar to other non-parametric models, the predictive accuracy of a decision tree, tends to improve as it encounters more training examples.</p>"
   ]
  },
  {
   "cell_type": "markdown",
   "metadata": {},
   "source": [
    "<p>There are some weaknesses inherent with decision trees, as well. The recursive partitioning process tends to be biased, toward features with a large number of unique values, when using entropy as a measure of impurity.</p>"
   ]
  },
  {
   "cell_type": "markdown",
   "metadata": {},
   "source": [
    "<p>Decision trees can be rather unstable, because small changes in data can result in large changes, in the structure of the tree. This limitation is mitigated by using decision trees, as part of an ensemble.<p>"
   ]
  },
  {
   "cell_type": "markdown",
   "metadata": {},
   "source": [
    "<p>Decision trees are non-parametric models. This means that they make very few assumptions, about the data. A decision tree attempts to describe the training data, as closely as possible.</p>\n",
    "<p>If not properly remediated, they can easily over fit against the training data.</p>"
   ]
  },
  {
   "cell_type": "markdown",
   "metadata": {},
   "source": [
    "<p>Decision trees can also under fit, if the pruning process is overly aggressive. Decision trees are limited to axis-parallel splits. This means that you can only split data, horizontally or vertically, during the recursive partitioning process.</p>\n",
    "<p>This limits the usefulness of decision trees, in certain problem domains.</p>\n",
    "<p>While decision trees are easy to understand, very large trees can be rather difficult to interpret.</p>"
   ]
  },
  {
   "cell_type": "markdown",
   "metadata": {},
   "source": [
    "</p>Decision trees tend to be biased, if the training data suffers from class imbalance. To mitigate this, we often have to balance the training data, before trying to fit a decision tree to it.</p>"
   ]
  }
 ],
 "metadata": {
  "kernelspec": {
   "display_name": "Python 3",
   "language": "python",
   "name": "python3"
  },
  "language_info": {
   "codemirror_mode": {
    "name": "ipython",
    "version": 3
   },
   "file_extension": ".py",
   "mimetype": "text/x-python",
   "name": "python",
   "nbconvert_exporter": "python",
   "pygments_lexer": "ipython3",
   "version": "3.12.4"
  }
 },
 "nbformat": 4,
 "nbformat_minor": 2
}
